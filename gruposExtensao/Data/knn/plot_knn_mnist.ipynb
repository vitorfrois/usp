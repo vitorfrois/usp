{
 "cells": [
  {
   "cell_type": "code",
   "execution_count": 11,
   "metadata": {},
   "outputs": [],
   "source": [
    "%matplotlib inline"
   ]
  },
  {
   "cell_type": "markdown",
   "metadata": {},
   "source": [
    "\n",
    "# K-NN on the MNIST dataset - PyTorch API\n",
    "\n",
    "The :mod:`.argKmin(K)` reduction supported by KeOps :class:`pykeops.torch.LazyTensor` allows us\n",
    "to perform **bruteforce k-nearest neighbors search** with four lines of code.\n",
    "It can thus be used to implement a **large-scale** \n",
    "`K-NN classifier <https://en.wikipedia.org/wiki/K-nearest_neighbors_algorithm>`_,\n",
    "**without memory overflows** on the \n",
    "full `MNIST <http://yann.lecun.com/exdb/mnist/>`_ dataset.\n"
   ]
  },
  {
   "cell_type": "markdown",
   "metadata": {},
   "source": [
    "## Setup\n",
    "Standard imports:\n",
    "\n"
   ]
  },
  {
   "cell_type": "code",
   "execution_count": 12,
   "metadata": {},
   "outputs": [],
   "source": [
    "import time\n",
    "\n",
    "import torch\n",
    "from matplotlib import pyplot as plt\n",
    "\n",
    "from pykeops.torch import LazyTensor\n",
    "\n",
    "use_cuda = torch.cuda.is_available()\n",
    "tensor = torch.cuda.FloatTensor if use_cuda else torch.FloatTensor"
   ]
  },
  {
   "cell_type": "markdown",
   "metadata": {},
   "source": [
    "Load the MNIST dataset: 70,000 images of shape (28,28).\n",
    "\n"
   ]
  },
  {
   "cell_type": "code",
   "execution_count": 13,
   "metadata": {},
   "outputs": [],
   "source": [
    "try:\n",
    "    from sklearn.datasets import fetch_openml\n",
    "except ImportError:\n",
    "    raise ImportError(\"This tutorial requires Scikit Learn version >= 0.20.\")\n",
    "\n",
    "mnist = fetch_openml(\"mnist_784\", cache=False, as_frame=False)\n",
    "\n",
    "x = tensor(mnist.data.astype(\"float32\"))\n",
    "y = tensor(mnist.target.astype(\"int64\"))"
   ]
  },
  {
   "cell_type": "markdown",
   "metadata": {},
   "source": [
    "Split it into a train and test set:\n",
    "\n"
   ]
  },
  {
   "cell_type": "code",
   "execution_count": 14,
   "metadata": {},
   "outputs": [],
   "source": [
    "D = x.shape[1]\n",
    "Ntrain, Ntest = (60000, 10000) if use_cuda else (1000, 100)\n",
    "x_train, y_train = x[:Ntrain, :].contiguous(), y[:Ntrain].contiguous()\n",
    "x_test, y_test = (\n",
    "    x[Ntrain : Ntrain + Ntest, :].contiguous(),\n",
    "    y[Ntrain : Ntrain + Ntest].contiguous(),\n",
    ")"
   ]
  },
  {
   "cell_type": "markdown",
   "metadata": {},
   "source": [
    "## K-Nearest Neighbors search\n",
    "Perform the K-NN classification on 10,000 test images in dimension 784:\n",
    "\n",
    "\n"
   ]
  },
  {
   "cell_type": "code",
   "execution_count": 15,
   "metadata": {},
   "outputs": [
    {
     "name": "stdout",
     "output_type": "stream",
     "text": [
      "3-NN on the full MNIST dataset: test error = 20.00% in 0.15s.\n"
     ]
    }
   ],
   "source": [
    "K = 3  # N.B.: K has very little impact on the running time\n",
    "\n",
    "start = time.time()  # Benchmark:\n",
    "\n",
    "X_i = LazyTensor(x_test[:, None, :])  # (10000, 1, 784) test set\n",
    "X_j = LazyTensor(x_train[None, :, :])  # (1, 60000, 784) train set\n",
    "D_ij = ((X_i - X_j) ** 2).sum(\n",
    "    -1\n",
    ")  # (10000, 60000) symbolic matrix of squared L2 distances\n",
    "\n",
    "ind_knn = D_ij.argKmin(K, dim=1)  # Samples <-> Dataset, (N_test, K)\n",
    "lab_knn = y_train[ind_knn]  # (N_test, K) array of integers in [0,9]\n",
    "y_knn, _ = lab_knn.mode()  # Compute the most likely label\n",
    "\n",
    "if use_cuda:\n",
    "    torch.cuda.synchronize()\n",
    "end = time.time()\n",
    "\n",
    "error = (y_knn != y_test).float().mean().item()\n",
    "time = end - start\n",
    "\n",
    "print(\n",
    "    \"{}-NN on the full MNIST dataset: test error = {:.2f}% in {:.2f}s.\".format(\n",
    "        K, error * 100, time\n",
    "    )\n",
    ")"
   ]
  },
  {
   "cell_type": "markdown",
   "metadata": {},
   "source": [
    "Fancy display: looks good!\n",
    "\n"
   ]
  },
  {
   "cell_type": "code",
   "execution_count": 16,
   "metadata": {},
   "outputs": [
    {
     "data": {
      "image/png": "[encoded data removed]",
      "text/plain": [
       "<Figure size 864x576 with 6 Axes>"
      ]
     },
     "metadata": {
      "needs_background": "light"
     },
     "output_type": "display_data"
    }
   ],
   "source": [
    "plt.figure(figsize=(12, 8))\n",
    "for i in range(6):\n",
    "    ax = plt.subplot(2, 3, i + 1)\n",
    "    ax.imshow((255 - x_test[i]).view(28, 28).detach().cpu().numpy(), cmap=\"gray\")\n",
    "    ax.set_title(\"label = {}\".format(y_knn[i].int()))\n",
    "    plt.axis(\"off\")\n",
    "\n",
    "plt.show()"
   ]
  },
  {
   "cell_type": "code",
   "execution_count": null,
   "metadata": {},
   "outputs": [],
   "source": []
  },
  {
   "cell_type": "code",
   "execution_count": null,
   "metadata": {},
   "outputs": [],
   "source": []
  },
  {
   "cell_type": "code",
   "execution_count": null,
   "metadata": {},
   "outputs": [],
   "source": []
  },
  {
   "cell_type": "code",
   "execution_count": null,
   "metadata": {},
   "outputs": [],
   "source": []
  },
  {
   "cell_type": "code",
   "execution_count": null,
   "metadata": {},
   "outputs": [],
   "source": []
  },
  {
   "cell_type": "code",
   "execution_count": null,
   "metadata": {},
   "outputs": [],
   "source": []
  }
 ],
 "metadata": {
  "kernelspec": {
   "display_name": "Python 3 (ipykernel)",
   "language": "python",
   "name": "python3"
  },
  "language_info": {
   "codemirror_mode": {
    "name": "ipython",
    "version": 3
   },
   "file_extension": ".py",
   "mimetype": "text/x-python",
   "name": "python",
   "nbconvert_exporter": "python",
   "pygments_lexer": "ipython3",
   "version": "3.10.2"
  }
 },
 "nbformat": 4,
 "nbformat_minor": 1
}
