{
 "cells": [
  {
   "cell_type": "markdown",
   "metadata": {
    "id": "mq2qkNIvFeNZ"
   },
   "source": [
    "# Introdução Machine Learning - Data ICMC-USP\n",
    "\n",
    "## Tarefa Aula 02 - Introdução a EDA\n",
    "\n",
    "Esse material foi desenvolvido pelo **Data**, grupo de extensão de aprendizado e ciência de dados compostos por alunos do Instituto de Ciências Matemáticas e de Computação da USP\n",
    "\n",
    "Para saber mais sobre as atividades do Data entre no nosso site e nos siga e nossas redes sociais:\n",
    "- [Site](http://data.icmc.usp.br/)\n",
    "- [Twitter](https://twitter.com/data_icmc)\n",
    "- [LinkedIn](https://www.linkedin.com/school/data-icmc/)\n",
    "- [Facebook](https://www.facebook.com/dataICMC/)\n",
    "\n",
    "Fonte dos dados utilizados:\n",
    "https://www.kaggle.com/avikasliwal/used-cars-price-prediction\n",
    "\n",
    "O objetivo dessa prática é demonstrar o uso de ferramentas do Python para EDA. \n",
    "\n",
    "\n",
    "Aproveite o material!"
   ]
  },
  {
   "cell_type": "code",
   "execution_count": 1,
   "metadata": {
    "id": "JwdL4uuX_9oU"
   },
   "outputs": [],
   "source": [
    "#importando as bibliotecas\n",
    "\n",
    "import numpy as np\n",
    "import pandas as pd\n",
    "import matplotlib.pyplot as plt\n",
    "import seaborn as sns"
   ]
  },
  {
   "cell_type": "markdown",
   "metadata": {
    "id": "BZMWOx96E4DO"
   },
   "source": [
    "## Lendo e Limpando os Dados\n",
    "\n",
    "  Leia o dataset fornecido no formato Dataframe do Pandas. Os dados fornecem características de carros usados vendidos na Índia."
   ]
  },
  {
   "cell_type": "code",
   "execution_count": 2,
   "metadata": {
    "id": "YPhuXEPkF1vN"
   },
   "outputs": [
    {
     "data": {
      "text/html": [
       "<div>\n",
       "<style scoped>\n",
       "    .dataframe tbody tr th:only-of-type {\n",
       "        vertical-align: middle;\n",
       "    }\n",
       "\n",
       "    .dataframe tbody tr th {\n",
       "        vertical-align: top;\n",
       "    }\n",
       "\n",
       "    .dataframe thead th {\n",
       "        text-align: right;\n",
       "    }\n",
       "</style>\n",
       "<table border=\"1\" class=\"dataframe\">\n",
       "  <thead>\n",
       "    <tr style=\"text-align: right;\">\n",
       "      <th></th>\n",
       "      <th>Unnamed: 0</th>\n",
       "      <th>Name</th>\n",
       "      <th>Location</th>\n",
       "      <th>Year</th>\n",
       "      <th>Kilometers_Driven</th>\n",
       "      <th>Fuel_Type</th>\n",
       "      <th>Transmission</th>\n",
       "      <th>Owner_Type</th>\n",
       "      <th>Mileage</th>\n",
       "      <th>Engine</th>\n",
       "      <th>Power</th>\n",
       "      <th>Seats</th>\n",
       "      <th>New_Price</th>\n",
       "      <th>Price</th>\n",
       "    </tr>\n",
       "  </thead>\n",
       "  <tbody>\n",
       "    <tr>\n",
       "      <th>0</th>\n",
       "      <td>0</td>\n",
       "      <td>Maruti Wagon R LXI CNG</td>\n",
       "      <td>Mumbai</td>\n",
       "      <td>2010</td>\n",
       "      <td>72000</td>\n",
       "      <td>CNG</td>\n",
       "      <td>Manual</td>\n",
       "      <td>First</td>\n",
       "      <td>26.6 km/kg</td>\n",
       "      <td>998 CC</td>\n",
       "      <td>58.16 bhp</td>\n",
       "      <td>5.0</td>\n",
       "      <td>NaN</td>\n",
       "      <td>1.75</td>\n",
       "    </tr>\n",
       "    <tr>\n",
       "      <th>1</th>\n",
       "      <td>1</td>\n",
       "      <td>Hyundai Creta 1.6 CRDi SX Option</td>\n",
       "      <td>Pune</td>\n",
       "      <td>2015</td>\n",
       "      <td>41000</td>\n",
       "      <td>Diesel</td>\n",
       "      <td>Manual</td>\n",
       "      <td>First</td>\n",
       "      <td>19.67 kmpl</td>\n",
       "      <td>1582 CC</td>\n",
       "      <td>126.2 bhp</td>\n",
       "      <td>5.0</td>\n",
       "      <td>NaN</td>\n",
       "      <td>12.50</td>\n",
       "    </tr>\n",
       "    <tr>\n",
       "      <th>2</th>\n",
       "      <td>2</td>\n",
       "      <td>Honda Jazz V</td>\n",
       "      <td>Chennai</td>\n",
       "      <td>2011</td>\n",
       "      <td>46000</td>\n",
       "      <td>Petrol</td>\n",
       "      <td>Manual</td>\n",
       "      <td>First</td>\n",
       "      <td>18.2 kmpl</td>\n",
       "      <td>1199 CC</td>\n",
       "      <td>88.7 bhp</td>\n",
       "      <td>5.0</td>\n",
       "      <td>8.61 Lakh</td>\n",
       "      <td>4.50</td>\n",
       "    </tr>\n",
       "    <tr>\n",
       "      <th>3</th>\n",
       "      <td>3</td>\n",
       "      <td>Maruti Ertiga VDI</td>\n",
       "      <td>Chennai</td>\n",
       "      <td>2012</td>\n",
       "      <td>87000</td>\n",
       "      <td>Diesel</td>\n",
       "      <td>Manual</td>\n",
       "      <td>First</td>\n",
       "      <td>20.77 kmpl</td>\n",
       "      <td>1248 CC</td>\n",
       "      <td>88.76 bhp</td>\n",
       "      <td>7.0</td>\n",
       "      <td>NaN</td>\n",
       "      <td>6.00</td>\n",
       "    </tr>\n",
       "    <tr>\n",
       "      <th>4</th>\n",
       "      <td>4</td>\n",
       "      <td>Audi A4 New 2.0 TDI Multitronic</td>\n",
       "      <td>Coimbatore</td>\n",
       "      <td>2013</td>\n",
       "      <td>40670</td>\n",
       "      <td>Diesel</td>\n",
       "      <td>Automatic</td>\n",
       "      <td>Second</td>\n",
       "      <td>15.2 kmpl</td>\n",
       "      <td>1968 CC</td>\n",
       "      <td>140.8 bhp</td>\n",
       "      <td>5.0</td>\n",
       "      <td>NaN</td>\n",
       "      <td>17.74</td>\n",
       "    </tr>\n",
       "  </tbody>\n",
       "</table>\n",
       "</div>"
      ],
      "text/plain": [
       "   Unnamed: 0                              Name    Location  Year  \\\n",
       "0           0            Maruti Wagon R LXI CNG      Mumbai  2010   \n",
       "1           1  Hyundai Creta 1.6 CRDi SX Option        Pune  2015   \n",
       "2           2                      Honda Jazz V     Chennai  2011   \n",
       "3           3                 Maruti Ertiga VDI     Chennai  2012   \n",
       "4           4   Audi A4 New 2.0 TDI Multitronic  Coimbatore  2013   \n",
       "\n",
       "   Kilometers_Driven Fuel_Type Transmission Owner_Type     Mileage   Engine  \\\n",
       "0              72000       CNG       Manual      First  26.6 km/kg   998 CC   \n",
       "1              41000    Diesel       Manual      First  19.67 kmpl  1582 CC   \n",
       "2              46000    Petrol       Manual      First   18.2 kmpl  1199 CC   \n",
       "3              87000    Diesel       Manual      First  20.77 kmpl  1248 CC   \n",
       "4              40670    Diesel    Automatic     Second   15.2 kmpl  1968 CC   \n",
       "\n",
       "       Power  Seats  New_Price  Price  \n",
       "0  58.16 bhp    5.0        NaN   1.75  \n",
       "1  126.2 bhp    5.0        NaN  12.50  \n",
       "2   88.7 bhp    5.0  8.61 Lakh   4.50  \n",
       "3  88.76 bhp    7.0        NaN   6.00  \n",
       "4  140.8 bhp    5.0        NaN  17.74  "
      ]
     },
     "execution_count": 2,
     "metadata": {},
     "output_type": "execute_result"
    }
   ],
   "source": [
    "##############################################################\n",
    "#                       PREENCHA AQUI:                       #\n",
    "#  - Leia os dados de data.csv com pd.read_csv e guarde      #\n",
    "# na variável df                                             #\n",
    "##############################################################\n",
    "df = pd.read_csv('data.csv')\n",
    "\n",
    "\n",
    "##############################################################\n",
    "\n",
    "df.head()"
   ]
  },
  {
   "cell_type": "code",
   "execution_count": 3,
   "metadata": {
    "id": "0ztHBgtHCPPG"
   },
   "outputs": [
    {
     "data": {
      "text/html": [
       "<div>\n",
       "<style scoped>\n",
       "    .dataframe tbody tr th:only-of-type {\n",
       "        vertical-align: middle;\n",
       "    }\n",
       "\n",
       "    .dataframe tbody tr th {\n",
       "        vertical-align: top;\n",
       "    }\n",
       "\n",
       "    .dataframe thead th {\n",
       "        text-align: right;\n",
       "    }\n",
       "</style>\n",
       "<table border=\"1\" class=\"dataframe\">\n",
       "  <thead>\n",
       "    <tr style=\"text-align: right;\">\n",
       "      <th></th>\n",
       "      <th>Unnamed: 0</th>\n",
       "      <th>Name</th>\n",
       "      <th>Location</th>\n",
       "      <th>Year</th>\n",
       "      <th>Kilometers_Driven</th>\n",
       "      <th>Fuel_Type</th>\n",
       "      <th>Transmission</th>\n",
       "      <th>Owner_Type</th>\n",
       "      <th>Mileage</th>\n",
       "      <th>Engine</th>\n",
       "      <th>Power</th>\n",
       "      <th>Seats</th>\n",
       "      <th>New_Price</th>\n",
       "      <th>Price</th>\n",
       "    </tr>\n",
       "  </thead>\n",
       "  <tbody>\n",
       "    <tr>\n",
       "      <th>5323</th>\n",
       "      <td>5323</td>\n",
       "      <td>Ford Endeavour 3.2 Titanium AT 4X4</td>\n",
       "      <td>Chennai</td>\n",
       "      <td>2017</td>\n",
       "      <td>17000</td>\n",
       "      <td>Diesel</td>\n",
       "      <td>Automatic</td>\n",
       "      <td>First</td>\n",
       "      <td>10.91 kmpl</td>\n",
       "      <td>3198 CC</td>\n",
       "      <td>197 bhp</td>\n",
       "      <td>7.0</td>\n",
       "      <td>NaN</td>\n",
       "      <td>31.0</td>\n",
       "    </tr>\n",
       "    <tr>\n",
       "      <th>5776</th>\n",
       "      <td>5776</td>\n",
       "      <td>Audi A4 2.0 TDI 177 Bhp Premium Plus</td>\n",
       "      <td>Chennai</td>\n",
       "      <td>2014</td>\n",
       "      <td>40000</td>\n",
       "      <td>Diesel</td>\n",
       "      <td>Automatic</td>\n",
       "      <td>First</td>\n",
       "      <td>17.11 kmpl</td>\n",
       "      <td>1968 CC</td>\n",
       "      <td>174.33 bhp</td>\n",
       "      <td>5.0</td>\n",
       "      <td>NaN</td>\n",
       "      <td>22.0</td>\n",
       "    </tr>\n",
       "    <tr>\n",
       "      <th>4940</th>\n",
       "      <td>4940</td>\n",
       "      <td>Chevrolet Cruze LTZ</td>\n",
       "      <td>Hyderabad</td>\n",
       "      <td>2012</td>\n",
       "      <td>62005</td>\n",
       "      <td>Diesel</td>\n",
       "      <td>Manual</td>\n",
       "      <td>First</td>\n",
       "      <td>18.3 kmpl</td>\n",
       "      <td>1991 CC</td>\n",
       "      <td>147.9 bhp</td>\n",
       "      <td>5.0</td>\n",
       "      <td>NaN</td>\n",
       "      <td>9.8</td>\n",
       "    </tr>\n",
       "    <tr>\n",
       "      <th>5832</th>\n",
       "      <td>5832</td>\n",
       "      <td>Maruti Baleno Alpha 1.3</td>\n",
       "      <td>Jaipur</td>\n",
       "      <td>2015</td>\n",
       "      <td>98000</td>\n",
       "      <td>Diesel</td>\n",
       "      <td>Manual</td>\n",
       "      <td>First</td>\n",
       "      <td>27.39 kmpl</td>\n",
       "      <td>1248 CC</td>\n",
       "      <td>74 bhp</td>\n",
       "      <td>5.0</td>\n",
       "      <td>NaN</td>\n",
       "      <td>5.5</td>\n",
       "    </tr>\n",
       "    <tr>\n",
       "      <th>3959</th>\n",
       "      <td>3959</td>\n",
       "      <td>Maruti Celerio ZXI AT Optional</td>\n",
       "      <td>Pune</td>\n",
       "      <td>2016</td>\n",
       "      <td>64000</td>\n",
       "      <td>Petrol</td>\n",
       "      <td>Automatic</td>\n",
       "      <td>First</td>\n",
       "      <td>23.1 kmpl</td>\n",
       "      <td>998 CC</td>\n",
       "      <td>67.04 bhp</td>\n",
       "      <td>5.0</td>\n",
       "      <td>NaN</td>\n",
       "      <td>4.2</td>\n",
       "    </tr>\n",
       "  </tbody>\n",
       "</table>\n",
       "</div>"
      ],
      "text/plain": [
       "      Unnamed: 0                                  Name   Location  Year  \\\n",
       "5323        5323    Ford Endeavour 3.2 Titanium AT 4X4    Chennai  2017   \n",
       "5776        5776  Audi A4 2.0 TDI 177 Bhp Premium Plus    Chennai  2014   \n",
       "4940        4940                   Chevrolet Cruze LTZ  Hyderabad  2012   \n",
       "5832        5832               Maruti Baleno Alpha 1.3     Jaipur  2015   \n",
       "3959        3959        Maruti Celerio ZXI AT Optional       Pune  2016   \n",
       "\n",
       "      Kilometers_Driven Fuel_Type Transmission Owner_Type     Mileage  \\\n",
       "5323              17000    Diesel    Automatic      First  10.91 kmpl   \n",
       "5776              40000    Diesel    Automatic      First  17.11 kmpl   \n",
       "4940              62005    Diesel       Manual      First   18.3 kmpl   \n",
       "5832              98000    Diesel       Manual      First  27.39 kmpl   \n",
       "3959              64000    Petrol    Automatic      First   23.1 kmpl   \n",
       "\n",
       "       Engine       Power  Seats New_Price  Price  \n",
       "5323  3198 CC     197 bhp    7.0       NaN   31.0  \n",
       "5776  1968 CC  174.33 bhp    5.0       NaN   22.0  \n",
       "4940  1991 CC   147.9 bhp    5.0       NaN    9.8  \n",
       "5832  1248 CC      74 bhp    5.0       NaN    5.5  \n",
       "3959   998 CC   67.04 bhp    5.0       NaN    4.2  "
      ]
     },
     "execution_count": 3,
     "metadata": {},
     "output_type": "execute_result"
    }
   ],
   "source": [
    "## A função sample pode ser uma alternativa ao head. \n",
    "## Ela pega uma amostra aleatória dos dados \n",
    "df.sample(5)"
   ]
  },
  {
   "cell_type": "code",
   "execution_count": 4,
   "metadata": {
    "id": "KcYt0b4AQTUM"
   },
   "outputs": [
    {
     "data": {
      "text/plain": [
       "Unnamed: 0             int64\n",
       "Name                  object\n",
       "Location              object\n",
       "Year                   int64\n",
       "Kilometers_Driven      int64\n",
       "Fuel_Type             object\n",
       "Transmission          object\n",
       "Owner_Type            object\n",
       "Mileage               object\n",
       "Engine                object\n",
       "Power                 object\n",
       "Seats                float64\n",
       "New_Price             object\n",
       "Price                float64\n",
       "dtype: object"
      ]
     },
     "execution_count": 4,
     "metadata": {},
     "output_type": "execute_result"
    }
   ],
   "source": [
    "#podemos usar o dtypes para saber o tipo de variável que é armazenado em cada coluna\n",
    "df.dtypes"
   ]
  },
  {
   "cell_type": "markdown",
   "metadata": {
    "id": "S4td5i8xPxc1"
   },
   "source": [
    "Observe as colunas e classifique cada coluna no tipo numérico ou categórico."
   ]
  },
  {
   "cell_type": "code",
   "execution_count": 5,
   "metadata": {
    "id": "FMN35ul_HkDO"
   },
   "outputs": [
    {
     "data": {
      "text/html": [
       "<div>\n",
       "<style scoped>\n",
       "    .dataframe tbody tr th:only-of-type {\n",
       "        vertical-align: middle;\n",
       "    }\n",
       "\n",
       "    .dataframe tbody tr th {\n",
       "        vertical-align: top;\n",
       "    }\n",
       "\n",
       "    .dataframe thead th {\n",
       "        text-align: right;\n",
       "    }\n",
       "</style>\n",
       "<table border=\"1\" class=\"dataframe\">\n",
       "  <thead>\n",
       "    <tr style=\"text-align: right;\">\n",
       "      <th></th>\n",
       "      <th>Name</th>\n",
       "      <th>Location</th>\n",
       "      <th>Year</th>\n",
       "      <th>Kilometers_Driven</th>\n",
       "      <th>Fuel_Type</th>\n",
       "      <th>Transmission</th>\n",
       "      <th>Owner_Type</th>\n",
       "      <th>Mileage</th>\n",
       "      <th>Engine</th>\n",
       "      <th>Power</th>\n",
       "      <th>Seats</th>\n",
       "      <th>New_Price</th>\n",
       "      <th>Price</th>\n",
       "    </tr>\n",
       "  </thead>\n",
       "  <tbody>\n",
       "    <tr>\n",
       "      <th>0</th>\n",
       "      <td>Maruti Wagon R LXI CNG</td>\n",
       "      <td>Mumbai</td>\n",
       "      <td>2010</td>\n",
       "      <td>72000</td>\n",
       "      <td>CNG</td>\n",
       "      <td>Manual</td>\n",
       "      <td>First</td>\n",
       "      <td>26.6 km/kg</td>\n",
       "      <td>998 CC</td>\n",
       "      <td>58.16 bhp</td>\n",
       "      <td>5.0</td>\n",
       "      <td>NaN</td>\n",
       "      <td>1.75</td>\n",
       "    </tr>\n",
       "    <tr>\n",
       "      <th>1</th>\n",
       "      <td>Hyundai Creta 1.6 CRDi SX Option</td>\n",
       "      <td>Pune</td>\n",
       "      <td>2015</td>\n",
       "      <td>41000</td>\n",
       "      <td>Diesel</td>\n",
       "      <td>Manual</td>\n",
       "      <td>First</td>\n",
       "      <td>19.67 kmpl</td>\n",
       "      <td>1582 CC</td>\n",
       "      <td>126.2 bhp</td>\n",
       "      <td>5.0</td>\n",
       "      <td>NaN</td>\n",
       "      <td>12.50</td>\n",
       "    </tr>\n",
       "    <tr>\n",
       "      <th>2</th>\n",
       "      <td>Honda Jazz V</td>\n",
       "      <td>Chennai</td>\n",
       "      <td>2011</td>\n",
       "      <td>46000</td>\n",
       "      <td>Petrol</td>\n",
       "      <td>Manual</td>\n",
       "      <td>First</td>\n",
       "      <td>18.2 kmpl</td>\n",
       "      <td>1199 CC</td>\n",
       "      <td>88.7 bhp</td>\n",
       "      <td>5.0</td>\n",
       "      <td>8.61 Lakh</td>\n",
       "      <td>4.50</td>\n",
       "    </tr>\n",
       "    <tr>\n",
       "      <th>3</th>\n",
       "      <td>Maruti Ertiga VDI</td>\n",
       "      <td>Chennai</td>\n",
       "      <td>2012</td>\n",
       "      <td>87000</td>\n",
       "      <td>Diesel</td>\n",
       "      <td>Manual</td>\n",
       "      <td>First</td>\n",
       "      <td>20.77 kmpl</td>\n",
       "      <td>1248 CC</td>\n",
       "      <td>88.76 bhp</td>\n",
       "      <td>7.0</td>\n",
       "      <td>NaN</td>\n",
       "      <td>6.00</td>\n",
       "    </tr>\n",
       "    <tr>\n",
       "      <th>4</th>\n",
       "      <td>Audi A4 New 2.0 TDI Multitronic</td>\n",
       "      <td>Coimbatore</td>\n",
       "      <td>2013</td>\n",
       "      <td>40670</td>\n",
       "      <td>Diesel</td>\n",
       "      <td>Automatic</td>\n",
       "      <td>Second</td>\n",
       "      <td>15.2 kmpl</td>\n",
       "      <td>1968 CC</td>\n",
       "      <td>140.8 bhp</td>\n",
       "      <td>5.0</td>\n",
       "      <td>NaN</td>\n",
       "      <td>17.74</td>\n",
       "    </tr>\n",
       "  </tbody>\n",
       "</table>\n",
       "</div>"
      ],
      "text/plain": [
       "                               Name    Location  Year  Kilometers_Driven  \\\n",
       "0            Maruti Wagon R LXI CNG      Mumbai  2010              72000   \n",
       "1  Hyundai Creta 1.6 CRDi SX Option        Pune  2015              41000   \n",
       "2                      Honda Jazz V     Chennai  2011              46000   \n",
       "3                 Maruti Ertiga VDI     Chennai  2012              87000   \n",
       "4   Audi A4 New 2.0 TDI Multitronic  Coimbatore  2013              40670   \n",
       "\n",
       "  Fuel_Type Transmission Owner_Type     Mileage   Engine      Power  Seats  \\\n",
       "0       CNG       Manual      First  26.6 km/kg   998 CC  58.16 bhp    5.0   \n",
       "1    Diesel       Manual      First  19.67 kmpl  1582 CC  126.2 bhp    5.0   \n",
       "2    Petrol       Manual      First   18.2 kmpl  1199 CC   88.7 bhp    5.0   \n",
       "3    Diesel       Manual      First  20.77 kmpl  1248 CC  88.76 bhp    7.0   \n",
       "4    Diesel    Automatic     Second   15.2 kmpl  1968 CC  140.8 bhp    5.0   \n",
       "\n",
       "   New_Price  Price  \n",
       "0        NaN   1.75  \n",
       "1        NaN  12.50  \n",
       "2  8.61 Lakh   4.50  \n",
       "3        NaN   6.00  \n",
       "4        NaN  17.74  "
      ]
     },
     "execution_count": 5,
     "metadata": {},
     "output_type": "execute_result"
    }
   ],
   "source": [
    "##############################################################\n",
    "#                       PREENCHA AQUI:                       #\n",
    "#  - A coluna 'Unnamed: 0' é apenas um índice. Vamos         #\n",
    "#    remove-la com o comando drop do pandas                  #\n",
    "#                                                            #\n",
    "#                                                            #\n",
    "# OBS: Queremos dropar no sentido das colunas, usar axis=1   #\n",
    "##############################################################\n",
    "#seu código aqui\n",
    "df = df.drop(columns = 'Unnamed: 0', axis = 1)\n",
    "\n",
    "##############################################################\n",
    "\n",
    "df.head()"
   ]
  },
  {
   "cell_type": "code",
   "execution_count": 44,
   "metadata": {},
   "outputs": [
    {
     "data": {
      "text/plain": [
       "['Year', 'Kilometers_Driven', 'Fuel_Type', 'Transmission']"
      ]
     },
     "execution_count": 44,
     "metadata": {},
     "output_type": "execute_result"
    }
   ],
   "source": []
  },
  {
   "cell_type": "markdown",
   "metadata": {
    "id": "hdNIHFZ0IoWT"
   },
   "source": [
    "Os datasets dificilmente estão 100% limpos, com todos os seus valores preenchidos. Por isso é sempre importante checar quais colunas possuem valores nulos."
   ]
  },
  {
   "cell_type": "code",
   "execution_count": 6,
   "metadata": {
    "id": "r52CJG9GDgDW"
   },
   "outputs": [
    {
     "name": "stdout",
     "output_type": "stream",
     "text": [
      "       Name  Location   Year  Kilometers_Driven  Fuel_Type  Transmission  \\\n",
      "0     False     False  False              False      False         False   \n",
      "1     False     False  False              False      False         False   \n",
      "2     False     False  False              False      False         False   \n",
      "3     False     False  False              False      False         False   \n",
      "4     False     False  False              False      False         False   \n",
      "...     ...       ...    ...                ...        ...           ...   \n",
      "6014  False     False  False              False      False         False   \n",
      "6015  False     False  False              False      False         False   \n",
      "6016  False     False  False              False      False         False   \n",
      "6017  False     False  False              False      False         False   \n",
      "6018  False     False  False              False      False         False   \n",
      "\n",
      "      Owner_Type  Mileage  Engine  Power  Seats  New_Price  Price  \n",
      "0          False    False   False  False  False       True  False  \n",
      "1          False    False   False  False  False       True  False  \n",
      "2          False    False   False  False  False      False  False  \n",
      "3          False    False   False  False  False       True  False  \n",
      "4          False    False   False  False  False       True  False  \n",
      "...          ...      ...     ...    ...    ...        ...    ...  \n",
      "6014       False    False   False  False  False      False  False  \n",
      "6015       False    False   False  False  False       True  False  \n",
      "6016       False    False   False  False  False       True  False  \n",
      "6017       False    False   False  False  False       True  False  \n",
      "6018       False    False   False  False  False       True  False  \n",
      "\n",
      "[6019 rows x 13 columns]\n"
     ]
    }
   ],
   "source": [
    "# O isnull() gera uma cópia do df com false onde nos valores\n",
    "# não nulos e true onde tinham valores nulos, na pratica é uma tabela que diz onde tem valores nulos\n",
    "null_table = df.isnull()\n",
    "print(null_table)"
   ]
  },
  {
   "cell_type": "code",
   "execution_count": 7,
   "metadata": {
    "id": "pXJQPdO8K3kg"
   },
   "outputs": [
    {
     "name": "stdout",
     "output_type": "stream",
     "text": [
      "Name                    0\n",
      "Location                0\n",
      "Year                    0\n",
      "Kilometers_Driven       0\n",
      "Fuel_Type               0\n",
      "Transmission            0\n",
      "Owner_Type              0\n",
      "Mileage                 2\n",
      "Engine                 36\n",
      "Power                  36\n",
      "Seats                  42\n",
      "New_Price            5195\n",
      "Price                   0\n",
      "dtype: int64\n"
     ]
    }
   ],
   "source": [
    "#agora usamos o sum() para facilitar a vizualização vamos obter a quantidade de nulos por coluna\n",
    "print(null_table.sum())"
   ]
  },
  {
   "cell_type": "code",
   "execution_count": 8,
   "metadata": {
    "id": "H_85v0kYK6pX"
   },
   "outputs": [
    {
     "name": "stdout",
     "output_type": "stream",
     "text": [
      "6019\n"
     ]
    }
   ],
   "source": [
    "#podemos fazer em apenas uma linha\n",
    "r, c = df.shape\n",
    "print(r)\n",
    "nullRows = df.New_Price.isnull().sum()\n"
   ]
  },
  {
   "cell_type": "markdown",
   "metadata": {
    "id": "65qMPeVwJx5E"
   },
   "source": [
    " A coluna New_Price tem muitos valores nulos. Vamos checar o tamanho do dataset. "
   ]
  },
  {
   "cell_type": "code",
   "execution_count": 9,
   "metadata": {
    "id": "LeQjiKgzMQk_"
   },
   "outputs": [
    {
     "name": "stdout",
     "output_type": "stream",
     "text": [
      "86.31001827546105 %\n"
     ]
    }
   ],
   "source": [
    "##############################################################\n",
    "#                       PREENCHA AQUI:                       #\n",
    "#  - Encontre a razão entre o númrto de nulos na coluna      #\n",
    "#    New_Price e o número de instâncias do dataset           #\n",
    "#                                                            #\n",
    "##############################################################\n",
    "\n",
    "ratio = nullRows/r * 100\n",
    "\n",
    "##############################################################\n",
    "\n",
    "print(ratio, \"%\")"
   ]
  },
  {
   "cell_type": "markdown",
   "metadata": {
    "id": "a9z5dWUhM5lQ"
   },
   "source": [
    "Quantos nulos são o suficiente para a exclusão de uma coluna? Essa resposta não é exata, e depende muito do contexto e do significado da feature. Nesse caso, como encontramos um ratio muito alto, vamos dropar a coluna New_Price, mas essa é sempre umas das questões que você deve pensar ao se trabalhar com um dataset."
   ]
  },
  {
   "cell_type": "code",
   "execution_count": 10,
   "metadata": {
    "id": "Z7F4Ft8iEBtl"
   },
   "outputs": [
    {
     "data": {
      "text/html": [
       "<div>\n",
       "<style scoped>\n",
       "    .dataframe tbody tr th:only-of-type {\n",
       "        vertical-align: middle;\n",
       "    }\n",
       "\n",
       "    .dataframe tbody tr th {\n",
       "        vertical-align: top;\n",
       "    }\n",
       "\n",
       "    .dataframe thead th {\n",
       "        text-align: right;\n",
       "    }\n",
       "</style>\n",
       "<table border=\"1\" class=\"dataframe\">\n",
       "  <thead>\n",
       "    <tr style=\"text-align: right;\">\n",
       "      <th></th>\n",
       "      <th>Name</th>\n",
       "      <th>Location</th>\n",
       "      <th>Year</th>\n",
       "      <th>Kilometers_Driven</th>\n",
       "      <th>Fuel_Type</th>\n",
       "      <th>Transmission</th>\n",
       "      <th>Owner_Type</th>\n",
       "      <th>Mileage</th>\n",
       "      <th>Engine</th>\n",
       "      <th>Power</th>\n",
       "      <th>Seats</th>\n",
       "      <th>Price</th>\n",
       "    </tr>\n",
       "  </thead>\n",
       "  <tbody>\n",
       "    <tr>\n",
       "      <th>0</th>\n",
       "      <td>Maruti Wagon R LXI CNG</td>\n",
       "      <td>Mumbai</td>\n",
       "      <td>2010</td>\n",
       "      <td>72000</td>\n",
       "      <td>CNG</td>\n",
       "      <td>Manual</td>\n",
       "      <td>First</td>\n",
       "      <td>26.6 km/kg</td>\n",
       "      <td>998 CC</td>\n",
       "      <td>58.16 bhp</td>\n",
       "      <td>5.0</td>\n",
       "      <td>1.75</td>\n",
       "    </tr>\n",
       "    <tr>\n",
       "      <th>1</th>\n",
       "      <td>Hyundai Creta 1.6 CRDi SX Option</td>\n",
       "      <td>Pune</td>\n",
       "      <td>2015</td>\n",
       "      <td>41000</td>\n",
       "      <td>Diesel</td>\n",
       "      <td>Manual</td>\n",
       "      <td>First</td>\n",
       "      <td>19.67 kmpl</td>\n",
       "      <td>1582 CC</td>\n",
       "      <td>126.2 bhp</td>\n",
       "      <td>5.0</td>\n",
       "      <td>12.50</td>\n",
       "    </tr>\n",
       "    <tr>\n",
       "      <th>2</th>\n",
       "      <td>Honda Jazz V</td>\n",
       "      <td>Chennai</td>\n",
       "      <td>2011</td>\n",
       "      <td>46000</td>\n",
       "      <td>Petrol</td>\n",
       "      <td>Manual</td>\n",
       "      <td>First</td>\n",
       "      <td>18.2 kmpl</td>\n",
       "      <td>1199 CC</td>\n",
       "      <td>88.7 bhp</td>\n",
       "      <td>5.0</td>\n",
       "      <td>4.50</td>\n",
       "    </tr>\n",
       "    <tr>\n",
       "      <th>3</th>\n",
       "      <td>Maruti Ertiga VDI</td>\n",
       "      <td>Chennai</td>\n",
       "      <td>2012</td>\n",
       "      <td>87000</td>\n",
       "      <td>Diesel</td>\n",
       "      <td>Manual</td>\n",
       "      <td>First</td>\n",
       "      <td>20.77 kmpl</td>\n",
       "      <td>1248 CC</td>\n",
       "      <td>88.76 bhp</td>\n",
       "      <td>7.0</td>\n",
       "      <td>6.00</td>\n",
       "    </tr>\n",
       "    <tr>\n",
       "      <th>4</th>\n",
       "      <td>Audi A4 New 2.0 TDI Multitronic</td>\n",
       "      <td>Coimbatore</td>\n",
       "      <td>2013</td>\n",
       "      <td>40670</td>\n",
       "      <td>Diesel</td>\n",
       "      <td>Automatic</td>\n",
       "      <td>Second</td>\n",
       "      <td>15.2 kmpl</td>\n",
       "      <td>1968 CC</td>\n",
       "      <td>140.8 bhp</td>\n",
       "      <td>5.0</td>\n",
       "      <td>17.74</td>\n",
       "    </tr>\n",
       "  </tbody>\n",
       "</table>\n",
       "</div>"
      ],
      "text/plain": [
       "                               Name    Location  Year  Kilometers_Driven  \\\n",
       "0            Maruti Wagon R LXI CNG      Mumbai  2010              72000   \n",
       "1  Hyundai Creta 1.6 CRDi SX Option        Pune  2015              41000   \n",
       "2                      Honda Jazz V     Chennai  2011              46000   \n",
       "3                 Maruti Ertiga VDI     Chennai  2012              87000   \n",
       "4   Audi A4 New 2.0 TDI Multitronic  Coimbatore  2013              40670   \n",
       "\n",
       "  Fuel_Type Transmission Owner_Type     Mileage   Engine      Power  Seats  \\\n",
       "0       CNG       Manual      First  26.6 km/kg   998 CC  58.16 bhp    5.0   \n",
       "1    Diesel       Manual      First  19.67 kmpl  1582 CC  126.2 bhp    5.0   \n",
       "2    Petrol       Manual      First   18.2 kmpl  1199 CC   88.7 bhp    5.0   \n",
       "3    Diesel       Manual      First  20.77 kmpl  1248 CC  88.76 bhp    7.0   \n",
       "4    Diesel    Automatic     Second   15.2 kmpl  1968 CC  140.8 bhp    5.0   \n",
       "\n",
       "   Price  \n",
       "0   1.75  \n",
       "1  12.50  \n",
       "2   4.50  \n",
       "3   6.00  \n",
       "4  17.74  "
      ]
     },
     "execution_count": 10,
     "metadata": {},
     "output_type": "execute_result"
    }
   ],
   "source": [
    "##############################################################\n",
    "#                       PREENCHA AQUI:                       #\n",
    "#  - Drope a coluna New_Price                                #\n",
    "#                                                            #\n",
    "##############################################################\n",
    "\n",
    "df = df.drop(columns = 'New_Price', axis = 1)\n",
    "\n",
    "\n",
    "##############################################################\n",
    "df.head()"
   ]
  },
  {
   "cell_type": "markdown",
   "metadata": {
    "id": "rovhWGL7PKdr"
   },
   "source": [
    "Quanto aos outros valores nulos, vamos apenas ignorá-los por hora por serem poucos valores e não serem o foco da prática. "
   ]
  },
  {
   "cell_type": "markdown",
   "metadata": {
    "id": "SsBWxA0DPimL"
   },
   "source": [
    "## Estatística Descritiva"
   ]
  },
  {
   "cell_type": "code",
   "execution_count": 11,
   "metadata": {
    "id": "l3eZMbudRMFV"
   },
   "outputs": [
    {
     "data": {
      "text/html": [
       "<div>\n",
       "<style scoped>\n",
       "    .dataframe tbody tr th:only-of-type {\n",
       "        vertical-align: middle;\n",
       "    }\n",
       "\n",
       "    .dataframe tbody tr th {\n",
       "        vertical-align: top;\n",
       "    }\n",
       "\n",
       "    .dataframe thead th {\n",
       "        text-align: right;\n",
       "    }\n",
       "</style>\n",
       "<table border=\"1\" class=\"dataframe\">\n",
       "  <thead>\n",
       "    <tr style=\"text-align: right;\">\n",
       "      <th></th>\n",
       "      <th>Name</th>\n",
       "      <th>Price</th>\n",
       "    </tr>\n",
       "  </thead>\n",
       "  <tbody>\n",
       "    <tr>\n",
       "      <th>0</th>\n",
       "      <td>Maruti Wagon R LXI CNG</td>\n",
       "      <td>1.75</td>\n",
       "    </tr>\n",
       "    <tr>\n",
       "      <th>1</th>\n",
       "      <td>Hyundai Creta 1.6 CRDi SX Option</td>\n",
       "      <td>12.50</td>\n",
       "    </tr>\n",
       "    <tr>\n",
       "      <th>2</th>\n",
       "      <td>Honda Jazz V</td>\n",
       "      <td>4.50</td>\n",
       "    </tr>\n",
       "    <tr>\n",
       "      <th>3</th>\n",
       "      <td>Maruti Ertiga VDI</td>\n",
       "      <td>6.00</td>\n",
       "    </tr>\n",
       "    <tr>\n",
       "      <th>4</th>\n",
       "      <td>Audi A4 New 2.0 TDI Multitronic</td>\n",
       "      <td>17.74</td>\n",
       "    </tr>\n",
       "    <tr>\n",
       "      <th>5</th>\n",
       "      <td>Hyundai EON LPG Era Plus Option</td>\n",
       "      <td>2.35</td>\n",
       "    </tr>\n",
       "    <tr>\n",
       "      <th>6</th>\n",
       "      <td>Nissan Micra Diesel XV</td>\n",
       "      <td>3.50</td>\n",
       "    </tr>\n",
       "    <tr>\n",
       "      <th>7</th>\n",
       "      <td>Toyota Innova Crysta 2.8 GX AT 8S</td>\n",
       "      <td>17.50</td>\n",
       "    </tr>\n",
       "    <tr>\n",
       "      <th>8</th>\n",
       "      <td>Volkswagen Vento Diesel Comfortline</td>\n",
       "      <td>5.20</td>\n",
       "    </tr>\n",
       "    <tr>\n",
       "      <th>9</th>\n",
       "      <td>Tata Indica Vista Quadrajet LS</td>\n",
       "      <td>1.95</td>\n",
       "    </tr>\n",
       "    <tr>\n",
       "      <th>10</th>\n",
       "      <td>Maruti Ciaz Zeta</td>\n",
       "      <td>9.95</td>\n",
       "    </tr>\n",
       "  </tbody>\n",
       "</table>\n",
       "</div>"
      ],
      "text/plain": [
       "                                   Name  Price\n",
       "0                Maruti Wagon R LXI CNG   1.75\n",
       "1      Hyundai Creta 1.6 CRDi SX Option  12.50\n",
       "2                          Honda Jazz V   4.50\n",
       "3                     Maruti Ertiga VDI   6.00\n",
       "4       Audi A4 New 2.0 TDI Multitronic  17.74\n",
       "5       Hyundai EON LPG Era Plus Option   2.35\n",
       "6                Nissan Micra Diesel XV   3.50\n",
       "7     Toyota Innova Crysta 2.8 GX AT 8S  17.50\n",
       "8   Volkswagen Vento Diesel Comfortline   5.20\n",
       "9        Tata Indica Vista Quadrajet LS   1.95\n",
       "10                     Maruti Ciaz Zeta   9.95"
      ]
     },
     "execution_count": 11,
     "metadata": {},
     "output_type": "execute_result"
    }
   ],
   "source": [
    "# Exemplo função loc\n",
    "\n",
    "#Selecionado o nome e o Preço dos 10 primeiros carros no dataset\n",
    "#A primeira parte do loc é referente às linhas e a\n",
    "#segunda parte é referente às colunas\n",
    "df.loc[:10,['Name','Price']]"
   ]
  },
  {
   "cell_type": "code",
   "execution_count": 12,
   "metadata": {
    "id": "mwhmDpC-R42n"
   },
   "outputs": [
    {
     "name": "stdout",
     "output_type": "stream",
     "text": [
      "0       False\n",
      "1       False\n",
      "2       False\n",
      "3       False\n",
      "4       False\n",
      "        ...  \n",
      "6014    False\n",
      "6015    False\n",
      "6016    False\n",
      "6017    False\n",
      "6018    False\n",
      "Length: 6019, dtype: bool\n"
     ]
    },
    {
     "data": {
      "text/html": [
       "<div>\n",
       "<style scoped>\n",
       "    .dataframe tbody tr th:only-of-type {\n",
       "        vertical-align: middle;\n",
       "    }\n",
       "\n",
       "    .dataframe tbody tr th {\n",
       "        vertical-align: top;\n",
       "    }\n",
       "\n",
       "    .dataframe thead th {\n",
       "        text-align: right;\n",
       "    }\n",
       "</style>\n",
       "<table border=\"1\" class=\"dataframe\">\n",
       "  <thead>\n",
       "    <tr style=\"text-align: right;\">\n",
       "      <th></th>\n",
       "      <th>Name</th>\n",
       "      <th>Location</th>\n",
       "      <th>Year</th>\n",
       "      <th>Kilometers_Driven</th>\n",
       "      <th>Fuel_Type</th>\n",
       "      <th>Transmission</th>\n",
       "      <th>Owner_Type</th>\n",
       "      <th>Mileage</th>\n",
       "      <th>Engine</th>\n",
       "      <th>Power</th>\n",
       "      <th>Seats</th>\n",
       "      <th>Price</th>\n",
       "    </tr>\n",
       "  </thead>\n",
       "  <tbody>\n",
       "    <tr>\n",
       "      <th>7</th>\n",
       "      <td>Toyota Innova Crysta 2.8 GX AT 8S</td>\n",
       "      <td>Mumbai</td>\n",
       "      <td>2016</td>\n",
       "      <td>36000</td>\n",
       "      <td>Diesel</td>\n",
       "      <td>Automatic</td>\n",
       "      <td>First</td>\n",
       "      <td>11.36 kmpl</td>\n",
       "      <td>2755 CC</td>\n",
       "      <td>171.5 bhp</td>\n",
       "      <td>8.0</td>\n",
       "      <td>17.50</td>\n",
       "    </tr>\n",
       "    <tr>\n",
       "      <th>22</th>\n",
       "      <td>Audi A6 2011-2015 35 TFSI Technology</td>\n",
       "      <td>Mumbai</td>\n",
       "      <td>2015</td>\n",
       "      <td>55985</td>\n",
       "      <td>Petrol</td>\n",
       "      <td>Automatic</td>\n",
       "      <td>First</td>\n",
       "      <td>13.53 kmpl</td>\n",
       "      <td>1984 CC</td>\n",
       "      <td>177.01 bhp</td>\n",
       "      <td>5.0</td>\n",
       "      <td>23.50</td>\n",
       "    </tr>\n",
       "    <tr>\n",
       "      <th>25</th>\n",
       "      <td>Honda City Corporate Edition</td>\n",
       "      <td>Mumbai</td>\n",
       "      <td>2012</td>\n",
       "      <td>51920</td>\n",
       "      <td>Petrol</td>\n",
       "      <td>Manual</td>\n",
       "      <td>First</td>\n",
       "      <td>16.8 kmpl</td>\n",
       "      <td>1497 CC</td>\n",
       "      <td>116.3 bhp</td>\n",
       "      <td>5.0</td>\n",
       "      <td>4.25</td>\n",
       "    </tr>\n",
       "    <tr>\n",
       "      <th>45</th>\n",
       "      <td>Toyota Corolla Altis G AT</td>\n",
       "      <td>Mumbai</td>\n",
       "      <td>2016</td>\n",
       "      <td>52001</td>\n",
       "      <td>Petrol</td>\n",
       "      <td>Automatic</td>\n",
       "      <td>First</td>\n",
       "      <td>14.28 kmpl</td>\n",
       "      <td>1798 CC</td>\n",
       "      <td>138.03 bhp</td>\n",
       "      <td>5.0</td>\n",
       "      <td>10.11</td>\n",
       "    </tr>\n",
       "    <tr>\n",
       "      <th>60</th>\n",
       "      <td>Toyota Innova Crysta 2.4 GX MT 8S</td>\n",
       "      <td>Mumbai</td>\n",
       "      <td>2017</td>\n",
       "      <td>22000</td>\n",
       "      <td>Diesel</td>\n",
       "      <td>Manual</td>\n",
       "      <td>First</td>\n",
       "      <td>13.68 kmpl</td>\n",
       "      <td>2393 CC</td>\n",
       "      <td>147.8 bhp</td>\n",
       "      <td>8.0</td>\n",
       "      <td>16.50</td>\n",
       "    </tr>\n",
       "    <tr>\n",
       "      <th>...</th>\n",
       "      <td>...</td>\n",
       "      <td>...</td>\n",
       "      <td>...</td>\n",
       "      <td>...</td>\n",
       "      <td>...</td>\n",
       "      <td>...</td>\n",
       "      <td>...</td>\n",
       "      <td>...</td>\n",
       "      <td>...</td>\n",
       "      <td>...</td>\n",
       "      <td>...</td>\n",
       "      <td>...</td>\n",
       "    </tr>\n",
       "    <tr>\n",
       "      <th>5981</th>\n",
       "      <td>Maruti Baleno Alpha</td>\n",
       "      <td>Mumbai</td>\n",
       "      <td>2017</td>\n",
       "      <td>6000</td>\n",
       "      <td>Petrol</td>\n",
       "      <td>Manual</td>\n",
       "      <td>First</td>\n",
       "      <td>21.4 kmpl</td>\n",
       "      <td>1197 CC</td>\n",
       "      <td>83.1 bhp</td>\n",
       "      <td>5.0</td>\n",
       "      <td>7.50</td>\n",
       "    </tr>\n",
       "    <tr>\n",
       "      <th>5984</th>\n",
       "      <td>Mercedes-Benz New C-Class C 200 CGI Elegance</td>\n",
       "      <td>Mumbai</td>\n",
       "      <td>2012</td>\n",
       "      <td>63720</td>\n",
       "      <td>Petrol</td>\n",
       "      <td>Automatic</td>\n",
       "      <td>First</td>\n",
       "      <td>11.74 kmpl</td>\n",
       "      <td>1796 CC</td>\n",
       "      <td>186 bhp</td>\n",
       "      <td>5.0</td>\n",
       "      <td>13.25</td>\n",
       "    </tr>\n",
       "    <tr>\n",
       "      <th>5988</th>\n",
       "      <td>Renault Duster 85PS Diesel RxL Option</td>\n",
       "      <td>Mumbai</td>\n",
       "      <td>2013</td>\n",
       "      <td>102486</td>\n",
       "      <td>Diesel</td>\n",
       "      <td>Manual</td>\n",
       "      <td>First</td>\n",
       "      <td>19.87 kmpl</td>\n",
       "      <td>1461 CC</td>\n",
       "      <td>83.8 bhp</td>\n",
       "      <td>5.0</td>\n",
       "      <td>4.25</td>\n",
       "    </tr>\n",
       "    <tr>\n",
       "      <th>5993</th>\n",
       "      <td>Hyundai Elantra SX</td>\n",
       "      <td>Mumbai</td>\n",
       "      <td>2014</td>\n",
       "      <td>55619</td>\n",
       "      <td>Petrol</td>\n",
       "      <td>Manual</td>\n",
       "      <td>First</td>\n",
       "      <td>16.3 kmpl</td>\n",
       "      <td>1797 CC</td>\n",
       "      <td>147.5 bhp</td>\n",
       "      <td>5.0</td>\n",
       "      <td>8.30</td>\n",
       "    </tr>\n",
       "    <tr>\n",
       "      <th>6009</th>\n",
       "      <td>Toyota Camry Hybrid</td>\n",
       "      <td>Mumbai</td>\n",
       "      <td>2015</td>\n",
       "      <td>33500</td>\n",
       "      <td>Petrol</td>\n",
       "      <td>Automatic</td>\n",
       "      <td>First</td>\n",
       "      <td>19.16 kmpl</td>\n",
       "      <td>2494 CC</td>\n",
       "      <td>158.2 bhp</td>\n",
       "      <td>5.0</td>\n",
       "      <td>19.75</td>\n",
       "    </tr>\n",
       "  </tbody>\n",
       "</table>\n",
       "<p>578 rows × 12 columns</p>\n",
       "</div>"
      ],
      "text/plain": [
       "                                              Name Location  Year  \\\n",
       "7                Toyota Innova Crysta 2.8 GX AT 8S   Mumbai  2016   \n",
       "22            Audi A6 2011-2015 35 TFSI Technology   Mumbai  2015   \n",
       "25                    Honda City Corporate Edition   Mumbai  2012   \n",
       "45                       Toyota Corolla Altis G AT   Mumbai  2016   \n",
       "60               Toyota Innova Crysta 2.4 GX MT 8S   Mumbai  2017   \n",
       "...                                            ...      ...   ...   \n",
       "5981                           Maruti Baleno Alpha   Mumbai  2017   \n",
       "5984  Mercedes-Benz New C-Class C 200 CGI Elegance   Mumbai  2012   \n",
       "5988         Renault Duster 85PS Diesel RxL Option   Mumbai  2013   \n",
       "5993                            Hyundai Elantra SX   Mumbai  2014   \n",
       "6009                           Toyota Camry Hybrid   Mumbai  2015   \n",
       "\n",
       "      Kilometers_Driven Fuel_Type Transmission Owner_Type     Mileage  \\\n",
       "7                 36000    Diesel    Automatic      First  11.36 kmpl   \n",
       "22                55985    Petrol    Automatic      First  13.53 kmpl   \n",
       "25                51920    Petrol       Manual      First   16.8 kmpl   \n",
       "45                52001    Petrol    Automatic      First  14.28 kmpl   \n",
       "60                22000    Diesel       Manual      First  13.68 kmpl   \n",
       "...                 ...       ...          ...        ...         ...   \n",
       "5981               6000    Petrol       Manual      First   21.4 kmpl   \n",
       "5984              63720    Petrol    Automatic      First  11.74 kmpl   \n",
       "5988             102486    Diesel       Manual      First  19.87 kmpl   \n",
       "5993              55619    Petrol       Manual      First   16.3 kmpl   \n",
       "6009              33500    Petrol    Automatic      First  19.16 kmpl   \n",
       "\n",
       "       Engine       Power  Seats  Price  \n",
       "7     2755 CC   171.5 bhp    8.0  17.50  \n",
       "22    1984 CC  177.01 bhp    5.0  23.50  \n",
       "25    1497 CC   116.3 bhp    5.0   4.25  \n",
       "45    1798 CC  138.03 bhp    5.0  10.11  \n",
       "60    2393 CC   147.8 bhp    8.0  16.50  \n",
       "...       ...         ...    ...    ...  \n",
       "5981  1197 CC    83.1 bhp    5.0   7.50  \n",
       "5984  1796 CC     186 bhp    5.0  13.25  \n",
       "5988  1461 CC    83.8 bhp    5.0   4.25  \n",
       "5993  1797 CC   147.5 bhp    5.0   8.30  \n",
       "6009  2494 CC   158.2 bhp    5.0  19.75  \n",
       "\n",
       "[578 rows x 12 columns]"
      ]
     },
     "execution_count": 12,
     "metadata": {},
     "output_type": "execute_result"
    }
   ],
   "source": [
    "#Acessando os carros com localização igual a Mumbai e ano maior que 2011\n",
    "\n",
    "# a variavel isntances armazena uma Series do pandas que é uma lista de booleanos\n",
    "# que é verdadeira para as instancias que atendem a condição,\n",
    "# nesse caso o valor da coluna Location ser igual a Mumbai\n",
    "mumbai_instances = ((df['Location'] == 'Mumbai') & (df['Year'] > 2011))\n",
    "\n",
    "print(mumbai_instances)\n",
    "\n",
    "df_mumbai = df.loc[mumbai_instances]\n",
    "df_mumbai"
   ]
  },
  {
   "cell_type": "code",
   "execution_count": 13,
   "metadata": {
    "id": "HT0KnTAfSzzc"
   },
   "outputs": [
    {
     "data": {
      "text/html": [
       "<div>\n",
       "<style scoped>\n",
       "    .dataframe tbody tr th:only-of-type {\n",
       "        vertical-align: middle;\n",
       "    }\n",
       "\n",
       "    .dataframe tbody tr th {\n",
       "        vertical-align: top;\n",
       "    }\n",
       "\n",
       "    .dataframe thead th {\n",
       "        text-align: right;\n",
       "    }\n",
       "</style>\n",
       "<table border=\"1\" class=\"dataframe\">\n",
       "  <thead>\n",
       "    <tr style=\"text-align: right;\">\n",
       "      <th></th>\n",
       "      <th>Name</th>\n",
       "      <th>Location</th>\n",
       "      <th>Year</th>\n",
       "      <th>Kilometers_Driven</th>\n",
       "      <th>Fuel_Type</th>\n",
       "      <th>Transmission</th>\n",
       "      <th>Owner_Type</th>\n",
       "      <th>Mileage</th>\n",
       "      <th>Engine</th>\n",
       "      <th>Power</th>\n",
       "      <th>Seats</th>\n",
       "      <th>Price</th>\n",
       "    </tr>\n",
       "  </thead>\n",
       "  <tbody>\n",
       "    <tr>\n",
       "      <th>479</th>\n",
       "      <td>Renault Duster 85PS Diesel RxL Option</td>\n",
       "      <td>Mumbai</td>\n",
       "      <td>2015</td>\n",
       "      <td>67000</td>\n",
       "      <td>Diesel</td>\n",
       "      <td>Manual</td>\n",
       "      <td>Second</td>\n",
       "      <td>19.87 kmpl</td>\n",
       "      <td>1461 CC</td>\n",
       "      <td>83.8 bhp</td>\n",
       "      <td>5.0</td>\n",
       "      <td>7.00</td>\n",
       "    </tr>\n",
       "    <tr>\n",
       "      <th>499</th>\n",
       "      <td>Honda Brio VX AT</td>\n",
       "      <td>Mumbai</td>\n",
       "      <td>2014</td>\n",
       "      <td>35000</td>\n",
       "      <td>Petrol</td>\n",
       "      <td>Automatic</td>\n",
       "      <td>First</td>\n",
       "      <td>16.5 kmpl</td>\n",
       "      <td>1198 CC</td>\n",
       "      <td>86.8 bhp</td>\n",
       "      <td>5.0</td>\n",
       "      <td>4.25</td>\n",
       "    </tr>\n",
       "    <tr>\n",
       "      <th>504</th>\n",
       "      <td>Ford Ecosport 1.5 DV5 MT Titanium Optional</td>\n",
       "      <td>Mumbai</td>\n",
       "      <td>2014</td>\n",
       "      <td>79000</td>\n",
       "      <td>Diesel</td>\n",
       "      <td>Manual</td>\n",
       "      <td>First</td>\n",
       "      <td>22.7 kmpl</td>\n",
       "      <td>1498 CC</td>\n",
       "      <td>89.84 bhp</td>\n",
       "      <td>5.0</td>\n",
       "      <td>6.25</td>\n",
       "    </tr>\n",
       "    <tr>\n",
       "      <th>507</th>\n",
       "      <td>Honda Mobilio S i VTEC</td>\n",
       "      <td>Mumbai</td>\n",
       "      <td>2015</td>\n",
       "      <td>25000</td>\n",
       "      <td>Petrol</td>\n",
       "      <td>Manual</td>\n",
       "      <td>Second</td>\n",
       "      <td>17.3 kmpl</td>\n",
       "      <td>1497 CC</td>\n",
       "      <td>117.3 bhp</td>\n",
       "      <td>7.0</td>\n",
       "      <td>4.25</td>\n",
       "    </tr>\n",
       "    <tr>\n",
       "      <th>508</th>\n",
       "      <td>Hyundai Grand i10 Sportz</td>\n",
       "      <td>Mumbai</td>\n",
       "      <td>2017</td>\n",
       "      <td>8500</td>\n",
       "      <td>Petrol</td>\n",
       "      <td>Manual</td>\n",
       "      <td>Second</td>\n",
       "      <td>18.9 kmpl</td>\n",
       "      <td>1197 CC</td>\n",
       "      <td>82 bhp</td>\n",
       "      <td>5.0</td>\n",
       "      <td>4.80</td>\n",
       "    </tr>\n",
       "  </tbody>\n",
       "</table>\n",
       "</div>"
      ],
      "text/plain": [
       "                                           Name Location  Year  \\\n",
       "479       Renault Duster 85PS Diesel RxL Option   Mumbai  2015   \n",
       "499                            Honda Brio VX AT   Mumbai  2014   \n",
       "504  Ford Ecosport 1.5 DV5 MT Titanium Optional   Mumbai  2014   \n",
       "507                      Honda Mobilio S i VTEC   Mumbai  2015   \n",
       "508                    Hyundai Grand i10 Sportz   Mumbai  2017   \n",
       "\n",
       "     Kilometers_Driven Fuel_Type Transmission Owner_Type     Mileage   Engine  \\\n",
       "479              67000    Diesel       Manual     Second  19.87 kmpl  1461 CC   \n",
       "499              35000    Petrol    Automatic      First   16.5 kmpl  1198 CC   \n",
       "504              79000    Diesel       Manual      First   22.7 kmpl  1498 CC   \n",
       "507              25000    Petrol       Manual     Second   17.3 kmpl  1497 CC   \n",
       "508               8500    Petrol       Manual     Second   18.9 kmpl  1197 CC   \n",
       "\n",
       "         Power  Seats  Price  \n",
       "479   83.8 bhp    5.0   7.00  \n",
       "499   86.8 bhp    5.0   4.25  \n",
       "504  89.84 bhp    5.0   6.25  \n",
       "507  117.3 bhp    7.0   4.25  \n",
       "508     82 bhp    5.0   4.80  "
      ]
     },
     "execution_count": 13,
     "metadata": {},
     "output_type": "execute_result"
    }
   ],
   "source": [
    "# usando o exemplo anterior podemos fazer um slice\n",
    "\n",
    "df_mumbai [50:55]"
   ]
  },
  {
   "cell_type": "code",
   "execution_count": 14,
   "metadata": {
    "id": "Ig0YrUHtVRBl"
   },
   "outputs": [
    {
     "name": "stdout",
     "output_type": "stream",
     "text": [
      "9.445480153649168\n"
     ]
    }
   ],
   "source": [
    "##############################################################\n",
    "#                       PREENCHA AQUI:                       #\n",
    "#  - Calcule o preço médio de um carro de 2014 que seja      #\n",
    "#    manual e tenha no mínimo 5 assentos                     #\n",
    "#                                                            #\n",
    "#  - Dica: utilize a função mean() e utilize o operador      #\n",
    "# and &                                                      # \n",
    "##############################################################\n",
    "\n",
    "mean_instances = ((df['Year'] == 2014) & (df['Seats'] > 4))\n",
    "df_mean = df.loc[mean_instances]\n",
    "mean = df_mean['Price'].mean()\n",
    "##############################################################\n",
    "\n",
    "print(mean)"
   ]
  },
  {
   "cell_type": "code",
   "execution_count": 23,
   "metadata": {
    "id": "ssGsr4gnXyBt"
   },
   "outputs": [
    {
     "data": {
      "text/html": [
       "<div>\n",
       "<style scoped>\n",
       "    .dataframe tbody tr th:only-of-type {\n",
       "        vertical-align: middle;\n",
       "    }\n",
       "\n",
       "    .dataframe tbody tr th {\n",
       "        vertical-align: top;\n",
       "    }\n",
       "\n",
       "    .dataframe thead th {\n",
       "        text-align: right;\n",
       "    }\n",
       "</style>\n",
       "<table border=\"1\" class=\"dataframe\">\n",
       "  <thead>\n",
       "    <tr style=\"text-align: right;\">\n",
       "      <th></th>\n",
       "      <th>Year</th>\n",
       "      <th>Kilometers_Driven</th>\n",
       "      <th>Seats</th>\n",
       "      <th>Price</th>\n",
       "    </tr>\n",
       "  </thead>\n",
       "  <tbody>\n",
       "    <tr>\n",
       "      <th>count</th>\n",
       "      <td>4498.000000</td>\n",
       "      <td>4.498000e+03</td>\n",
       "      <td>4483.000000</td>\n",
       "      <td>4498.000000</td>\n",
       "    </tr>\n",
       "    <tr>\n",
       "      <th>mean</th>\n",
       "      <td>2014.862606</td>\n",
       "      <td>5.212234e+04</td>\n",
       "      <td>5.290431</td>\n",
       "      <td>10.973044</td>\n",
       "    </tr>\n",
       "    <tr>\n",
       "      <th>std</th>\n",
       "      <td>1.882181</td>\n",
       "      <td>1.021878e+05</td>\n",
       "      <td>0.797959</td>\n",
       "      <td>11.978054</td>\n",
       "    </tr>\n",
       "    <tr>\n",
       "      <th>min</th>\n",
       "      <td>2012.000000</td>\n",
       "      <td>1.710000e+02</td>\n",
       "      <td>0.000000</td>\n",
       "      <td>0.530000</td>\n",
       "    </tr>\n",
       "    <tr>\n",
       "      <th>25%</th>\n",
       "      <td>2013.000000</td>\n",
       "      <td>2.927700e+04</td>\n",
       "      <td>5.000000</td>\n",
       "      <td>4.357500</td>\n",
       "    </tr>\n",
       "    <tr>\n",
       "      <th>50%</th>\n",
       "      <td>2015.000000</td>\n",
       "      <td>4.698300e+04</td>\n",
       "      <td>5.000000</td>\n",
       "      <td>6.350000</td>\n",
       "    </tr>\n",
       "    <tr>\n",
       "      <th>75%</th>\n",
       "      <td>2016.000000</td>\n",
       "      <td>6.500000e+04</td>\n",
       "      <td>5.000000</td>\n",
       "      <td>12.000000</td>\n",
       "    </tr>\n",
       "    <tr>\n",
       "      <th>max</th>\n",
       "      <td>2019.000000</td>\n",
       "      <td>6.500000e+06</td>\n",
       "      <td>10.000000</td>\n",
       "      <td>160.000000</td>\n",
       "    </tr>\n",
       "  </tbody>\n",
       "</table>\n",
       "</div>"
      ],
      "text/plain": [
       "              Year  Kilometers_Driven        Seats        Price\n",
       "count  4498.000000       4.498000e+03  4483.000000  4498.000000\n",
       "mean   2014.862606       5.212234e+04     5.290431    10.973044\n",
       "std       1.882181       1.021878e+05     0.797959    11.978054\n",
       "min    2012.000000       1.710000e+02     0.000000     0.530000\n",
       "25%    2013.000000       2.927700e+04     5.000000     4.357500\n",
       "50%    2015.000000       4.698300e+04     5.000000     6.350000\n",
       "75%    2016.000000       6.500000e+04     5.000000    12.000000\n",
       "max    2019.000000       6.500000e+06    10.000000   160.000000"
      ]
     },
     "execution_count": 23,
     "metadata": {},
     "output_type": "execute_result"
    }
   ],
   "source": [
    "##############################################################\n",
    "#                       PREENCHA AQUI:                       #\n",
    "#  - Qual o tipo de combústivel mais utilizado de 2012 pra cá#          \n",
    "#                                                            #\n",
    "#  - Dica: utilize a função mode() e utilize o operador      #\n",
    "# and &                                                      # \n",
    "##############################################################\n",
    "fuel = (df['Year'] >= 2012)\n",
    "df_fuel = df.loc[fuel]\n",
    "mode = df_fuel['Fuel_Type'].mode()\n",
    "#value_counts retorna a quantidade de cada valor\n",
    "\n",
    "##############################################################\n",
    "\n",
    "#mode"
   ]
  },
  {
   "cell_type": "code",
   "execution_count": 26,
   "metadata": {
    "id": "kt8qaJD0YuHx"
   },
   "outputs": [
    {
     "data": {
      "text/html": [
       "<div>\n",
       "<style scoped>\n",
       "    .dataframe tbody tr th:only-of-type {\n",
       "        vertical-align: middle;\n",
       "    }\n",
       "\n",
       "    .dataframe tbody tr th {\n",
       "        vertical-align: top;\n",
       "    }\n",
       "\n",
       "    .dataframe thead th {\n",
       "        text-align: right;\n",
       "    }\n",
       "</style>\n",
       "<table border=\"1\" class=\"dataframe\">\n",
       "  <thead>\n",
       "    <tr style=\"text-align: right;\">\n",
       "      <th></th>\n",
       "      <th>Year</th>\n",
       "      <th>Kilometers_Driven</th>\n",
       "      <th>Seats</th>\n",
       "      <th>Price</th>\n",
       "    </tr>\n",
       "  </thead>\n",
       "  <tbody>\n",
       "    <tr>\n",
       "      <th>count</th>\n",
       "      <td>4929.000000</td>\n",
       "      <td>4.929000e+03</td>\n",
       "      <td>4905.000000</td>\n",
       "      <td>4929.000000</td>\n",
       "    </tr>\n",
       "    <tr>\n",
       "      <th>mean</th>\n",
       "      <td>2013.932441</td>\n",
       "      <td>5.536678e+04</td>\n",
       "      <td>5.277268</td>\n",
       "      <td>9.962445</td>\n",
       "    </tr>\n",
       "    <tr>\n",
       "      <th>std</th>\n",
       "      <td>2.924458</td>\n",
       "      <td>9.899439e+04</td>\n",
       "      <td>0.798259</td>\n",
       "      <td>11.415998</td>\n",
       "    </tr>\n",
       "    <tr>\n",
       "      <th>min</th>\n",
       "      <td>1998.000000</td>\n",
       "      <td>1.710000e+02</td>\n",
       "      <td>0.000000</td>\n",
       "      <td>0.500000</td>\n",
       "    </tr>\n",
       "    <tr>\n",
       "      <th>25%</th>\n",
       "      <td>2012.000000</td>\n",
       "      <td>3.105600e+04</td>\n",
       "      <td>5.000000</td>\n",
       "      <td>3.750000</td>\n",
       "    </tr>\n",
       "    <tr>\n",
       "      <th>50%</th>\n",
       "      <td>2014.000000</td>\n",
       "      <td>5.000000e+04</td>\n",
       "      <td>5.000000</td>\n",
       "      <td>5.910000</td>\n",
       "    </tr>\n",
       "    <tr>\n",
       "      <th>75%</th>\n",
       "      <td>2016.000000</td>\n",
       "      <td>6.900200e+04</td>\n",
       "      <td>5.000000</td>\n",
       "      <td>10.500000</td>\n",
       "    </tr>\n",
       "    <tr>\n",
       "      <th>max</th>\n",
       "      <td>2019.000000</td>\n",
       "      <td>6.500000e+06</td>\n",
       "      <td>10.000000</td>\n",
       "      <td>160.000000</td>\n",
       "    </tr>\n",
       "  </tbody>\n",
       "</table>\n",
       "</div>"
      ],
      "text/plain": [
       "              Year  Kilometers_Driven        Seats        Price\n",
       "count  4929.000000       4.929000e+03  4905.000000  4929.000000\n",
       "mean   2013.932441       5.536678e+04     5.277268     9.962445\n",
       "std       2.924458       9.899439e+04     0.798259    11.415998\n",
       "min    1998.000000       1.710000e+02     0.000000     0.500000\n",
       "25%    2012.000000       3.105600e+04     5.000000     3.750000\n",
       "50%    2014.000000       5.000000e+04     5.000000     5.910000\n",
       "75%    2016.000000       6.900200e+04     5.000000    10.500000\n",
       "max    2019.000000       6.500000e+06    10.000000   160.000000"
      ]
     },
     "execution_count": 26,
     "metadata": {},
     "output_type": "execute_result"
    }
   ],
   "source": [
    "##############################################################\n",
    "#                       PREENCHA AQUI:                       #\n",
    "#  - Utilize o método describe nos carros que estão com      #\n",
    "#    o primeiro dono                                         #\n",
    "#                                                            #\n",
    "#                                                            # \n",
    "##############################################################\n",
    "\n",
    "first = (df['Owner_Type'] == \"First\")\n",
    "loc_first = df.loc[firstDono]\n",
    "df_first = loc_first\n",
    "\n",
    "#o método describe gera um pequeno resumo de algumas medidas de centralidade dos dados numéricos\n",
    "df_first.describe()\n",
    "\n",
    "##############################################################"
   ]
  },
  {
   "cell_type": "code",
   "execution_count": 27,
   "metadata": {
    "id": "nGzYnJ5oZoCf"
   },
   "outputs": [
    {
     "data": {
      "text/html": [
       "<div>\n",
       "<style scoped>\n",
       "    .dataframe tbody tr th:only-of-type {\n",
       "        vertical-align: middle;\n",
       "    }\n",
       "\n",
       "    .dataframe tbody tr th {\n",
       "        vertical-align: top;\n",
       "    }\n",
       "\n",
       "    .dataframe thead th {\n",
       "        text-align: right;\n",
       "    }\n",
       "</style>\n",
       "<table border=\"1\" class=\"dataframe\">\n",
       "  <thead>\n",
       "    <tr style=\"text-align: right;\">\n",
       "      <th></th>\n",
       "      <th>Name</th>\n",
       "      <th>Location</th>\n",
       "      <th>Year</th>\n",
       "      <th>Kilometers_Driven</th>\n",
       "      <th>Fuel_Type</th>\n",
       "      <th>Transmission</th>\n",
       "      <th>Owner_Type</th>\n",
       "      <th>Mileage</th>\n",
       "      <th>Engine</th>\n",
       "      <th>Power</th>\n",
       "      <th>Seats</th>\n",
       "      <th>Price</th>\n",
       "    </tr>\n",
       "  </thead>\n",
       "  <tbody>\n",
       "    <tr>\n",
       "      <th>7</th>\n",
       "      <td>Toyota Innova Crysta 2.8 GX AT 8S</td>\n",
       "      <td>Mumbai</td>\n",
       "      <td>2016</td>\n",
       "      <td>36000</td>\n",
       "      <td>Diesel</td>\n",
       "      <td>Automatic</td>\n",
       "      <td>First</td>\n",
       "      <td>11.36 kmpl</td>\n",
       "      <td>2755 CC</td>\n",
       "      <td>171.5 bhp</td>\n",
       "      <td>8.0</td>\n",
       "      <td>17.50</td>\n",
       "    </tr>\n",
       "    <tr>\n",
       "      <th>22</th>\n",
       "      <td>Audi A6 2011-2015 35 TFSI Technology</td>\n",
       "      <td>Mumbai</td>\n",
       "      <td>2015</td>\n",
       "      <td>55985</td>\n",
       "      <td>Petrol</td>\n",
       "      <td>Automatic</td>\n",
       "      <td>First</td>\n",
       "      <td>13.53 kmpl</td>\n",
       "      <td>1984 CC</td>\n",
       "      <td>177.01 bhp</td>\n",
       "      <td>5.0</td>\n",
       "      <td>23.50</td>\n",
       "    </tr>\n",
       "    <tr>\n",
       "      <th>25</th>\n",
       "      <td>Honda City Corporate Edition</td>\n",
       "      <td>Mumbai</td>\n",
       "      <td>2012</td>\n",
       "      <td>51920</td>\n",
       "      <td>Petrol</td>\n",
       "      <td>Manual</td>\n",
       "      <td>First</td>\n",
       "      <td>16.8 kmpl</td>\n",
       "      <td>1497 CC</td>\n",
       "      <td>116.3 bhp</td>\n",
       "      <td>5.0</td>\n",
       "      <td>4.25</td>\n",
       "    </tr>\n",
       "    <tr>\n",
       "      <th>45</th>\n",
       "      <td>Toyota Corolla Altis G AT</td>\n",
       "      <td>Mumbai</td>\n",
       "      <td>2016</td>\n",
       "      <td>52001</td>\n",
       "      <td>Petrol</td>\n",
       "      <td>Automatic</td>\n",
       "      <td>First</td>\n",
       "      <td>14.28 kmpl</td>\n",
       "      <td>1798 CC</td>\n",
       "      <td>138.03 bhp</td>\n",
       "      <td>5.0</td>\n",
       "      <td>10.11</td>\n",
       "    </tr>\n",
       "    <tr>\n",
       "      <th>60</th>\n",
       "      <td>Toyota Innova Crysta 2.4 GX MT 8S</td>\n",
       "      <td>Mumbai</td>\n",
       "      <td>2017</td>\n",
       "      <td>22000</td>\n",
       "      <td>Diesel</td>\n",
       "      <td>Manual</td>\n",
       "      <td>First</td>\n",
       "      <td>13.68 kmpl</td>\n",
       "      <td>2393 CC</td>\n",
       "      <td>147.8 bhp</td>\n",
       "      <td>8.0</td>\n",
       "      <td>16.50</td>\n",
       "    </tr>\n",
       "  </tbody>\n",
       "</table>\n",
       "</div>"
      ],
      "text/plain": [
       "                                    Name Location  Year  Kilometers_Driven  \\\n",
       "7      Toyota Innova Crysta 2.8 GX AT 8S   Mumbai  2016              36000   \n",
       "22  Audi A6 2011-2015 35 TFSI Technology   Mumbai  2015              55985   \n",
       "25          Honda City Corporate Edition   Mumbai  2012              51920   \n",
       "45             Toyota Corolla Altis G AT   Mumbai  2016              52001   \n",
       "60     Toyota Innova Crysta 2.4 GX MT 8S   Mumbai  2017              22000   \n",
       "\n",
       "   Fuel_Type Transmission Owner_Type     Mileage   Engine       Power  Seats  \\\n",
       "7     Diesel    Automatic      First  11.36 kmpl  2755 CC   171.5 bhp    8.0   \n",
       "22    Petrol    Automatic      First  13.53 kmpl  1984 CC  177.01 bhp    5.0   \n",
       "25    Petrol       Manual      First   16.8 kmpl  1497 CC   116.3 bhp    5.0   \n",
       "45    Petrol    Automatic      First  14.28 kmpl  1798 CC  138.03 bhp    5.0   \n",
       "60    Diesel       Manual      First  13.68 kmpl  2393 CC   147.8 bhp    8.0   \n",
       "\n",
       "    Price  \n",
       "7   17.50  \n",
       "22  23.50  \n",
       "25   4.25  \n",
       "45  10.11  \n",
       "60  16.50  "
      ]
     },
     "execution_count": 27,
     "metadata": {},
     "output_type": "execute_result"
    }
   ],
   "source": [
    "\n",
    "#OBS: \n",
    "#Na prática pra checar valores, se usa o método:\n",
    "\n",
    "df[mumbai_instances].head()\n",
    "\n",
    "#df[(condicao)] diretamente, a diferença entre loc e esse acesso direto é que o acesso direto tem alguns problemas\n",
    "#como ambiguidade entre você receber uma cópia ou uma referência direta, geralmente se usa o loc\n",
    "#por boa prática.\n",
    "\n",
    "\n",
    "\n"
   ]
  },
  {
   "cell_type": "markdown",
   "metadata": {
    "id": "8pI6kxD0ZiGL"
   },
   "source": [
    "## Gráficos"
   ]
  },
  {
   "cell_type": "code",
   "execution_count": 29,
   "metadata": {
    "id": "HjFJETw2b81w"
   },
   "outputs": [
    {
     "data": {
      "text/plain": [
       "<AxesSubplot:>"
      ]
     },
     "execution_count": 29,
     "metadata": {},
     "output_type": "execute_result"
    },
    {
     "data": {
      "image/png": "[encoded data removed]",
      "text/plain": [
       "<Figure size 432x288 with 1 Axes>"
      ]
     },
     "metadata": {
      "needs_background": "light"
     },
     "output_type": "display_data"
    }
   ],
   "source": [
    "#plotando o histograma de carros por ano\n",
    "#vamos utilizar o histograma do pandas primeiro\n",
    "\n",
    "\n",
    "df['Year'].hist(bins = 20)"
   ]
  },
  {
   "cell_type": "code",
   "execution_count": 30,
   "metadata": {
    "id": "IU_YPQDccffy"
   },
   "outputs": [
    {
     "data": {
      "text/plain": [
       "<AxesSubplot:xlabel='Year', ylabel='Count'>"
      ]
     },
     "execution_count": 30,
     "metadata": {},
     "output_type": "execute_result"
    },
    {
     "data": {
      "image/png": "[encoded data removed]",
      "text/plain": [
       "<Figure size 432x288 with 1 Axes>"
      ]
     },
     "metadata": {
      "needs_background": "light"
     },
     "output_type": "display_data"
    }
   ],
   "source": [
    "# Usaremos o seaborn que é uma biblioteca própria para visualização\n",
    "\n",
    "# Para achar um plot específico basta googlar seaborn+<nome do plot>\n",
    "\n",
    "sns.histplot(df['Year'],bins = 20)"
   ]
  },
  {
   "cell_type": "code",
   "execution_count": 35,
   "metadata": {
    "id": "1WSZGyqVbsta"
   },
   "outputs": [
    {
     "data": {
      "text/plain": [
       "<AxesSubplot:xlabel='Price', ylabel='Count'>"
      ]
     },
     "execution_count": 35,
     "metadata": {},
     "output_type": "execute_result"
    },
    {
     "data": {
      "image/png": "[encoded data removed]",
      "text/plain": [
       "<Figure size 432x288 with 1 Axes>"
      ]
     },
     "metadata": {
      "needs_background": "light"
     },
     "output_type": "display_data"
    }
   ],
   "source": [
    "##############################################################\n",
    "#                       PREENCHA AQUI:                       #\n",
    "#  - Plote um histograma do preço                            #\n",
    "#                                                            #\n",
    "#                                                            # \n",
    "##############################################################\n",
    "\n",
    "sns.histplot(df['Price'])\n",
    "\n",
    "##############################################################"
   ]
  },
  {
   "cell_type": "code",
   "execution_count": 74,
   "metadata": {
    "id": "tZyosLSGe084"
   },
   "outputs": [
    {
     "name": "stderr",
     "output_type": "stream",
     "text": [
      "/home/frois/.local/lib/python3.9/site-packages/seaborn/_decorators.py:36: FutureWarning: Pass the following variable as a keyword arg: x. From version 0.12, the only valid positional argument will be `data`, and passing other arguments without an explicit keyword will result in an error or misinterpretation.\n",
      "  warnings.warn(\n"
     ]
    },
    {
     "data": {
      "text/plain": [
       "<AxesSubplot:xlabel='Owner_Type', ylabel='count'>"
      ]
     },
     "execution_count": 74,
     "metadata": {},
     "output_type": "execute_result"
    },
    {
     "data": {
      "image/png": "[encoded data removed]",
      "text/plain": [
       "<Figure size 432x288 with 1 Axes>"
      ]
     },
     "metadata": {},
     "output_type": "display_data"
    }
   ],
   "source": [
    "##############################################################\n",
    "#                       PREENCHA AQUI:                       #\n",
    "#  - Plote um barplot do tipo de dono                        #\n",
    "#                                                            #\n",
    "#  Dica: Busque por seaborn countplot                        # \n",
    "##############################################################\n",
    "ownerTypes = list(set(df['Owner_Type'])).sort()\n",
    "\n",
    "sns.set_theme(style=\"darkgrid\")\n",
    "sns.countplot(df['Owner_Type'], order = ownerTypes)\n",
    "\n",
    "##############################################################"
   ]
  },
  {
   "cell_type": "code",
   "execution_count": 85,
   "metadata": {
    "id": "uMgVmGSiUH6z"
   },
   "outputs": [
    {
     "data": {
      "text/plain": [
       "<AxesSubplot:>"
      ]
     },
     "execution_count": 85,
     "metadata": {},
     "output_type": "execute_result"
    },
    {
     "data": {
      "image/png": "[encoded data removed]",
      "text/plain": [
       "<Figure size 432x288 with 2 Axes>"
      ]
     },
     "metadata": {},
     "output_type": "display_data"
    }
   ],
   "source": [
    "##############################################################\n",
    "#                       PREENCHA AQUI:                       #\n",
    "#   Faça um plot de uma matriz de correlação pearson,       #\n",
    "#   troque o esquema de cores dela e coloque números nos     #\n",
    "#   quadrados                                                #\n",
    "#                                                            #\n",
    "#  Dica: procure seaborn heatmap e veja os argumentos        #\n",
    "#  da função                                                 # \n",
    "##############################################################\n",
    "\n",
    "pearson_matrix = df.corr(method = 'pearson')\n",
    "sns.set_theme(style=\"ticks\")\n",
    "sns.heatmap(pearson_matrix, annot = True)\n",
    "\n",
    "##############################################################"
   ]
  },
  {
   "cell_type": "code",
   "execution_count": 89,
   "metadata": {
    "id": "_9yDwXSwXvgy"
   },
   "outputs": [
    {
     "data": {
      "text/plain": [
       "<AxesSubplot:>"
      ]
     },
     "execution_count": 89,
     "metadata": {},
     "output_type": "execute_result"
    },
    {
     "data": {
      "image/png": "[encoded data removed]",
      "text/plain": [
       "<Figure size 432x288 with 2 Axes>"
      ]
     },
     "metadata": {},
     "output_type": "display_data"
    }
   ],
   "source": [
    "##############################################################\n",
    "#                       PREENCHA AQUI:                       #\n",
    "#     Faça o mesmo plot do anterior, só que com a            #\n",
    "#     correlação spearman adicione linhas entre os quadrados #\n",
    "##############################################################\n",
    "spearman_matrix = df.corr(method = 'spearman')\n",
    "sns.heatmap(spearman_matrix, annot = True, linewidths = 1)\n",
    "\n",
    "\n",
    "##############################################################"
   ]
  },
  {
   "cell_type": "code",
   "execution_count": 90,
   "metadata": {
    "id": "WbGX6imPYRIJ"
   },
   "outputs": [
    {
     "data": {
      "text/plain": [
       "<seaborn.axisgrid.PairGrid at 0x7f7d5ed7a760>"
      ]
     },
     "execution_count": 90,
     "metadata": {},
     "output_type": "execute_result"
    },
    {
     "data": {
      "image/png": "[encoded data removed]",
      "text/plain": [
       "<Figure size 720x720 with 20 Axes>"
      ]
     },
     "metadata": {},
     "output_type": "display_data"
    }
   ],
   "source": [
    "##############################################################\n",
    "#                       PREENCHA AQUI:                       #\n",
    "#  - Plote um pairplot do Dataset. O pairplot é              # \n",
    "#    basicamente um grid de scatterplot para cada feature    #\n",
    "#    numérica                                                #\n",
    "#                                                            #\n",
    "#  Dica: Busque por seaborn pairplot                         # \n",
    "##############################################################\n",
    "\n",
    "sns.pairplot(df)\n",
    "\n",
    "##############################################################"
   ]
  },
  {
   "cell_type": "code",
   "execution_count": null,
   "metadata": {},
   "outputs": [],
   "source": []
  }
 ],
 "metadata": {
  "colab": {
   "name": "EDA_homework.ipynb",
   "provenance": []
  },
  "kernelspec": {
   "display_name": "Python 3 (ipykernel)",
   "language": "python",
   "name": "python3"
  },
  "language_info": {
   "codemirror_mode": {
    "name": "ipython",
    "version": 3
   },
   "file_extension": ".py",
   "mimetype": "text/x-python",
   "name": "python",
   "nbconvert_exporter": "python",
   "pygments_lexer": "ipython3",
   "version": "3.9.6"
  }
 },
 "nbformat": 4,
 "nbformat_minor": 1
}
