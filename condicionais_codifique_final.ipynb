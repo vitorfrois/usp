{
  "nbformat": 4,
  "nbformat_minor": 0,
  "metadata": {
    "colab": {
      "provenance": []
    },
    "kernelspec": {
      "name": "python3",
      "display_name": "Python 3"
    },
    "language_info": {
      "name": "python"
    }
  },
  "cells": [
    {
      "cell_type": "markdown",
      "source": [
        "# **Aula 3 - Estruturas Condicionais**"
      ],
      "metadata": {
        "id": "jZHFlfwsJsWw"
      }
    },
    {
      "cell_type": "markdown",
      "source": [
        "Até agora, vimos e fizemos algoritmos em que todos os comandos são executados em sequência, incondicionalmente.\n",
        "\n",
        "Porém, muitas vezes precisamos tomar decisões pra resolver um problema ou garantir que nossos dados continuem consistentes.\n",
        "\n",
        "Para isso, usamos as **estruturas condicionais**, também conhecidas como controle de fluxo."
      ],
      "metadata": {
        "id": "FdRcYNj_uO33"
      }
    },
    {
      "cell_type": "code",
      "execution_count": null,
      "metadata": {
        "id": "wHQ5FIFdHB_x"
      },
      "outputs": [],
      "source": [
        "# Estrutura condicional simples:\n",
        "\n",
        "condicao = True\n",
        "\n",
        "if condicao == True:\n",
        "  print(\"olá\")\n",
        "else:\n",
        "  print(\"tchau\")"
      ]
    },
    {
      "cell_type": "code",
      "source": [
        "# Exemplo usado em aula:\n",
        "\n",
        "num1 = int(input())\n",
        "num2 = int(input())\n",
        "\n",
        "if num1 > num2:\n",
        "  print(\"O primeiro numero é maior\")\n",
        "if num1 < num2:\n",
        "  print(\"O segundo numero é maior\")\n",
        "if num1 == num2:\n",
        "  print(\"Os dois numeros sao iguais\")\n",
        "\n"
      ],
      "metadata": {
        "id": "hzhfPXuurbBn",
        "colab": {
          "base_uri": "https://localhost:8080/"
        },
        "outputId": "453b2310-8696-41a9-a3e4-0a659f4e1424"
      },
      "execution_count": null,
      "outputs": [
        {
          "output_type": "stream",
          "name": "stdout",
          "text": [
            "5\n",
            "3\n",
            "O primeiro nimero é maior\n"
          ]
        }
      ]
    },
    {
      "cell_type": "code",
      "source": [
        "# Estrutura condicional composta:\n",
        "import random as r\n",
        "\n",
        "resposta = r.randint(1,10)\n",
        "\n",
        "chute = int(input(\"Estou pensando em um número de 1 a 10. Em qual número estou pensando? \"))\n",
        "\n",
        "if chute == resposta:\n",
        "  print(\"Parabéns! Você acertou :)\")\n",
        "elif chute < 1 or chute > 10:\n",
        "  print(\"Ops! O número digitado não é válido.\\n\")\n",
        "else:\n",
        "  print(\"Poxa, não foi dessa vez :( \\nA resposta era\", resposta)"
      ],
      "metadata": {
        "colab": {
          "base_uri": "https://localhost:8080/"
        },
        "id": "5Bw8PcR2vv2P",
        "outputId": "780b8b79-0751-4cc8-d079-cbaa3bfe209e"
      },
      "execution_count": null,
      "outputs": [
        {
          "output_type": "stream",
          "name": "stdout",
          "text": [
            "Estou pensando em um número de 1 a 10. Em qual número estou pensando? 6\n",
            "Poxa, não foi dessa vez :( \n",
            "A resposta era 2 .\n"
          ]
        }
      ]
    },
    {
      "cell_type": "code",
      "source": [
        "# Exemplo usado em aula:\n",
        "\n",
        "num1 = int(input())\n",
        "num2 = int(input())\n",
        "\n",
        "if num1 > num2:\n",
        "  print(\"0 primeiro numero é maior\")\n",
        "elif num1 < num2:\n",
        "  print(\"0 segundo numero é maior\")\n",
        "elif num1 == num2:\n",
        "  print(\"0s dois nimeros sao iguais\")\n",
        "\n"
      ],
      "metadata": {
        "id": "bgQyCIjQrhUI",
        "colab": {
          "base_uri": "https://localhost:8080/"
        },
        "outputId": "8dec945f-c342-4fa3-b3ce-4dd8ebb3130c"
      },
      "execution_count": null,
      "outputs": [
        {
          "output_type": "stream",
          "name": "stdout",
          "text": [
            "5\n",
            "3\n",
            "0 primeiro nimero é maior\n"
          ]
        }
      ]
    },
    {
      "cell_type": "code",
      "source": [
        "num1 = int(input())\n",
        "num2 = int(input())\n",
        "\n",
        "if num1 > num2:\n",
        "  print(\"0 primeiro numero é maior\")\n",
        "elif num1 < num2:\n",
        "  print(\"0 segundo numero é maior\")\n",
        "else:\n",
        "  print(\"Os dois numeros sao iguais\")"
      ],
      "metadata": {
        "id": "5CfDj8upuKy-",
        "colab": {
          "base_uri": "https://localhost:8080/"
        },
        "outputId": "cc848db4-aeee-432a-ecf3-bb58c2cbd369"
      },
      "execution_count": null,
      "outputs": [
        {
          "output_type": "stream",
          "name": "stdout",
          "text": [
            "2\n",
            "2\n",
            "Os dois nimeros sao iguais\n"
          ]
        }
      ]
    },
    {
      "cell_type": "code",
      "source": [
        "# Estrutura condicional encadeada:\n",
        "\n",
        "idioma = input(\"Escolha um idioma da lista:\\nIngles\\nItaliano\\n\").lower()\n",
        "mensagem = input(\"Escolha uma mensagem para traduzir: \\n'Olá'\\n'Tchau'\\n'Obrigado(a)'\\n'Até mais'\\n\").lower()\n",
        "\n",
        "if idioma == 'ingles':\n",
        "  if mensagem == 'ola':\n",
        "    print(\"Hello\")\n",
        "  elif mensagem == 'tchau':\n",
        "    print(\"Goodbye\")\n",
        "  elif mensagem == 'obrigado' or mensagem == 'obrigada':\n",
        "    print(\"Thank you\")\n",
        "  elif mensagem == 'ate mais':\n",
        "    print(\"See you soon\")\n",
        "  else:\n",
        "    print(\"Essa mensagem não está na lista fornecida!\")\n",
        "\n",
        "elif idioma == 'italiano':\n",
        "  if mensagem == 'ola' or mensagem == 'tchau':\n",
        "    print(\"Ciao\")\n",
        "  elif mensagem == 'obrigado' or mensagem == 'obrigada':\n",
        "    print(\"Grazie\")\n",
        "  elif mensagem == 'ate mais':\n",
        "    print(\"A presto\")\n",
        "  else:\n",
        "    print(\"Essa mensagem não está na lista fornecida!\")\n",
        "\n",
        "else:\n",
        "    print(\"Esse idioma não está na lista fornecida!\")\n"
      ],
      "metadata": {
        "colab": {
          "base_uri": "https://localhost:8080/"
        },
        "id": "LTBWXkjlyWds",
        "outputId": "6557ab12-f180-49e2-e1e4-41a4e0cbea8a"
      },
      "execution_count": null,
      "outputs": [
        {
          "output_type": "stream",
          "name": "stdout",
          "text": [
            "Escolha um idioma da lista:\n",
            "Ingles\n",
            "Italiano\n",
            "italiano\n",
            "Escolha uma mensagem para traduzir: \n",
            "'Olá'\n",
            "'Tchau'\n",
            "'Obrigado(a)'\n",
            "'Até mais'\n",
            "ate mais\n",
            "A presto\n"
          ]
        }
      ]
    },
    {
      "cell_type": "code",
      "source": [
        "# Exemplo usado em aula:\n",
        "\n",
        "primeiro = int(input(\"Digite o primeiro número: \"))\n",
        "segundo = int(input(\"Digite o segundo número: \"))\n",
        "terceiro = int(input(\"Digite o terceiro número: \"))\n",
        "\n",
        "print(\"sequência digitada: \",primeiro,'-',segundo,'-',terceiro)\n",
        "\n",
        "if(terceiro < segundo):\n",
        "      aux = terceiro\n",
        "      terceiro = segundo\n",
        "      segundo = aux\n",
        "\n",
        "if(segundo < primeiro):\n",
        "      aux = segundo\n",
        "      segundo = primeiro\n",
        "      primeiro = aux\n",
        "\n",
        "if(terceiro < segundo):\n",
        "      aux = terceiro\n",
        "      terceiro = segundo\n",
        "      segundo = aux\n",
        "\n",
        "print(\"sequência ordenada:\",primeiro,'-',segundo,'-',terceiro)"
      ],
      "metadata": {
        "id": "lTxkl32prjNR",
        "colab": {
          "base_uri": "https://localhost:8080/"
        },
        "outputId": "6c48708c-78d4-4cb8-ad98-71aca6a7e9d6"
      },
      "execution_count": null,
      "outputs": [
        {
          "output_type": "stream",
          "name": "stdout",
          "text": [
            "Digite o primeiro número: 9\n",
            "Digite o segundo número: 7\n",
            "Digite o terceiro número: 5\n",
            "sequência digitada:  9 - 7 - 5\n",
            "sequência ordenada: 5 - 7 - 9\n"
          ]
        }
      ]
    },
    {
      "cell_type": "code",
      "source": [
        "# Outra solução:\n",
        "\n",
        "a = int(input())\n",
        "b = int(input())\n",
        "c = int(input())\n",
        "\n",
        "if a <= b and a<=c and b <= c:\n",
        "    print(f'A ordem crescente é {a} , {b} e {c}')\n",
        "elif a <= b and a <=c and c <= b:\n",
        "    print(f'A ordem crescente é {a} , {c} e {b}')\n",
        "elif b <= a and b <= c and a <= c:\n",
        "    print(f'A ordem crescente é {b} , {a} e {c}')\n",
        "elif b <= a and b <= c and c <= a:\n",
        "    print(f'A ordem crescente é {b} , {c} e {a}')\n",
        "elif c <= a and c <= b and a <= b:\n",
        "    print(f'A ordem crescente é {c} , {a} e {b}')\n",
        "elif c <= a and c <= b and b <= a:\n",
        "    print(f'A ordem crescente é {c} , {b} e {a}')"
      ],
      "metadata": {
        "id": "nrlXMH0IuzdI"
      },
      "execution_count": null,
      "outputs": []
    },
    {
      "cell_type": "markdown",
      "source": [
        "## Exercícios"
      ],
      "metadata": {
        "id": "nAHFfMKMZwjH"
      }
    },
    {
      "cell_type": "markdown",
      "source": [
        "1) Te pedem para fazer um sistema para verificar quem pode entrar ou não numa festa, e só pode entrar quem é maior de idade! No seu sistema, a pessoa digitaria a idade dela e o sistema devolve: \"Pode entrar\" ou \"Tá fora, só daqui um(s) ano(s).\""
      ],
      "metadata": {
        "id": "NxEmswiYZxTE"
      }
    },
    {
      "cell_type": "code",
      "source": [
        "# Resolução do exercício 1:\n",
        "\n"
      ],
      "metadata": {
        "id": "2SaNWU6U10hv"
      },
      "execution_count": null,
      "outputs": []
    },
    {
      "cell_type": "markdown",
      "source": [
        "2) Para testar teus conhecimentos, o professor Jony pediu para você escrever um sisteminha. O sisteminha é o seguinte: Você recebe dois números; se os números são iguais, você soma; senão, você multiplica. No final da execução, o sistema tem que exibir na tela o resultado."
      ],
      "metadata": {
        "id": "O5ENG4_915E6"
      }
    },
    {
      "cell_type": "code",
      "source": [
        "# Resolução do exercício 2:\n",
        "\n"
      ],
      "metadata": {
        "id": "WouBFJhtvpUC"
      },
      "execution_count": null,
      "outputs": []
    },
    {
      "cell_type": "markdown",
      "source": [
        "3) Faça um programa que receba como entrada dois nomes e duas idades.  Compare o valor das duas idades (idade1 > idade2) e exiba qual a pessoa mais velha:\n",
        "\"NomeDaPessoa é a pessoa mais velha.\""
      ],
      "metadata": {
        "id": "cID_Mm6SvppU"
      }
    },
    {
      "cell_type": "code",
      "source": [
        "# Resolução do exercício 3:\n",
        "\n"
      ],
      "metadata": {
        "id": "XA6B4ILp19b0"
      },
      "execution_count": null,
      "outputs": []
    },
    {
      "cell_type": "markdown",
      "source": [
        "\n",
        "\n",
        "4) Faça um QUIZ:\n",
        "Escreva uma pergunta com 4 alternativas a), b), c), d) e uma delas é a resposta certa. O usuário vai digitar a letra da alternativa que acha correta e o programa deve mostrar se ele acertou ou errou."
      ],
      "metadata": {
        "id": "k_wg-C8Y1ny9"
      }
    },
    {
      "cell_type": "code",
      "source": [
        "# Resolução do exercício 4:\n",
        "\n"
      ],
      "metadata": {
        "id": "083NgcQa2XTJ"
      },
      "execution_count": null,
      "outputs": []
    },
    {
      "cell_type": "markdown",
      "source": [
        "5) Implemente um jogo de \"Pedra, Papel ou Tesoura\" para 2 jogadores.\n",
        "\n",
        "Cada jogador deve inserir sua escolha no formato string \"pedra\", \"papel\" ou \"tesoura\" e o jogo deve retornar quem ganhou: o jogador 1 ou o jogador 2."
      ],
      "metadata": {
        "id": "kcDs4rtx2Nbw"
      }
    },
    {
      "cell_type": "code",
      "source": [
        "# Resolução do exercício 5:\n",
        "\n"
      ],
      "metadata": {
        "id": "EAdPc_E-2QJC"
      },
      "execution_count": null,
      "outputs": []
    },
    {
      "cell_type": "markdown",
      "source": [
        "### Exercícios extra"
      ],
      "metadata": {
        "id": "3N6MV0MFxnr9"
      }
    },
    {
      "cell_type": "markdown",
      "source": [
        "1) Zero estava jogando futebol e surgiu a dúvida de se Juninho Pernambucano e Garrincha conviveram durante a mesma época.\n",
        "\n",
        "Faça um algoritmo que receba as datas de nascimento e morte de duas pessoas e exiba na tela se elas conviveram ou não."
      ],
      "metadata": {
        "id": "h23RIacG19x2"
      }
    },
    {
      "cell_type": "code",
      "source": [
        "# Resolução do exercício 1:\n",
        "\n"
      ],
      "metadata": {
        "id": "UNTKu3XR2Bsj"
      },
      "execution_count": null,
      "outputs": []
    },
    {
      "cell_type": "markdown",
      "source": [
        "2) Faça um programa que recebe 3 números, a, b e c, e os ordena de forma decrescente."
      ],
      "metadata": {
        "id": "L2Uw9zRc2CDZ"
      }
    },
    {
      "cell_type": "code",
      "source": [
        "# Resolução do exercício 2:\n",
        "\n"
      ],
      "metadata": {
        "id": "70v7-HvD2FZw"
      },
      "execution_count": null,
      "outputs": []
    },
    {
      "cell_type": "markdown",
      "source": [
        "3) A Padaria do Zap está muito chique e ele deciciu elaborar um código para facilitar cobranças.\n",
        "\n",
        "Ajude-o fazendo um algoritmo que calcule o que deve ser pago por um produto, considerando o **preço** e a **condição de pagamento** de acordo com a tabela a seguir. Em seguida exiba o valor.\n",
        "\n",
        "| Código | Condição de pagamento |\n",
        "|:---: |:--- |\n",
        "| 1 | À vista em dinheiro ou cheque, recebe 10% de desconto |\n",
        "| 2 | À vista no cartão de crédito, recebe 15% de desconto |\n",
        "| 3 | Em duas vezes, preço normal de etiqueta sem juros |\n",
        "| 4 | Em três vezes, preço normal de etiqueta mais juros de 10% |"
      ],
      "metadata": {
        "id": "edvKLTFM2Xjh"
      }
    },
    {
      "cell_type": "code",
      "source": [
        "# Resolução do exercício 3:\n",
        "\n"
      ],
      "metadata": {
        "id": "8PbvmB0u2Iam"
      },
      "execution_count": null,
      "outputs": []
    },
    {
      "cell_type": "markdown",
      "source": [
        "4) Fróis é um grande fã de dardos. Seu ídolo, Dartin Dartan, está indo muito bem no campeonato mundial e Fróis quer garantir que ele chegue a final.\n",
        "\n",
        "Para isso, Dartin deve acertar pelo menos dois de três arremessos dentro do círculo fixado no plano cartesiano e descrito pela seguinte equação $$(x-3)^2+(y-5)^2=10$$\n",
        "\n",
        "Note que o arremesso deve estar dentro de um segundo círculo $$(x-3)^2+(y-5)^2=16$$, ou será considerado inválido, e o participante Dartin desclassificado.\n",
        "\n",
        "Você deve receber os três arremessos, cada um descrito por 2 pontos $(x,y)$ no plano cartesiano, e então imprimir se Dartin foi para a final, não foi ou foi desclassificado por arremessos inválidos.\n",
        "\n",
        "Use a imagem abaixo para se localizar:\n",
        "![image.png](https://br.neurochispas.com/wp-content/uploads/2021/09/Equacao-da-circunferencia-com-o-centro-fora-da-origem.png)\n"
      ],
      "metadata": {
        "id": "h9m_7g6I2FsI"
      }
    },
    {
      "cell_type": "code",
      "source": [
        "# Resolução do exercício 4:\n",
        "\n"
      ],
      "metadata": {
        "id": "kI6432-53-bP"
      },
      "execution_count": null,
      "outputs": []
    },
    {
      "cell_type": "markdown",
      "source": [
        "5) Pokemon\n",
        "\n",
        "Escreva uma calculadora de dano de um Pokemon! Receba o nome e o tipo do pokemon do usuário, e calcule o dano que o ataque do adversário vai causar!\n",
        "O ataque do adversário deve ser decidido de forma aleatória e pode ser qualquer um desta tabela:\n",
        "\n",
        "| Ataque               | Dano       | Tipo        |\n",
        "|----------------------|------------|-------------|\n",
        "| Explosão de Fogo     | 60 de dano | Tipo Fogo   |\n",
        "| Rajada de Bolhas     | 30 de dano | Tipo Água   |\n",
        "| Tempestade de Folhas | 50 de dano | Tipo Planta |\n",
        "\n",
        "Para calcular o dano causado, você deve seguir essas regras:\n",
        "\n",
        "1. Um ataque tem o dano dobrado caso o alvo (pokemon do usuário) seja de um tipo cuja fraqueza é o tipo do ataque.\n",
        "2. Um ataque tem o dano dividido por 2 caso o alvo (pokemon do usuário) seja de um tipo cuja resistência é o tipo do ataque.\n",
        "\n",
        "Os tipos seguem a seguinte tabela:\n",
        "\n",
        "| Tipo   | Fraqueza | Resistência |\n",
        "|--------|----------|-------------|\n",
        "| Fogo   | Água     | Planta      |\n",
        "| Água   | Planta   | Fogo        |\n",
        "| Planta | Fogo     | Água        |\n",
        "\n",
        "No final o programa deve mostrar a quantidade de dano que o pokemon do usuário levou.\n",
        "\n",
        "Por exemplo, se o pokemon do usuário é um Squirtle, do tipo Água, e o ataque escolhido pelo adversário (de forma aleatória) foi a Tempestade de Folhas, você deve imprimir na tela a mensagem:\n",
        "\n",
        "> O pokemon Squirtle, do tipo Água, levou 100 de dano do ataque Tempestade de Folhas!"
      ],
      "metadata": {
        "id": "W8AQ1WZefgGy"
      }
    },
    {
      "cell_type": "code",
      "source": [
        "# Resolução do exercício 5:\n",
        "\n"
      ],
      "metadata": {
        "id": "wYncnG_YfiWm"
      },
      "execution_count": null,
      "outputs": []
    }
  ]
}