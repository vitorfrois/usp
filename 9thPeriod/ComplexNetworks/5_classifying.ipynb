{
 "cells": [
  {
   "cell_type": "markdown",
   "id": "35b5ccc0",
   "metadata": {},
   "source": [
    "# Classifying Networks\n",
    "\n",
    "- Vítor AMorim Fróis"
   ]
  },
  {
   "cell_type": "code",
   "execution_count": 111,
   "id": "31a1f6eb",
   "metadata": {},
   "outputs": [],
   "source": [
    "import os\n",
    "import math\n",
    "\n",
    "import networkx as nx\n",
    "import numpy as np\n",
    "import pandas as pd\n",
    "import igraph as ig\n",
    "import matplotlib.pyplot as plt\n",
    "\n",
    "from tqdm import tqdm\n",
    "from sklearn.decomposition import PCA\n",
    "from sklearn.preprocessing import StandardScaler, LabelEncoder\n",
    "from sklearn.neighbors import KNeighborsClassifier\n",
    "from dataclasses import dataclass"
   ]
  },
  {
   "cell_type": "markdown",
   "id": "5f9a3792",
   "metadata": {},
   "source": [
    "### Reading Networks"
   ]
  },
  {
   "cell_type": "code",
   "execution_count": 112,
   "id": "9ed5b86f",
   "metadata": {},
   "outputs": [],
   "source": [
    "@dataclass\n",
    "class Network:\n",
    "    graph: nx.Graph\n",
    "    name: str\n",
    "    network_type: str\n",
    "    metrics: np.array\n"
   ]
  },
  {
   "cell_type": "code",
   "execution_count": 113,
   "id": "590fa5be",
   "metadata": {},
   "outputs": [
    {
     "name": "stderr",
     "output_type": "stream",
     "text": [
      "100%|██████████| 3/3 [00:00<00:00, 15.44it/s]\n"
     ]
    }
   ],
   "source": [
    "network_dir = 'data/assignment_5'\n",
    "real_networks_list: list[Network] = []\n",
    "\n",
    "for network_type in tqdm(os.listdir(network_dir)):\n",
    "    for file in os.listdir(f'{network_dir}/{network_type}'):\n",
    "        file_full_path = f'{network_dir}/{network_type}/{file}'\n",
    "        file_format = file.split('.')[-1]\n",
    "        if file_format == 'csv':\n",
    "            df = pd.read_csv(file_full_path)\n",
    "            df = df[df.columns[0:2]] # get first two columns\n",
    "            graph = nx.from_pandas_edgelist(df=df, source=df.columns[0], target=df.columns[1])\n",
    "        elif file_format == 'edgelist':\n",
    "            graph = nx.read_edgelist(file_full_path, data=(('weight', int),))\n",
    "        elif file_format == 'gml':\n",
    "            graph = nx.read_gml(file_full_path, label = 'id')\n",
    "        elif file_format == 'graphml':\n",
    "            graph = nx.read_graphml(file_full_path)\n",
    "\n",
    "        largest_component = max(nx.connected_components(graph), key=len)\n",
    "        graph = graph.subgraph(largest_component)\n",
    "\n",
    "        graph = graph.to_undirected()\n",
    "        graph.remove_edges_from(nx.selfloop_edges(graph))\n",
    "\n",
    "        real_networks_list.append(\n",
    "            Network(\n",
    "                graph=graph,\n",
    "                name=file,\n",
    "                network_type=network_type,\n",
    "                metrics=None\n",
    "            )\n",
    "        )\n"
   ]
  },
  {
   "cell_type": "markdown",
   "id": "7e0ad22f",
   "metadata": {},
   "source": [
    "## Characterize Networks"
   ]
  },
  {
   "cell_type": "code",
   "execution_count": 114,
   "id": "63db4834",
   "metadata": {},
   "outputs": [],
   "source": [
    "class NetworkMeasure:\n",
    "    nxgraph: nx.Graph\n",
    "    measure_dict: dict[str, float]\n",
    "    degree_values: np.array\n",
    "    degree_probability: np.array\n",
    "\n",
    "    def __init__(self, graph: nx.Graph):\n",
    "        self.graph = graph\n",
    "\n",
    "    def get_measure_dict(self) -> dict[str, float]:\n",
    "        measure_dict = {\n",
    "            'clustering': self.clustering(),\n",
    "            'closeness': self.closeness(),\n",
    "            'betweenness': self.betweenness(),\n",
    "            'assortativity': self.assortativity(),\n",
    "            # 'information_centrality': self.information_centrality(),\n",
    "            # 'approximate_current_flow_betweenness_centrality': self.approximate_current_flow_betweenness_centrality(),\n",
    "            'shannon_entropy': self.shannon_entropy(),\n",
    "            'degree_variance': self.degree_variance(),\n",
    "            'average_degree': self.average_degree()\n",
    "        }\n",
    "        return measure_dict\n",
    "\n",
    "    def clustering(self) -> float:\n",
    "        return nx.transitivity(self.graph)\n",
    "\n",
    "    def closeness(self) -> float:\n",
    "        return np.mean(list(nx.closeness_centrality(self.graph).values()))\n",
    "\n",
    "    def betweenness(self) -> float:\n",
    "        return np.mean(list(nx.betweenness_centrality(self.graph).values()))\n",
    "    \n",
    "    def eigenvector(self) -> float:\n",
    "        return np.mean(list(nx.eigenvector_centrality(self.graph).values()))\n",
    "\n",
    "    def assortativity(self) -> float:\n",
    "        return nx.degree_assortativity_coefficient(self.graph)\n",
    "\n",
    "    def information_centrality(self) -> float:\n",
    "        return np.mean(list(nx.information_centrality(self.graph).values()))\n",
    "\n",
    "    def approximate_current_flow_betweenness_centrality(self) -> float:\n",
    "        return np.mean(list(nx.approximate_current_flow_betweenness_centrality(self.graph).values()))\n",
    "\n",
    "    def shannon_entropy(self) -> float:\n",
    "        k, Pk = self.degree_distribution()\n",
    "        H = 0\n",
    "        for p in Pk:\n",
    "            if (p > 0):\n",
    "                H -= p * math.log(p, 2)\n",
    "        return H\n",
    "\n",
    "    def degree_variance(self) -> float:\n",
    "        k, Pk = self.degree_distribution()\n",
    "        return np.std(k)\n",
    "\n",
    "    def average_degree(self) -> float:\n",
    "        k, _ = self.degree_distribution()\n",
    "        return np.mean(k)\n",
    "\n",
    "    def degree_distribution(self):\n",
    "        degree_list = np.array(list(dict(self.graph.degree()).values()))\n",
    "        max_degree = np.max(degree_list)\n",
    "        degree_values = np.arange(0, max_degree + 1)\n",
    "        degree_probability = np.zeros(max_degree + 1)\n",
    "\n",
    "        for k in degree_list:\n",
    "            degree_probability[k] += 1\n",
    "\n",
    "        degree_probability = degree_probability/sum(degree_probability)\n",
    "        return degree_values, degree_probability"
   ]
  },
  {
   "cell_type": "markdown",
   "id": "39868032",
   "metadata": {},
   "source": [
    "## Generate Random Networks"
   ]
  },
  {
   "cell_type": "code",
   "execution_count": 115,
   "id": "61b5b4fb",
   "metadata": {},
   "outputs": [],
   "source": [
    "@dataclass\n",
    "class NetworkSpec:\n",
    "    name: str\n",
    "    function: callable\n",
    "    kwargs: dict\n",
    "\n",
    "def get_random_network_spec(n_nodes: int, average_degree: float) -> list[NetworkSpec]:\n",
    "    return [\n",
    "        NetworkSpec(\n",
    "            'barabasi_linear',\n",
    "            ig.Graph.Barabasi,\n",
    "            kwargs={\n",
    "                'n': n_nodes, 'm': 5, \n",
    "                'outpref': True, \n",
    "                'directed': False, \n",
    "                'power': 1.0, \n",
    "                'zero_appeal': 1, \n",
    "                'implementation': \"psumtree\", \n",
    "                'start_from': None\n",
    "            }\n",
    "        ),\n",
    "        NetworkSpec(\n",
    "            'barabasi_nonlinear_05',\n",
    "            ig.Graph.Barabasi,\n",
    "            kwargs={\n",
    "                'n': n_nodes, 'm': 5, \n",
    "                'outpref': True, \n",
    "                'directed': False, \n",
    "                'power': 0.5, \n",
    "                'zero_appeal': 1, \n",
    "                'implementation': \"psumtree\", \n",
    "                'start_from': None\n",
    "            }\n",
    "        ),\n",
    "        NetworkSpec(\n",
    "            'barabasi_nonlinear_15',\n",
    "            ig.Graph.Barabasi,\n",
    "            kwargs={\n",
    "                'n': n_nodes, 'm': 5, \n",
    "                'outpref': True, \n",
    "                'directed': False, \n",
    "                'power': 1.5, \n",
    "                'zero_appeal': 1, \n",
    "                'implementation': \"psumtree\", \n",
    "                'start_from': None\n",
    "            }\n",
    "        ),\n",
    "        NetworkSpec(\n",
    "            'waxman',\n",
    "            nx.waxman_graph,\n",
    "            kwargs={\n",
    "                'n': n_nodes, \n",
    "                'seed': None\n",
    "            }\n",
    "        ),\n",
    "        NetworkSpec(\n",
    "            'erdos_renyi',\n",
    "            nx.erdos_renyi_graph,\n",
    "            kwargs={'n': n_nodes, 'p': average_degree/(n_nodes-1)}\n",
    "        ),\n",
    "        NetworkSpec(\n",
    "            'watts-strogatz',\n",
    "            nx.watts_strogatz_graph, \n",
    "            kwargs={\n",
    "                'n': n_nodes,\n",
    "                'k': int(np.ceil(average_degree)),\n",
    "                'p': 0.1\n",
    "            }\n",
    "        )\n",
    "    ]\n",
    "        "
   ]
  },
  {
   "cell_type": "code",
   "execution_count": 116,
   "id": "11732fc5",
   "metadata": {},
   "outputs": [],
   "source": [
    "def get_random_networks(n_nodes, average_degree, n_networks: int = 10) -> list[Network]:\n",
    "    random_network_spec = get_random_network_spec(n_nodes, average_degree)\n",
    "    random_network_list = []\n",
    "    for spec in tqdm(random_network_spec):\n",
    "        for i in tqdm(range(n_networks), leave=False):\n",
    "            graph = spec.function(**spec.kwargs)\n",
    "            if not isinstance(graph, nx.Graph):\n",
    "                graph = graph.to_networkx()\n",
    "            random_network_list.append(\n",
    "                Network(\n",
    "                    graph=graph,\n",
    "                    name=spec.name,\n",
    "                    network_type='random',\n",
    "                    metrics=None\n",
    "                )\n",
    "            )\n",
    "    return random_network_list"
   ]
  },
  {
   "cell_type": "markdown",
   "id": "8b53d3cc",
   "metadata": {},
   "source": [
    "## Analyzing Real Networks"
   ]
  },
  {
   "cell_type": "markdown",
   "id": "54c7ae0c",
   "metadata": {},
   "source": [
    "### Rat Brain"
   ]
  },
  {
   "cell_type": "code",
   "execution_count": 117,
   "id": "ddec8ea3",
   "metadata": {},
   "outputs": [
    {
     "name": "stdout",
     "output_type": "stream",
     "text": [
      "rat_brain.csv\n",
      "biological\n"
     ]
    },
    {
     "data": {
      "text/html": [
       "<div>\n",
       "<style scoped>\n",
       "    .dataframe tbody tr th:only-of-type {\n",
       "        vertical-align: middle;\n",
       "    }\n",
       "\n",
       "    .dataframe tbody tr th {\n",
       "        vertical-align: top;\n",
       "    }\n",
       "\n",
       "    .dataframe thead th {\n",
       "        text-align: right;\n",
       "    }\n",
       "</style>\n",
       "<table border=\"1\" class=\"dataframe\">\n",
       "  <thead>\n",
       "    <tr style=\"text-align: right;\">\n",
       "      <th></th>\n",
       "      <th>clustering</th>\n",
       "      <th>closeness</th>\n",
       "      <th>betweenness</th>\n",
       "      <th>assortativity</th>\n",
       "      <th>shannon_entropy</th>\n",
       "      <th>degree_variance</th>\n",
       "      <th>average_degree</th>\n",
       "    </tr>\n",
       "  </thead>\n",
       "  <tbody>\n",
       "    <tr>\n",
       "      <th>0</th>\n",
       "      <td>0.167711</td>\n",
       "      <td>0.450241</td>\n",
       "      <td>0.005379</td>\n",
       "      <td>-0.799867</td>\n",
       "      <td>2.80914</td>\n",
       "      <td>42.434263</td>\n",
       "      <td>73.0</td>\n",
       "    </tr>\n",
       "  </tbody>\n",
       "</table>\n",
       "</div>"
      ],
      "text/plain": [
       "   clustering  closeness  betweenness  assortativity  shannon_entropy  \\\n",
       "0    0.167711   0.450241     0.005379      -0.799867          2.80914   \n",
       "\n",
       "   degree_variance  average_degree  \n",
       "0        42.434263            73.0  "
      ]
     },
     "execution_count": 117,
     "metadata": {},
     "output_type": "execute_result"
    }
   ],
   "source": [
    "real_network = real_networks_list[0]\n",
    "print(real_network.name)\n",
    "print(real_network.network_type)\n",
    "\n",
    "metrics = NetworkMeasure(real_network.graph)\n",
    "real_graph_metrics = metrics.get_measure_dict()\n",
    "\n",
    "pd.DataFrame([real_graph_metrics])"
   ]
  },
  {
   "cell_type": "markdown",
   "id": "e5a0e64e",
   "metadata": {},
   "source": [
    "#### Computing Metrics"
   ]
  },
  {
   "cell_type": "code",
   "execution_count": 17,
   "id": "6b3816ed",
   "metadata": {},
   "outputs": [
    {
     "name": "stderr",
     "output_type": "stream",
     "text": [
      "100%|██████████| 6/6 [00:00<00:00,  7.22it/s]\n",
      "100%|██████████| 60/60 [00:34<00:00,  1.74it/s]"
     ]
    },
    {
     "name": "stdout",
     "output_type": "stream",
     "text": [
      "[]\n"
     ]
    },
    {
     "name": "stderr",
     "output_type": "stream",
     "text": [
      "\n"
     ]
    },
    {
     "data": {
      "text/html": [
       "<div>\n",
       "<style scoped>\n",
       "    .dataframe tbody tr th:only-of-type {\n",
       "        vertical-align: middle;\n",
       "    }\n",
       "\n",
       "    .dataframe tbody tr th {\n",
       "        vertical-align: top;\n",
       "    }\n",
       "\n",
       "    .dataframe thead th {\n",
       "        text-align: right;\n",
       "    }\n",
       "</style>\n",
       "<table border=\"1\" class=\"dataframe\">\n",
       "  <thead>\n",
       "    <tr style=\"text-align: right;\">\n",
       "      <th></th>\n",
       "      <th>clustering</th>\n",
       "      <th>closeness</th>\n",
       "      <th>betweenness</th>\n",
       "      <th>assortativity</th>\n",
       "      <th>shannon_entropy</th>\n",
       "      <th>degree_variance</th>\n",
       "      <th>average_degree</th>\n",
       "    </tr>\n",
       "  </thead>\n",
       "  <tbody>\n",
       "    <tr>\n",
       "      <th>0</th>\n",
       "      <td>-0.611275</td>\n",
       "      <td>-0.563714</td>\n",
       "      <td>0.422895</td>\n",
       "      <td>-0.112470</td>\n",
       "      <td>-0.200484</td>\n",
       "      <td>-0.439104</td>\n",
       "      <td>-0.439236</td>\n",
       "    </tr>\n",
       "    <tr>\n",
       "      <th>1</th>\n",
       "      <td>-0.608959</td>\n",
       "      <td>-0.541439</td>\n",
       "      <td>0.396666</td>\n",
       "      <td>-0.345299</td>\n",
       "      <td>-0.204015</td>\n",
       "      <td>-0.150463</td>\n",
       "      <td>-0.150582</td>\n",
       "    </tr>\n",
       "    <tr>\n",
       "      <th>2</th>\n",
       "      <td>-0.580249</td>\n",
       "      <td>-0.541569</td>\n",
       "      <td>0.397701</td>\n",
       "      <td>-0.322030</td>\n",
       "      <td>-0.146873</td>\n",
       "      <td>-0.035011</td>\n",
       "      <td>-0.035120</td>\n",
       "    </tr>\n",
       "    <tr>\n",
       "      <th>3</th>\n",
       "      <td>-0.599746</td>\n",
       "      <td>-0.552970</td>\n",
       "      <td>0.410954</td>\n",
       "      <td>-0.236465</td>\n",
       "      <td>-0.184282</td>\n",
       "      <td>-0.294782</td>\n",
       "      <td>-0.294909</td>\n",
       "    </tr>\n",
       "    <tr>\n",
       "      <th>4</th>\n",
       "      <td>-0.620639</td>\n",
       "      <td>-0.542749</td>\n",
       "      <td>0.398461</td>\n",
       "      <td>-0.332480</td>\n",
       "      <td>-0.267610</td>\n",
       "      <td>-0.265918</td>\n",
       "      <td>-0.266043</td>\n",
       "    </tr>\n",
       "  </tbody>\n",
       "</table>\n",
       "</div>"
      ],
      "text/plain": [
       "   clustering  closeness  betweenness  assortativity  shannon_entropy  \\\n",
       "0   -0.611275  -0.563714     0.422895      -0.112470        -0.200484   \n",
       "1   -0.608959  -0.541439     0.396666      -0.345299        -0.204015   \n",
       "2   -0.580249  -0.541569     0.397701      -0.322030        -0.146873   \n",
       "3   -0.599746  -0.552970     0.410954      -0.236465        -0.184282   \n",
       "4   -0.620639  -0.542749     0.398461      -0.332480        -0.267610   \n",
       "\n",
       "   degree_variance  average_degree  \n",
       "0        -0.439104       -0.439236  \n",
       "1        -0.150463       -0.150582  \n",
       "2        -0.035011       -0.035120  \n",
       "3        -0.294782       -0.294909  \n",
       "4        -0.265918       -0.266043  "
      ]
     },
     "execution_count": 17,
     "metadata": {},
     "output_type": "execute_result"
    }
   ],
   "source": [
    "N = len(real_network.graph)\n",
    "average_degree = real_graph_metrics['average_degree']\n",
    "\n",
    "random_nets = get_random_networks(N, average_degree)\n",
    "metrics_list = []\n",
    "class_list = []\n",
    "\n",
    "error_log = []\n",
    "\n",
    "for network in tqdm(random_nets):\n",
    "    try:\n",
    "        metrics = NetworkMeasure(network.graph)\n",
    "        network_metrics = metrics.get_measure_dict()\n",
    "        metrics_list.append(network_metrics)\n",
    "        class_list.append(network.name)\n",
    "    except Exception as e:\n",
    "        error_log.append(e)\n",
    "\n",
    "print(np.unique(error_log))\n",
    "\n",
    "metric_df = pd.DataFrame(metrics_list)\n",
    "scaler = StandardScaler()\n",
    "metric_df[metric_df.columns] = scaler.fit_transform(metric_df)\n",
    "metric_df.head()"
   ]
  },
  {
   "cell_type": "markdown",
   "id": "40abd5c4",
   "metadata": {},
   "source": [
    "#### PCA and KNN"
   ]
  },
  {
   "cell_type": "code",
   "execution_count": 21,
   "id": "053d2100",
   "metadata": {},
   "outputs": [
    {
     "name": "stderr",
     "output_type": "stream",
     "text": [
      "/home/vitor/Documents/usp/9thPeriod/ComplexNetworks/venv/lib/python3.13/site-packages/sklearn/utils/validation.py:2739: UserWarning: X does not have valid feature names, but PCA was fitted with feature names\n",
      "  warnings.warn(\n"
     ]
    }
   ],
   "source": [
    "pca = PCA(n_components=2)\n",
    "pca.fit(metric_df)\n",
    "X = pca.transform(metric_df)\n",
    "\n",
    "X_test = pca.transform(\n",
    "    scaler.transform(\n",
    "        pd.DataFrame([real_graph_metrics])\n",
    "    )\n",
    ")\n",
    "\n",
    "encoder = LabelEncoder()\n",
    "encoded_list = encoder.fit_transform(class_list)\n",
    "\n",
    "knn = KNeighborsClassifier()\n",
    "knn.fit(metric_df, class_list)\n",
    "most_similar_random_graph = knn.predict(pd.DataFrame([real_graph_metrics]))"
   ]
  },
  {
   "cell_type": "markdown",
   "id": "13310bbb",
   "metadata": {},
   "source": [
    "#### Plot"
   ]
  },
  {
   "cell_type": "code",
   "execution_count": 22,
   "id": "9b11a134",
   "metadata": {},
   "outputs": [
    {
     "data": {
      "text/plain": [
       "Text(0.5, 1.0, 'rat_brain.csv is closer to barabasi_nonlinear_15')"
      ]
     },
     "execution_count": 22,
     "metadata": {},
     "output_type": "execute_result"
    },
    {
     "data": {
      "image/png": "[encoded data removed]",
      "text/plain": [
       "<Figure size 640x480 with 1 Axes>"
      ]
     },
     "metadata": {},
     "output_type": "display_data"
    }
   ],
   "source": [
    "plt.scatter(X_test[:, 0], X_test[:, 1], c='red', marker='*')\n",
    "scatter = plt.scatter(X[:, 0], X[:, 1], c=encoded_list)\n",
    "plt.legend(\n",
    "    handles=scatter.legend_elements()[0], \n",
    "    labels=list(np.unique(class_list))\n",
    ")\n",
    "plt.title(f'{real_network.name} is closer to {most_similar_random_graph[0]}')"
   ]
  },
  {
   "cell_type": "markdown",
   "id": "6db01e30",
   "metadata": {},
   "source": [
    "### Food Web"
   ]
  },
  {
   "cell_type": "code",
   "execution_count": 143,
   "id": "3b237f3d",
   "metadata": {},
   "outputs": [
    {
     "name": "stdout",
     "output_type": "stream",
     "text": [
      "foodweb.edgelist\n",
      "biological\n"
     ]
    },
    {
     "data": {
      "text/html": [
       "<div>\n",
       "<style scoped>\n",
       "    .dataframe tbody tr th:only-of-type {\n",
       "        vertical-align: middle;\n",
       "    }\n",
       "\n",
       "    .dataframe tbody tr th {\n",
       "        vertical-align: top;\n",
       "    }\n",
       "\n",
       "    .dataframe thead th {\n",
       "        text-align: right;\n",
       "    }\n",
       "</style>\n",
       "<table border=\"1\" class=\"dataframe\">\n",
       "  <thead>\n",
       "    <tr style=\"text-align: right;\">\n",
       "      <th></th>\n",
       "      <th>clustering</th>\n",
       "      <th>closeness</th>\n",
       "      <th>betweenness</th>\n",
       "      <th>assortativity</th>\n",
       "      <th>shannon_entropy</th>\n",
       "      <th>degree_variance</th>\n",
       "      <th>average_degree</th>\n",
       "    </tr>\n",
       "  </thead>\n",
       "  <tbody>\n",
       "    <tr>\n",
       "      <th>0</th>\n",
       "      <td>0.311915</td>\n",
       "      <td>0.567805</td>\n",
       "      <td>0.006161</td>\n",
       "      <td>-0.111663</td>\n",
       "      <td>5.327094</td>\n",
       "      <td>32.04164</td>\n",
       "      <td>55.0</td>\n",
       "    </tr>\n",
       "  </tbody>\n",
       "</table>\n",
       "</div>"
      ],
      "text/plain": [
       "   clustering  closeness  betweenness  assortativity  shannon_entropy  \\\n",
       "0    0.311915   0.567805     0.006161      -0.111663         5.327094   \n",
       "\n",
       "   degree_variance  average_degree  \n",
       "0         32.04164            55.0  "
      ]
     },
     "execution_count": 143,
     "metadata": {},
     "output_type": "execute_result"
    }
   ],
   "source": [
    "real_network = real_networks_list[1]\n",
    "print(real_network.name)\n",
    "print(real_network.network_type)\n",
    "\n",
    "metrics = NetworkMeasure(real_network.graph)\n",
    "real_graph_metrics = metrics.get_measure_dict()\n",
    "\n",
    "pd.DataFrame([real_graph_metrics])"
   ]
  },
  {
   "cell_type": "markdown",
   "id": "9d80c50d",
   "metadata": {},
   "source": [
    "#### Computing Metrics"
   ]
  },
  {
   "cell_type": "code",
   "execution_count": 144,
   "id": "30c9eed2",
   "metadata": {},
   "outputs": [
    {
     "name": "stderr",
     "output_type": "stream",
     "text": [
      "100%|██████████| 6/6 [00:00<00:00,  6.82it/s]\n",
      "100%|██████████| 120/120 [00:16<00:00,  7.14it/s]"
     ]
    },
    {
     "name": "stdout",
     "output_type": "stream",
     "text": [
      "[]\n"
     ]
    },
    {
     "name": "stderr",
     "output_type": "stream",
     "text": [
      "\n"
     ]
    },
    {
     "data": {
      "text/html": [
       "<div>\n",
       "<style scoped>\n",
       "    .dataframe tbody tr th:only-of-type {\n",
       "        vertical-align: middle;\n",
       "    }\n",
       "\n",
       "    .dataframe tbody tr th {\n",
       "        vertical-align: top;\n",
       "    }\n",
       "\n",
       "    .dataframe thead th {\n",
       "        text-align: right;\n",
       "    }\n",
       "</style>\n",
       "<table border=\"1\" class=\"dataframe\">\n",
       "  <thead>\n",
       "    <tr style=\"text-align: right;\">\n",
       "      <th></th>\n",
       "      <th>clustering</th>\n",
       "      <th>closeness</th>\n",
       "      <th>betweenness</th>\n",
       "      <th>assortativity</th>\n",
       "      <th>shannon_entropy</th>\n",
       "      <th>degree_variance</th>\n",
       "      <th>average_degree</th>\n",
       "    </tr>\n",
       "  </thead>\n",
       "  <tbody>\n",
       "    <tr>\n",
       "      <th>0</th>\n",
       "      <td>-0.593355</td>\n",
       "      <td>-0.274629</td>\n",
       "      <td>0.025094</td>\n",
       "      <td>-0.293637</td>\n",
       "      <td>0.194118</td>\n",
       "      <td>-0.081108</td>\n",
       "      <td>-0.081398</td>\n",
       "    </tr>\n",
       "    <tr>\n",
       "      <th>1</th>\n",
       "      <td>-0.625139</td>\n",
       "      <td>-0.305325</td>\n",
       "      <td>0.053965</td>\n",
       "      <td>-0.183365</td>\n",
       "      <td>0.323414</td>\n",
       "      <td>-0.497634</td>\n",
       "      <td>-0.498032</td>\n",
       "    </tr>\n",
       "    <tr>\n",
       "      <th>2</th>\n",
       "      <td>-0.549817</td>\n",
       "      <td>-0.304008</td>\n",
       "      <td>0.055285</td>\n",
       "      <td>0.048841</td>\n",
       "      <td>0.135839</td>\n",
       "      <td>-0.358785</td>\n",
       "      <td>-0.359154</td>\n",
       "    </tr>\n",
       "    <tr>\n",
       "      <th>3</th>\n",
       "      <td>-0.565630</td>\n",
       "      <td>-0.290767</td>\n",
       "      <td>0.040437</td>\n",
       "      <td>-0.273890</td>\n",
       "      <td>-0.069683</td>\n",
       "      <td>-0.405067</td>\n",
       "      <td>-0.405447</td>\n",
       "    </tr>\n",
       "    <tr>\n",
       "      <th>4</th>\n",
       "      <td>-0.552633</td>\n",
       "      <td>-0.276359</td>\n",
       "      <td>0.028394</td>\n",
       "      <td>-0.123289</td>\n",
       "      <td>0.191670</td>\n",
       "      <td>0.057723</td>\n",
       "      <td>0.057480</td>\n",
       "    </tr>\n",
       "  </tbody>\n",
       "</table>\n",
       "</div>"
      ],
      "text/plain": [
       "   clustering  closeness  betweenness  assortativity  shannon_entropy  \\\n",
       "0   -0.593355  -0.274629     0.025094      -0.293637         0.194118   \n",
       "1   -0.625139  -0.305325     0.053965      -0.183365         0.323414   \n",
       "2   -0.549817  -0.304008     0.055285       0.048841         0.135839   \n",
       "3   -0.565630  -0.290767     0.040437      -0.273890        -0.069683   \n",
       "4   -0.552633  -0.276359     0.028394      -0.123289         0.191670   \n",
       "\n",
       "   degree_variance  average_degree  \n",
       "0        -0.081108       -0.081398  \n",
       "1        -0.497634       -0.498032  \n",
       "2        -0.358785       -0.359154  \n",
       "3        -0.405067       -0.405447  \n",
       "4         0.057723        0.057480  "
      ]
     },
     "execution_count": 144,
     "metadata": {},
     "output_type": "execute_result"
    }
   ],
   "source": [
    "N = len(real_network.graph)\n",
    "average_degree = real_graph_metrics['average_degree']\n",
    "\n",
    "random_nets = get_random_networks(N, average_degree, 20)\n",
    "metrics_list = []\n",
    "class_list = []\n",
    "\n",
    "error_log = []\n",
    "\n",
    "for network in tqdm(random_nets):\n",
    "    try:\n",
    "        metrics = NetworkMeasure(network.graph)\n",
    "        network_metrics = metrics.get_measure_dict()\n",
    "        metrics_list.append(network_metrics)\n",
    "        class_list.append(network.name)\n",
    "    except Exception as e:\n",
    "        error_log.append(e)\n",
    "\n",
    "print(error_log)\n",
    "\n",
    "metric_df = pd.DataFrame(metrics_list)\n",
    "scaler = StandardScaler()\n",
    "metric_df[metric_df.columns] = scaler.fit_transform(metric_df)\n",
    "metric_df.head()"
   ]
  },
  {
   "cell_type": "markdown",
   "id": "e34cbf5e",
   "metadata": {},
   "source": [
    "#### PCA and KNN"
   ]
  },
  {
   "cell_type": "code",
   "execution_count": 145,
   "id": "90a436d9",
   "metadata": {},
   "outputs": [
    {
     "name": "stderr",
     "output_type": "stream",
     "text": [
      "/home/vitor/Documents/usp/9thPeriod/ComplexNetworks/venv/lib/python3.13/site-packages/sklearn/utils/validation.py:2739: UserWarning: X does not have valid feature names, but PCA was fitted with feature names\n",
      "  warnings.warn(\n"
     ]
    }
   ],
   "source": [
    "pca = PCA(n_components=2)\n",
    "pca.fit(metric_df)\n",
    "X = pca.transform(metric_df)\n",
    "X_test = pca.transform(\n",
    "    scaler.transform(\n",
    "        pd.DataFrame([real_graph_metrics])\n",
    "    )\n",
    ")\n",
    "encoder = LabelEncoder()\n",
    "encoded_list = encoder.fit_transform(class_list)\n",
    "\n",
    "knn = KNeighborsClassifier()\n",
    "knn.fit(X, class_list)\n",
    "most_similar_random_graph = knn.predict(X_test)"
   ]
  },
  {
   "cell_type": "markdown",
   "id": "ca2cc586",
   "metadata": {},
   "source": [
    "#### Plot"
   ]
  },
  {
   "cell_type": "code",
   "execution_count": 147,
   "id": "3ff6d58d",
   "metadata": {},
   "outputs": [
    {
     "data": {
      "text/plain": [
       "Text(0.5, 1.0, 'foodweb.edgelist is closer to erdos_renyi')"
      ]
     },
     "execution_count": 147,
     "metadata": {},
     "output_type": "execute_result"
    },
    {
     "data": {
      "image/png": "[encoded data removed]",
      "text/plain": [
       "<Figure size 640x480 with 1 Axes>"
      ]
     },
     "metadata": {},
     "output_type": "display_data"
    }
   ],
   "source": [
    "scatter = plt.scatter(X[:, 0], X[:, 1], c=encoded_list)\n",
    "plt.scatter(X_test[:, 0], X_test[:, 1], c='red', marker='*')\n",
    "plt.legend(\n",
    "    handles=scatter.legend_elements()[0], \n",
    "    labels=list(np.unique(class_list))\n",
    ")\n",
    "plt.title(f'{real_network.name} is closer to {most_similar_random_graph[0]}')"
   ]
  },
  {
   "cell_type": "markdown",
   "id": "65dd991e",
   "metadata": {},
   "source": [
    "### Connectome"
   ]
  },
  {
   "cell_type": "code",
   "execution_count": 148,
   "id": "283d5bab",
   "metadata": {},
   "outputs": [
    {
     "name": "stdout",
     "output_type": "stream",
     "text": [
      "budapest_connectome.graphml\n",
      "biological\n"
     ]
    },
    {
     "data": {
      "text/html": [
       "<div>\n",
       "<style scoped>\n",
       "    .dataframe tbody tr th:only-of-type {\n",
       "        vertical-align: middle;\n",
       "    }\n",
       "\n",
       "    .dataframe tbody tr th {\n",
       "        vertical-align: top;\n",
       "    }\n",
       "\n",
       "    .dataframe thead th {\n",
       "        text-align: right;\n",
       "    }\n",
       "</style>\n",
       "<table border=\"1\" class=\"dataframe\">\n",
       "  <thead>\n",
       "    <tr style=\"text-align: right;\">\n",
       "      <th></th>\n",
       "      <th>clustering</th>\n",
       "      <th>closeness</th>\n",
       "      <th>betweenness</th>\n",
       "      <th>assortativity</th>\n",
       "      <th>shannon_entropy</th>\n",
       "      <th>degree_variance</th>\n",
       "      <th>average_degree</th>\n",
       "    </tr>\n",
       "  </thead>\n",
       "  <tbody>\n",
       "    <tr>\n",
       "      <th>0</th>\n",
       "      <td>0.120394</td>\n",
       "      <td>0.215773</td>\n",
       "      <td>0.008439</td>\n",
       "      <td>-0.20046</td>\n",
       "      <td>3.049803</td>\n",
       "      <td>27.422618</td>\n",
       "      <td>47.0</td>\n",
       "    </tr>\n",
       "  </tbody>\n",
       "</table>\n",
       "</div>"
      ],
      "text/plain": [
       "   clustering  closeness  betweenness  assortativity  shannon_entropy  \\\n",
       "0    0.120394   0.215773     0.008439       -0.20046         3.049803   \n",
       "\n",
       "   degree_variance  average_degree  \n",
       "0        27.422618            47.0  "
      ]
     },
     "execution_count": 148,
     "metadata": {},
     "output_type": "execute_result"
    }
   ],
   "source": [
    "real_network = real_networks_list[2]\n",
    "print(real_network.name)\n",
    "print(real_network.network_type)\n",
    "\n",
    "metrics = NetworkMeasure(real_network.graph)\n",
    "real_graph_metrics = metrics.get_measure_dict()\n",
    "\n",
    "pd.DataFrame([real_graph_metrics])"
   ]
  },
  {
   "cell_type": "markdown",
   "id": "76fa8f2c",
   "metadata": {},
   "source": [
    "#### Computing Metrics"
   ]
  },
  {
   "cell_type": "code",
   "execution_count": 149,
   "id": "31bb5c31",
   "metadata": {},
   "outputs": [
    {
     "name": "stderr",
     "output_type": "stream",
     "text": [
      "100%|██████████| 6/6 [00:04<00:00,  1.27it/s]\n",
      "100%|██████████| 120/120 [02:32<00:00,  1.27s/it]"
     ]
    },
    {
     "name": "stdout",
     "output_type": "stream",
     "text": [
      "[]\n"
     ]
    },
    {
     "name": "stderr",
     "output_type": "stream",
     "text": [
      "\n"
     ]
    },
    {
     "data": {
      "text/html": [
       "<div>\n",
       "<style scoped>\n",
       "    .dataframe tbody tr th:only-of-type {\n",
       "        vertical-align: middle;\n",
       "    }\n",
       "\n",
       "    .dataframe tbody tr th {\n",
       "        vertical-align: top;\n",
       "    }\n",
       "\n",
       "    .dataframe thead th {\n",
       "        text-align: right;\n",
       "    }\n",
       "</style>\n",
       "<table border=\"1\" class=\"dataframe\">\n",
       "  <thead>\n",
       "    <tr style=\"text-align: right;\">\n",
       "      <th></th>\n",
       "      <th>clustering</th>\n",
       "      <th>closeness</th>\n",
       "      <th>betweenness</th>\n",
       "      <th>assortativity</th>\n",
       "      <th>shannon_entropy</th>\n",
       "      <th>degree_variance</th>\n",
       "      <th>average_degree</th>\n",
       "    </tr>\n",
       "  </thead>\n",
       "  <tbody>\n",
       "    <tr>\n",
       "      <th>0</th>\n",
       "      <td>-0.500207</td>\n",
       "      <td>-0.803727</td>\n",
       "      <td>0.806904</td>\n",
       "      <td>-0.267503</td>\n",
       "      <td>-0.184304</td>\n",
       "      <td>0.136020</td>\n",
       "      <td>0.135976</td>\n",
       "    </tr>\n",
       "    <tr>\n",
       "      <th>1</th>\n",
       "      <td>-0.499420</td>\n",
       "      <td>-0.859435</td>\n",
       "      <td>0.882414</td>\n",
       "      <td>-0.075951</td>\n",
       "      <td>-0.159474</td>\n",
       "      <td>0.136020</td>\n",
       "      <td>0.135976</td>\n",
       "    </tr>\n",
       "    <tr>\n",
       "      <th>2</th>\n",
       "      <td>-0.501567</td>\n",
       "      <td>-0.826344</td>\n",
       "      <td>0.832732</td>\n",
       "      <td>-0.313782</td>\n",
       "      <td>-0.216057</td>\n",
       "      <td>-0.256500</td>\n",
       "      <td>-0.256532</td>\n",
       "    </tr>\n",
       "    <tr>\n",
       "      <th>3</th>\n",
       "      <td>-0.515660</td>\n",
       "      <td>-0.859181</td>\n",
       "      <td>0.877301</td>\n",
       "      <td>-0.094028</td>\n",
       "      <td>-0.150145</td>\n",
       "      <td>-0.060238</td>\n",
       "      <td>-0.060278</td>\n",
       "    </tr>\n",
       "    <tr>\n",
       "      <th>4</th>\n",
       "      <td>-0.504040</td>\n",
       "      <td>-0.860202</td>\n",
       "      <td>0.879170</td>\n",
       "      <td>-0.101909</td>\n",
       "      <td>-0.136647</td>\n",
       "      <td>-0.270519</td>\n",
       "      <td>-0.270551</td>\n",
       "    </tr>\n",
       "  </tbody>\n",
       "</table>\n",
       "</div>"
      ],
      "text/plain": [
       "   clustering  closeness  betweenness  assortativity  shannon_entropy  \\\n",
       "0   -0.500207  -0.803727     0.806904      -0.267503        -0.184304   \n",
       "1   -0.499420  -0.859435     0.882414      -0.075951        -0.159474   \n",
       "2   -0.501567  -0.826344     0.832732      -0.313782        -0.216057   \n",
       "3   -0.515660  -0.859181     0.877301      -0.094028        -0.150145   \n",
       "4   -0.504040  -0.860202     0.879170      -0.101909        -0.136647   \n",
       "\n",
       "   degree_variance  average_degree  \n",
       "0         0.136020        0.135976  \n",
       "1         0.136020        0.135976  \n",
       "2        -0.256500       -0.256532  \n",
       "3        -0.060238       -0.060278  \n",
       "4        -0.270519       -0.270551  "
      ]
     },
     "execution_count": 149,
     "metadata": {},
     "output_type": "execute_result"
    }
   ],
   "source": [
    "N = len(real_network.graph)\n",
    "average_degree = real_graph_metrics['average_degree']\n",
    "\n",
    "random_nets = get_random_networks(N, average_degree, 20)\n",
    "metrics_list = []\n",
    "class_list = []\n",
    "\n",
    "error_log = []\n",
    "\n",
    "for network in tqdm(random_nets):\n",
    "    try:\n",
    "        metrics = NetworkMeasure(network.graph)\n",
    "        network_metrics = metrics.get_measure_dict()\n",
    "        metrics_list.append(network_metrics)\n",
    "        class_list.append(network.name)\n",
    "    except Exception as e:\n",
    "        error_log.append(e)\n",
    "\n",
    "print(error_log)\n",
    "\n",
    "metric_df = pd.DataFrame(metrics_list)\n",
    "scaler = StandardScaler()\n",
    "metric_df[metric_df.columns] = scaler.fit_transform(metric_df)\n",
    "metric_df.head()"
   ]
  },
  {
   "cell_type": "markdown",
   "id": "2d37474d",
   "metadata": {},
   "source": [
    "#### PCA and KNN"
   ]
  },
  {
   "cell_type": "code",
   "execution_count": 150,
   "id": "4c1b2aa1",
   "metadata": {},
   "outputs": [
    {
     "name": "stderr",
     "output_type": "stream",
     "text": [
      "/home/vitor/Documents/usp/9thPeriod/ComplexNetworks/venv/lib/python3.13/site-packages/sklearn/utils/validation.py:2739: UserWarning: X does not have valid feature names, but PCA was fitted with feature names\n",
      "  warnings.warn(\n"
     ]
    }
   ],
   "source": [
    "pca = PCA(n_components=2)\n",
    "pca.fit(metric_df)\n",
    "X = pca.transform(metric_df)\n",
    "X_test = pca.transform(\n",
    "    scaler.transform(\n",
    "        pd.DataFrame([real_graph_metrics])\n",
    "    )\n",
    ")\n",
    "encoder = LabelEncoder()\n",
    "encoded_list = encoder.fit_transform(class_list)\n",
    "\n",
    "knn = KNeighborsClassifier()\n",
    "knn.fit(X, class_list)\n",
    "most_similar_random_graph = knn.predict(X_test)"
   ]
  },
  {
   "cell_type": "markdown",
   "id": "efba4525",
   "metadata": {},
   "source": [
    "#### Plot"
   ]
  },
  {
   "cell_type": "code",
   "execution_count": 151,
   "id": "7cebbbad",
   "metadata": {},
   "outputs": [
    {
     "data": {
      "text/plain": [
       "Text(0.5, 1.0, 'budapest_connectome.graphml is closer to barabasi_nonlinear_05')"
      ]
     },
     "execution_count": 151,
     "metadata": {},
     "output_type": "execute_result"
    },
    {
     "data": {
      "image/png": "[encoded data removed]",
      "text/plain": [
       "<Figure size 640x480 with 1 Axes>"
      ]
     },
     "metadata": {},
     "output_type": "display_data"
    }
   ],
   "source": [
    "scatter = plt.scatter(X[:, 0], X[:, 1], c=encoded_list)\n",
    "plt.scatter(X_test[:, 0], X_test[:, 1], c='red', marker='*')\n",
    "plt.legend(\n",
    "    handles=scatter.legend_elements()[0], \n",
    "    labels=list(np.unique(class_list))\n",
    ")\n",
    "plt.title(f'{real_network.name} is closer to {most_similar_random_graph[0]}')"
   ]
  },
  {
   "cell_type": "markdown",
   "id": "dd3934a1",
   "metadata": {},
   "source": [
    "### Chile Power Grid"
   ]
  },
  {
   "cell_type": "code",
   "execution_count": 152,
   "id": "8b1b93b1",
   "metadata": {},
   "outputs": [
    {
     "name": "stdout",
     "output_type": "stream",
     "text": [
      "chile_power.csv\n",
      "tech\n"
     ]
    },
    {
     "data": {
      "text/html": [
       "<div>\n",
       "<style scoped>\n",
       "    .dataframe tbody tr th:only-of-type {\n",
       "        vertical-align: middle;\n",
       "    }\n",
       "\n",
       "    .dataframe tbody tr th {\n",
       "        vertical-align: top;\n",
       "    }\n",
       "\n",
       "    .dataframe thead th {\n",
       "        text-align: right;\n",
       "    }\n",
       "</style>\n",
       "<table border=\"1\" class=\"dataframe\">\n",
       "  <thead>\n",
       "    <tr style=\"text-align: right;\">\n",
       "      <th></th>\n",
       "      <th>clustering</th>\n",
       "      <th>closeness</th>\n",
       "      <th>betweenness</th>\n",
       "      <th>assortativity</th>\n",
       "      <th>shannon_entropy</th>\n",
       "      <th>degree_variance</th>\n",
       "      <th>average_degree</th>\n",
       "    </tr>\n",
       "  </thead>\n",
       "  <tbody>\n",
       "    <tr>\n",
       "      <th>0</th>\n",
       "      <td>0.087977</td>\n",
       "      <td>0.128213</td>\n",
       "      <td>0.02074</td>\n",
       "      <td>-0.077264</td>\n",
       "      <td>2.267098</td>\n",
       "      <td>7.211103</td>\n",
       "      <td>12.0</td>\n",
       "    </tr>\n",
       "  </tbody>\n",
       "</table>\n",
       "</div>"
      ],
      "text/plain": [
       "   clustering  closeness  betweenness  assortativity  shannon_entropy  \\\n",
       "0    0.087977   0.128213      0.02074      -0.077264         2.267098   \n",
       "\n",
       "   degree_variance  average_degree  \n",
       "0         7.211103            12.0  "
      ]
     },
     "execution_count": 152,
     "metadata": {},
     "output_type": "execute_result"
    }
   ],
   "source": [
    "real_network = real_networks_list[3]\n",
    "print(real_network.name)\n",
    "print(real_network.network_type)\n",
    "\n",
    "metrics = NetworkMeasure(real_network.graph)\n",
    "real_graph_metrics = metrics.get_measure_dict()\n",
    "\n",
    "pd.DataFrame([real_graph_metrics])"
   ]
  },
  {
   "cell_type": "markdown",
   "id": "2adfcbf0",
   "metadata": {},
   "source": [
    "#### Computing Metrics"
   ]
  },
  {
   "cell_type": "code",
   "execution_count": 153,
   "id": "1c4c7d3a",
   "metadata": {},
   "outputs": [
    {
     "name": "stderr",
     "output_type": "stream",
     "text": [
      "100%|██████████| 6/6 [00:00<00:00,  6.26it/s]\n",
      "100%|██████████| 60/60 [00:26<00:00,  2.22it/s]"
     ]
    },
    {
     "name": "stdout",
     "output_type": "stream",
     "text": [
      "[]\n"
     ]
    },
    {
     "name": "stderr",
     "output_type": "stream",
     "text": [
      "\n"
     ]
    },
    {
     "data": {
      "text/html": [
       "<div>\n",
       "<style scoped>\n",
       "    .dataframe tbody tr th:only-of-type {\n",
       "        vertical-align: middle;\n",
       "    }\n",
       "\n",
       "    .dataframe tbody tr th {\n",
       "        vertical-align: top;\n",
       "    }\n",
       "\n",
       "    .dataframe thead th {\n",
       "        text-align: right;\n",
       "    }\n",
       "</style>\n",
       "<table border=\"1\" class=\"dataframe\">\n",
       "  <thead>\n",
       "    <tr style=\"text-align: right;\">\n",
       "      <th></th>\n",
       "      <th>clustering</th>\n",
       "      <th>closeness</th>\n",
       "      <th>betweenness</th>\n",
       "      <th>assortativity</th>\n",
       "      <th>shannon_entropy</th>\n",
       "      <th>degree_variance</th>\n",
       "      <th>average_degree</th>\n",
       "    </tr>\n",
       "  </thead>\n",
       "  <tbody>\n",
       "    <tr>\n",
       "      <th>0</th>\n",
       "      <td>-0.387858</td>\n",
       "      <td>0.313779</td>\n",
       "      <td>-0.397141</td>\n",
       "      <td>-0.519994</td>\n",
       "      <td>0.260003</td>\n",
       "      <td>0.202515</td>\n",
       "      <td>0.202393</td>\n",
       "    </tr>\n",
       "    <tr>\n",
       "      <th>1</th>\n",
       "      <td>-0.398720</td>\n",
       "      <td>0.187893</td>\n",
       "      <td>-0.281477</td>\n",
       "      <td>-0.199259</td>\n",
       "      <td>0.346249</td>\n",
       "      <td>-0.049078</td>\n",
       "      <td>-0.049201</td>\n",
       "    </tr>\n",
       "    <tr>\n",
       "      <th>2</th>\n",
       "      <td>-0.406783</td>\n",
       "      <td>0.260733</td>\n",
       "      <td>-0.352025</td>\n",
       "      <td>-0.510737</td>\n",
       "      <td>0.271163</td>\n",
       "      <td>0.118653</td>\n",
       "      <td>0.118529</td>\n",
       "    </tr>\n",
       "    <tr>\n",
       "      <th>3</th>\n",
       "      <td>-0.406682</td>\n",
       "      <td>0.160565</td>\n",
       "      <td>-0.255885</td>\n",
       "      <td>-0.133755</td>\n",
       "      <td>0.436216</td>\n",
       "      <td>0.353466</td>\n",
       "      <td>0.353350</td>\n",
       "    </tr>\n",
       "    <tr>\n",
       "      <th>4</th>\n",
       "      <td>-0.409697</td>\n",
       "      <td>0.250946</td>\n",
       "      <td>-0.340417</td>\n",
       "      <td>-0.347838</td>\n",
       "      <td>0.337985</td>\n",
       "      <td>0.168970</td>\n",
       "      <td>0.168848</td>\n",
       "    </tr>\n",
       "  </tbody>\n",
       "</table>\n",
       "</div>"
      ],
      "text/plain": [
       "   clustering  closeness  betweenness  assortativity  shannon_entropy  \\\n",
       "0   -0.387858   0.313779    -0.397141      -0.519994         0.260003   \n",
       "1   -0.398720   0.187893    -0.281477      -0.199259         0.346249   \n",
       "2   -0.406783   0.260733    -0.352025      -0.510737         0.271163   \n",
       "3   -0.406682   0.160565    -0.255885      -0.133755         0.436216   \n",
       "4   -0.409697   0.250946    -0.340417      -0.347838         0.337985   \n",
       "\n",
       "   degree_variance  average_degree  \n",
       "0         0.202515        0.202393  \n",
       "1        -0.049078       -0.049201  \n",
       "2         0.118653        0.118529  \n",
       "3         0.353466        0.353350  \n",
       "4         0.168970        0.168848  "
      ]
     },
     "execution_count": 153,
     "metadata": {},
     "output_type": "execute_result"
    }
   ],
   "source": [
    "N = len(real_network.graph)\n",
    "average_degree = real_graph_metrics['average_degree']\n",
    "\n",
    "random_nets = get_random_networks(N, average_degree, 10)\n",
    "metrics_list = []\n",
    "class_list = []\n",
    "\n",
    "error_log = []\n",
    "\n",
    "for network in tqdm(random_nets):\n",
    "    try:\n",
    "        metrics = NetworkMeasure(network.graph)\n",
    "        network_metrics = metrics.get_measure_dict()\n",
    "        metrics_list.append(network_metrics)\n",
    "        class_list.append(network.name)\n",
    "    except Exception as e:\n",
    "        error_log.append(e)\n",
    "\n",
    "print(error_log)\n",
    "\n",
    "metric_df = pd.DataFrame(metrics_list)\n",
    "scaler = StandardScaler()\n",
    "metric_df[metric_df.columns] = scaler.fit_transform(metric_df)\n",
    "metric_df.head()"
   ]
  },
  {
   "cell_type": "markdown",
   "id": "98cff5f3",
   "metadata": {},
   "source": [
    "#### PCA and KNN"
   ]
  },
  {
   "cell_type": "code",
   "execution_count": 154,
   "id": "211ed3bf",
   "metadata": {},
   "outputs": [
    {
     "name": "stderr",
     "output_type": "stream",
     "text": [
      "/home/vitor/Documents/usp/9thPeriod/ComplexNetworks/venv/lib/python3.13/site-packages/sklearn/utils/validation.py:2739: UserWarning: X does not have valid feature names, but PCA was fitted with feature names\n",
      "  warnings.warn(\n"
     ]
    }
   ],
   "source": [
    "pca = PCA(n_components=2)\n",
    "pca.fit(metric_df)\n",
    "X = pca.transform(metric_df)\n",
    "X_test = pca.transform(\n",
    "    scaler.transform(\n",
    "        pd.DataFrame([real_graph_metrics])\n",
    "    )\n",
    ")\n",
    "\n",
    "encoder = LabelEncoder()\n",
    "encoded_list = encoder.fit_transform(class_list)\n",
    "\n",
    "knn = KNeighborsClassifier()\n",
    "knn.fit(X, class_list)\n",
    "most_similar_random_graph = knn.predict(X_test)"
   ]
  },
  {
   "cell_type": "markdown",
   "id": "ff941ded",
   "metadata": {},
   "source": [
    "#### Plot"
   ]
  },
  {
   "cell_type": "code",
   "execution_count": 155,
   "id": "154a8755",
   "metadata": {},
   "outputs": [
    {
     "data": {
      "text/plain": [
       "Text(0.5, 1.0, 'chile_power.csv is closer to watts-strogatz')"
      ]
     },
     "execution_count": 155,
     "metadata": {},
     "output_type": "execute_result"
    },
    {
     "data": {
      "image/png": "[encoded data removed]",
      "text/plain": [
       "<Figure size 640x480 with 1 Axes>"
      ]
     },
     "metadata": {},
     "output_type": "display_data"
    }
   ],
   "source": [
    "scatter = plt.scatter(X[:, 0], X[:, 1], c=encoded_list)\n",
    "plt.scatter(X_test[:, 0], X_test[:, 1], c='red', marker='*')\n",
    "plt.legend(\n",
    "    handles=scatter.legend_elements()[0], \n",
    "    labels=list(np.unique(class_list))\n",
    ")\n",
    "plt.title(f'{real_network.name} is closer to {most_similar_random_graph[0]}')"
   ]
  },
  {
   "cell_type": "markdown",
   "id": "4b60f639",
   "metadata": {},
   "source": [
    "### US Power"
   ]
  },
  {
   "cell_type": "code",
   "execution_count": 119,
   "id": "9e478fef",
   "metadata": {},
   "outputs": [
    {
     "name": "stdout",
     "output_type": "stream",
     "text": [
      "us_power.edgelist\n",
      "tech\n"
     ]
    },
    {
     "data": {
      "text/html": [
       "<div>\n",
       "<style scoped>\n",
       "    .dataframe tbody tr th:only-of-type {\n",
       "        vertical-align: middle;\n",
       "    }\n",
       "\n",
       "    .dataframe tbody tr th {\n",
       "        vertical-align: top;\n",
       "    }\n",
       "\n",
       "    .dataframe thead th {\n",
       "        text-align: right;\n",
       "    }\n",
       "</style>\n",
       "<table border=\"1\" class=\"dataframe\">\n",
       "  <thead>\n",
       "    <tr style=\"text-align: right;\">\n",
       "      <th></th>\n",
       "      <th>clustering</th>\n",
       "      <th>closeness</th>\n",
       "      <th>betweenness</th>\n",
       "      <th>assortativity</th>\n",
       "      <th>shannon_entropy</th>\n",
       "      <th>degree_variance</th>\n",
       "      <th>average_degree</th>\n",
       "    </tr>\n",
       "  </thead>\n",
       "  <tbody>\n",
       "    <tr>\n",
       "      <th>0</th>\n",
       "      <td>0.035255</td>\n",
       "      <td>0.057898</td>\n",
       "      <td>0.016774</td>\n",
       "      <td>0.09004</td>\n",
       "      <td>2.003676</td>\n",
       "      <td>3.162278</td>\n",
       "      <td>5.0</td>\n",
       "    </tr>\n",
       "  </tbody>\n",
       "</table>\n",
       "</div>"
      ],
      "text/plain": [
       "   clustering  closeness  betweenness  assortativity  shannon_entropy  \\\n",
       "0    0.035255   0.057898     0.016774        0.09004         2.003676   \n",
       "\n",
       "   degree_variance  average_degree  \n",
       "0         3.162278             5.0  "
      ]
     },
     "execution_count": 119,
     "metadata": {},
     "output_type": "execute_result"
    }
   ],
   "source": [
    "real_network = real_networks_list[4]\n",
    "print(real_network.name)\n",
    "print(real_network.network_type)\n",
    "\n",
    "metrics = NetworkMeasure(real_network.graph)\n",
    "real_graph_metrics = metrics.get_measure_dict()\n",
    "\n",
    "pd.DataFrame([real_graph_metrics])"
   ]
  },
  {
   "cell_type": "markdown",
   "id": "938731aa",
   "metadata": {},
   "source": [
    "#### Computing Metrics"
   ]
  },
  {
   "cell_type": "code",
   "execution_count": 120,
   "id": "6b5f1e3a",
   "metadata": {},
   "outputs": [
    {
     "name": "stderr",
     "output_type": "stream",
     "text": [
      "100%|██████████| 6/6 [00:07<00:00,  1.29s/it]\n",
      "100%|██████████| 60/60 [04:37<00:00,  4.62s/it]"
     ]
    },
    {
     "name": "stdout",
     "output_type": "stream",
     "text": [
      "[]\n"
     ]
    },
    {
     "name": "stderr",
     "output_type": "stream",
     "text": [
      "\n"
     ]
    },
    {
     "data": {
      "text/html": [
       "<div>\n",
       "<style scoped>\n",
       "    .dataframe tbody tr th:only-of-type {\n",
       "        vertical-align: middle;\n",
       "    }\n",
       "\n",
       "    .dataframe tbody tr th {\n",
       "        vertical-align: top;\n",
       "    }\n",
       "\n",
       "    .dataframe thead th {\n",
       "        text-align: right;\n",
       "    }\n",
       "</style>\n",
       "<table border=\"1\" class=\"dataframe\">\n",
       "  <thead>\n",
       "    <tr style=\"text-align: right;\">\n",
       "      <th></th>\n",
       "      <th>clustering</th>\n",
       "      <th>closeness</th>\n",
       "      <th>betweenness</th>\n",
       "      <th>assortativity</th>\n",
       "      <th>shannon_entropy</th>\n",
       "      <th>degree_variance</th>\n",
       "      <th>average_degree</th>\n",
       "    </tr>\n",
       "  </thead>\n",
       "  <tbody>\n",
       "    <tr>\n",
       "      <th>0</th>\n",
       "      <td>-0.461941</td>\n",
       "      <td>0.243361</td>\n",
       "      <td>-0.450858</td>\n",
       "      <td>-0.113443</td>\n",
       "      <td>0.296062</td>\n",
       "      <td>-0.183903</td>\n",
       "      <td>-0.183993</td>\n",
       "    </tr>\n",
       "    <tr>\n",
       "      <th>1</th>\n",
       "      <td>-0.460332</td>\n",
       "      <td>0.240208</td>\n",
       "      <td>-0.449488</td>\n",
       "      <td>-0.125465</td>\n",
       "      <td>0.283086</td>\n",
       "      <td>-0.183903</td>\n",
       "      <td>-0.183993</td>\n",
       "    </tr>\n",
       "    <tr>\n",
       "      <th>2</th>\n",
       "      <td>-0.451728</td>\n",
       "      <td>0.242453</td>\n",
       "      <td>-0.450534</td>\n",
       "      <td>-0.173125</td>\n",
       "      <td>0.280417</td>\n",
       "      <td>-0.178846</td>\n",
       "      <td>-0.178935</td>\n",
       "    </tr>\n",
       "    <tr>\n",
       "      <th>3</th>\n",
       "      <td>-0.448002</td>\n",
       "      <td>0.275599</td>\n",
       "      <td>-0.464787</td>\n",
       "      <td>-0.227518</td>\n",
       "      <td>0.277120</td>\n",
       "      <td>0.170081</td>\n",
       "      <td>0.170001</td>\n",
       "    </tr>\n",
       "    <tr>\n",
       "      <th>4</th>\n",
       "      <td>-0.468746</td>\n",
       "      <td>0.241480</td>\n",
       "      <td>-0.450066</td>\n",
       "      <td>-0.185113</td>\n",
       "      <td>0.293121</td>\n",
       "      <td>-0.092877</td>\n",
       "      <td>-0.092966</td>\n",
       "    </tr>\n",
       "  </tbody>\n",
       "</table>\n",
       "</div>"
      ],
      "text/plain": [
       "   clustering  closeness  betweenness  assortativity  shannon_entropy  \\\n",
       "0   -0.461941   0.243361    -0.450858      -0.113443         0.296062   \n",
       "1   -0.460332   0.240208    -0.449488      -0.125465         0.283086   \n",
       "2   -0.451728   0.242453    -0.450534      -0.173125         0.280417   \n",
       "3   -0.448002   0.275599    -0.464787      -0.227518         0.277120   \n",
       "4   -0.468746   0.241480    -0.450066      -0.185113         0.293121   \n",
       "\n",
       "   degree_variance  average_degree  \n",
       "0        -0.183903       -0.183993  \n",
       "1        -0.183903       -0.183993  \n",
       "2        -0.178846       -0.178935  \n",
       "3         0.170081        0.170001  \n",
       "4        -0.092877       -0.092966  "
      ]
     },
     "execution_count": 120,
     "metadata": {},
     "output_type": "execute_result"
    }
   ],
   "source": [
    "N = len(real_network.graph)\n",
    "average_degree = real_graph_metrics['average_degree']\n",
    "\n",
    "random_nets = get_random_networks(N, average_degree)\n",
    "metrics_list = []\n",
    "class_list = []\n",
    "\n",
    "error_log = []\n",
    "\n",
    "for network in tqdm(random_nets):\n",
    "    try:\n",
    "        metrics = NetworkMeasure(network.graph)\n",
    "        network_metrics = metrics.get_measure_dict()\n",
    "        metrics_list.append(network_metrics)\n",
    "        class_list.append(network.name)\n",
    "    except Exception as e:\n",
    "        error_log.append(e)\n",
    "\n",
    "print(np.unique(error_log))\n",
    "\n",
    "metric_df = pd.DataFrame(metrics_list)\n",
    "scaler = StandardScaler()\n",
    "metric_df[metric_df.columns] = scaler.fit_transform(metric_df)\n",
    "metric_df.head()"
   ]
  },
  {
   "cell_type": "markdown",
   "id": "6f885e99",
   "metadata": {},
   "source": [
    "#### PCA and KNN"
   ]
  },
  {
   "cell_type": "code",
   "execution_count": 127,
   "id": "c33d1e45",
   "metadata": {},
   "outputs": [
    {
     "name": "stderr",
     "output_type": "stream",
     "text": [
      "/home/vitor/Documents/usp/9thPeriod/ComplexNetworks/venv/lib/python3.13/site-packages/sklearn/utils/validation.py:2739: UserWarning: X does not have valid feature names, but PCA was fitted with feature names\n",
      "  warnings.warn(\n"
     ]
    }
   ],
   "source": [
    "pca = PCA(n_components=2)\n",
    "pca.fit(metric_df)\n",
    "X = pca.transform(metric_df)\n",
    "\n",
    "X_test = pca.transform(\n",
    "    scaler.transform(\n",
    "        pd.DataFrame([real_graph_metrics])\n",
    "    )\n",
    ")\n",
    "\n",
    "encoder = LabelEncoder()\n",
    "encoded_list = encoder.fit_transform(class_list)\n",
    "\n",
    "knn = KNeighborsClassifier()\n",
    "knn.fit(X, class_list)\n",
    "most_similar_random_graph = knn.predict(X_test)"
   ]
  },
  {
   "cell_type": "markdown",
   "id": "2af935f8",
   "metadata": {},
   "source": [
    "#### Plot"
   ]
  },
  {
   "cell_type": "code",
   "execution_count": 128,
   "id": "86944bb3",
   "metadata": {},
   "outputs": [
    {
     "data": {
      "text/plain": [
       "Text(0.5, 1.0, 'us_power.edgelist is closer to watts-strogatz')"
      ]
     },
     "execution_count": 128,
     "metadata": {},
     "output_type": "execute_result"
    },
    {
     "data": {
      "image/png": "[encoded data removed]",
      "text/plain": [
       "<Figure size 640x480 with 1 Axes>"
      ]
     },
     "metadata": {},
     "output_type": "display_data"
    }
   ],
   "source": [
    "plt.scatter(X_test[:, 0], X_test[:, 1], c='red', marker='*')\n",
    "scatter = plt.scatter(X[:, 0], X[:, 1], c=encoded_list)\n",
    "plt.legend(\n",
    "    handles=scatter.legend_elements()[0], \n",
    "    labels=list(np.unique(class_list))\n",
    ")\n",
    "plt.title(f'{real_network.name} is closer to {most_similar_random_graph[0]}')"
   ]
  },
  {
   "cell_type": "markdown",
   "id": "142b7664",
   "metadata": {},
   "source": [
    "### JMail"
   ]
  },
  {
   "cell_type": "code",
   "execution_count": 129,
   "id": "5a5117d1",
   "metadata": {},
   "outputs": [
    {
     "name": "stdout",
     "output_type": "stream",
     "text": [
      "jmail.edgelist\n",
      "tech\n"
     ]
    },
    {
     "data": {
      "text/html": [
       "<div>\n",
       "<style scoped>\n",
       "    .dataframe tbody tr th:only-of-type {\n",
       "        vertical-align: middle;\n",
       "    }\n",
       "\n",
       "    .dataframe tbody tr th {\n",
       "        vertical-align: top;\n",
       "    }\n",
       "\n",
       "    .dataframe thead th {\n",
       "        text-align: right;\n",
       "    }\n",
       "</style>\n",
       "<table border=\"1\" class=\"dataframe\">\n",
       "  <thead>\n",
       "    <tr style=\"text-align: right;\">\n",
       "      <th></th>\n",
       "      <th>clustering</th>\n",
       "      <th>closeness</th>\n",
       "      <th>betweenness</th>\n",
       "      <th>assortativity</th>\n",
       "      <th>shannon_entropy</th>\n",
       "      <th>degree_variance</th>\n",
       "      <th>average_degree</th>\n",
       "    </tr>\n",
       "  </thead>\n",
       "  <tbody>\n",
       "    <tr>\n",
       "      <th>0</th>\n",
       "      <td>0.194779</td>\n",
       "      <td>0.282019</td>\n",
       "      <td>0.014037</td>\n",
       "      <td>-0.240679</td>\n",
       "      <td>3.322772</td>\n",
       "      <td>14.142136</td>\n",
       "      <td>24.0</td>\n",
       "    </tr>\n",
       "  </tbody>\n",
       "</table>\n",
       "</div>"
      ],
      "text/plain": [
       "   clustering  closeness  betweenness  assortativity  shannon_entropy  \\\n",
       "0    0.194779   0.282019     0.014037      -0.240679         3.322772   \n",
       "\n",
       "   degree_variance  average_degree  \n",
       "0        14.142136            24.0  "
      ]
     },
     "execution_count": 129,
     "metadata": {},
     "output_type": "execute_result"
    }
   ],
   "source": [
    "real_network = real_networks_list[5]\n",
    "print(real_network.name)\n",
    "print(real_network.network_type)\n",
    "\n",
    "metrics = NetworkMeasure(real_network.graph)\n",
    "real_graph_metrics = metrics.get_measure_dict()\n",
    "\n",
    "pd.DataFrame([real_graph_metrics])"
   ]
  },
  {
   "cell_type": "markdown",
   "id": "4eea4e18",
   "metadata": {},
   "source": [
    "#### Computing Metrics"
   ]
  },
  {
   "cell_type": "code",
   "execution_count": 130,
   "id": "81e5e3d4",
   "metadata": {},
   "outputs": [
    {
     "name": "stderr",
     "output_type": "stream",
     "text": [
      "100%|██████████| 6/6 [00:00<00:00,  7.80it/s]\n",
      "100%|██████████| 60/60 [00:11<00:00,  5.11it/s]"
     ]
    },
    {
     "name": "stdout",
     "output_type": "stream",
     "text": [
      "[]\n"
     ]
    },
    {
     "name": "stderr",
     "output_type": "stream",
     "text": [
      "\n"
     ]
    },
    {
     "data": {
      "text/html": [
       "<div>\n",
       "<style scoped>\n",
       "    .dataframe tbody tr th:only-of-type {\n",
       "        vertical-align: middle;\n",
       "    }\n",
       "\n",
       "    .dataframe tbody tr th {\n",
       "        vertical-align: top;\n",
       "    }\n",
       "\n",
       "    .dataframe thead th {\n",
       "        text-align: right;\n",
       "    }\n",
       "</style>\n",
       "<table border=\"1\" class=\"dataframe\">\n",
       "  <thead>\n",
       "    <tr style=\"text-align: right;\">\n",
       "      <th></th>\n",
       "      <th>clustering</th>\n",
       "      <th>closeness</th>\n",
       "      <th>betweenness</th>\n",
       "      <th>assortativity</th>\n",
       "      <th>shannon_entropy</th>\n",
       "      <th>degree_variance</th>\n",
       "      <th>average_degree</th>\n",
       "    </tr>\n",
       "  </thead>\n",
       "  <tbody>\n",
       "    <tr>\n",
       "      <th>0</th>\n",
       "      <td>-0.451814</td>\n",
       "      <td>-0.185658</td>\n",
       "      <td>0.041956</td>\n",
       "      <td>-0.114387</td>\n",
       "      <td>0.327448</td>\n",
       "      <td>0.389125</td>\n",
       "      <td>0.388996</td>\n",
       "    </tr>\n",
       "    <tr>\n",
       "      <th>1</th>\n",
       "      <td>-0.416415</td>\n",
       "      <td>-0.175000</td>\n",
       "      <td>0.030958</td>\n",
       "      <td>-0.296188</td>\n",
       "      <td>0.259141</td>\n",
       "      <td>0.349502</td>\n",
       "      <td>0.349370</td>\n",
       "    </tr>\n",
       "    <tr>\n",
       "      <th>2</th>\n",
       "      <td>-0.469442</td>\n",
       "      <td>-0.197376</td>\n",
       "      <td>0.053695</td>\n",
       "      <td>-0.085480</td>\n",
       "      <td>0.373120</td>\n",
       "      <td>-0.046743</td>\n",
       "      <td>-0.046891</td>\n",
       "    </tr>\n",
       "    <tr>\n",
       "      <th>3</th>\n",
       "      <td>-0.461056</td>\n",
       "      <td>-0.133807</td>\n",
       "      <td>-0.008090</td>\n",
       "      <td>-0.526469</td>\n",
       "      <td>0.236368</td>\n",
       "      <td>0.349502</td>\n",
       "      <td>0.349370</td>\n",
       "    </tr>\n",
       "    <tr>\n",
       "      <th>4</th>\n",
       "      <td>-0.399808</td>\n",
       "      <td>-0.179639</td>\n",
       "      <td>0.038125</td>\n",
       "      <td>-0.089483</td>\n",
       "      <td>0.371855</td>\n",
       "      <td>0.468370</td>\n",
       "      <td>0.468249</td>\n",
       "    </tr>\n",
       "  </tbody>\n",
       "</table>\n",
       "</div>"
      ],
      "text/plain": [
       "   clustering  closeness  betweenness  assortativity  shannon_entropy  \\\n",
       "0   -0.451814  -0.185658     0.041956      -0.114387         0.327448   \n",
       "1   -0.416415  -0.175000     0.030958      -0.296188         0.259141   \n",
       "2   -0.469442  -0.197376     0.053695      -0.085480         0.373120   \n",
       "3   -0.461056  -0.133807    -0.008090      -0.526469         0.236368   \n",
       "4   -0.399808  -0.179639     0.038125      -0.089483         0.371855   \n",
       "\n",
       "   degree_variance  average_degree  \n",
       "0         0.389125        0.388996  \n",
       "1         0.349502        0.349370  \n",
       "2        -0.046743       -0.046891  \n",
       "3         0.349502        0.349370  \n",
       "4         0.468370        0.468249  "
      ]
     },
     "execution_count": 130,
     "metadata": {},
     "output_type": "execute_result"
    }
   ],
   "source": [
    "N = len(real_network.graph)\n",
    "average_degree = real_graph_metrics['average_degree']\n",
    "\n",
    "random_nets = get_random_networks(N, average_degree, 10)\n",
    "metrics_list = []\n",
    "class_list = []\n",
    "\n",
    "error_log = []\n",
    "\n",
    "for network in tqdm(random_nets):\n",
    "    try:\n",
    "        metrics = NetworkMeasure(network.graph)\n",
    "        network_metrics = metrics.get_measure_dict()\n",
    "        metrics_list.append(network_metrics)\n",
    "        class_list.append(network.name)\n",
    "    except Exception as e:\n",
    "        error_log.append(e)\n",
    "\n",
    "print(error_log)\n",
    "\n",
    "metric_df = pd.DataFrame(metrics_list)\n",
    "scaler = StandardScaler()\n",
    "metric_df[metric_df.columns] = scaler.fit_transform(metric_df)\n",
    "metric_df.head()"
   ]
  },
  {
   "cell_type": "markdown",
   "id": "d12eab88",
   "metadata": {},
   "source": [
    "#### PCA and KNN"
   ]
  },
  {
   "cell_type": "code",
   "execution_count": 131,
   "id": "b9af5b59",
   "metadata": {},
   "outputs": [
    {
     "name": "stderr",
     "output_type": "stream",
     "text": [
      "/home/vitor/Documents/usp/9thPeriod/ComplexNetworks/venv/lib/python3.13/site-packages/sklearn/utils/validation.py:2739: UserWarning: X does not have valid feature names, but PCA was fitted with feature names\n",
      "  warnings.warn(\n"
     ]
    }
   ],
   "source": [
    "pca = PCA(n_components=2)\n",
    "pca.fit(metric_df)\n",
    "X = pca.transform(metric_df)\n",
    "X_test = pca.transform(\n",
    "    scaler.transform(\n",
    "        pd.DataFrame([real_graph_metrics])\n",
    "    )\n",
    ")\n",
    "encoder = LabelEncoder()\n",
    "encoded_list = encoder.fit_transform(class_list)\n",
    "\n",
    "knn = KNeighborsClassifier()\n",
    "knn.fit(X, class_list)\n",
    "most_similar_random_graph = knn.predict(X_test)"
   ]
  },
  {
   "cell_type": "markdown",
   "id": "03a220f3",
   "metadata": {},
   "source": [
    "#### Plot"
   ]
  },
  {
   "cell_type": "code",
   "execution_count": 132,
   "id": "30c78f8c",
   "metadata": {},
   "outputs": [
    {
     "data": {
      "text/plain": [
       "Text(0.5, 1.0, 'jmail.edgelist is closer to barabasi_nonlinear_05')"
      ]
     },
     "execution_count": 132,
     "metadata": {},
     "output_type": "execute_result"
    },
    {
     "data": {
      "image/png": "[encoded data removed]",
      "text/plain": [
       "<Figure size 640x480 with 1 Axes>"
      ]
     },
     "metadata": {},
     "output_type": "display_data"
    }
   ],
   "source": [
    "scatter = plt.scatter(X[:, 0], X[:, 1], c=encoded_list)\n",
    "plt.scatter(X_test[:, 0], X_test[:, 1], c='red', marker='*')\n",
    "plt.legend(\n",
    "    handles=scatter.legend_elements()[0], \n",
    "    labels=list(np.unique(class_list))\n",
    ")\n",
    "plt.title(f'{real_network.name} is closer to {most_similar_random_graph[0]}')"
   ]
  },
  {
   "cell_type": "markdown",
   "id": "37044c40",
   "metadata": {},
   "source": [
    "### Cattle"
   ]
  },
  {
   "cell_type": "code",
   "execution_count": 133,
   "id": "1d525cd1",
   "metadata": {},
   "outputs": [
    {
     "name": "stdout",
     "output_type": "stream",
     "text": [
      "cattle.edgelist\n",
      "social\n"
     ]
    },
    {
     "data": {
      "text/html": [
       "<div>\n",
       "<style scoped>\n",
       "    .dataframe tbody tr th:only-of-type {\n",
       "        vertical-align: middle;\n",
       "    }\n",
       "\n",
       "    .dataframe tbody tr th {\n",
       "        vertical-align: top;\n",
       "    }\n",
       "\n",
       "    .dataframe thead th {\n",
       "        text-align: right;\n",
       "    }\n",
       "</style>\n",
       "<table border=\"1\" class=\"dataframe\">\n",
       "  <thead>\n",
       "    <tr style=\"text-align: right;\">\n",
       "      <th></th>\n",
       "      <th>clustering</th>\n",
       "      <th>closeness</th>\n",
       "      <th>betweenness</th>\n",
       "      <th>assortativity</th>\n",
       "      <th>shannon_entropy</th>\n",
       "      <th>degree_variance</th>\n",
       "      <th>average_degree</th>\n",
       "    </tr>\n",
       "  </thead>\n",
       "  <tbody>\n",
       "    <tr>\n",
       "      <th>0</th>\n",
       "      <td>0.648597</td>\n",
       "      <td>0.688911</td>\n",
       "      <td>0.018417</td>\n",
       "      <td>-0.132868</td>\n",
       "      <td>3.811844</td>\n",
       "      <td>6.63325</td>\n",
       "      <td>11.0</td>\n",
       "    </tr>\n",
       "  </tbody>\n",
       "</table>\n",
       "</div>"
      ],
      "text/plain": [
       "   clustering  closeness  betweenness  assortativity  shannon_entropy  \\\n",
       "0    0.648597   0.688911     0.018417      -0.132868         3.811844   \n",
       "\n",
       "   degree_variance  average_degree  \n",
       "0          6.63325            11.0  "
      ]
     },
     "execution_count": 133,
     "metadata": {},
     "output_type": "execute_result"
    }
   ],
   "source": [
    "real_network = real_networks_list[6]\n",
    "print(real_network.name)\n",
    "print(real_network.network_type)\n",
    "\n",
    "metrics = NetworkMeasure(real_network.graph)\n",
    "real_graph_metrics = metrics.get_measure_dict()\n",
    "\n",
    "pd.DataFrame([real_graph_metrics])"
   ]
  },
  {
   "cell_type": "markdown",
   "id": "3c7c9fdf",
   "metadata": {},
   "source": [
    "#### Computing Metrics"
   ]
  },
  {
   "cell_type": "code",
   "execution_count": 134,
   "id": "b6de69b4",
   "metadata": {},
   "outputs": [
    {
     "name": "stderr",
     "output_type": "stream",
     "text": [
      "100%|██████████| 6/6 [00:00<00:00, 15.45it/s]\n",
      "100%|██████████| 60/60 [00:00<00:00, 228.85it/s]"
     ]
    },
    {
     "name": "stdout",
     "output_type": "stream",
     "text": [
      "[]\n"
     ]
    },
    {
     "name": "stderr",
     "output_type": "stream",
     "text": [
      "\n"
     ]
    },
    {
     "data": {
      "text/html": [
       "<div>\n",
       "<style scoped>\n",
       "    .dataframe tbody tr th:only-of-type {\n",
       "        vertical-align: middle;\n",
       "    }\n",
       "\n",
       "    .dataframe tbody tr th {\n",
       "        vertical-align: top;\n",
       "    }\n",
       "\n",
       "    .dataframe thead th {\n",
       "        text-align: right;\n",
       "    }\n",
       "</style>\n",
       "<table border=\"1\" class=\"dataframe\">\n",
       "  <thead>\n",
       "    <tr style=\"text-align: right;\">\n",
       "      <th></th>\n",
       "      <th>clustering</th>\n",
       "      <th>closeness</th>\n",
       "      <th>betweenness</th>\n",
       "      <th>assortativity</th>\n",
       "      <th>shannon_entropy</th>\n",
       "      <th>degree_variance</th>\n",
       "      <th>average_degree</th>\n",
       "    </tr>\n",
       "  </thead>\n",
       "  <tbody>\n",
       "    <tr>\n",
       "      <th>0</th>\n",
       "      <td>0.271517</td>\n",
       "      <td>0.373179</td>\n",
       "      <td>0.634730</td>\n",
       "      <td>0.710714</td>\n",
       "      <td>0.700541</td>\n",
       "      <td>0.126880</td>\n",
       "      <td>0.124568</td>\n",
       "    </tr>\n",
       "    <tr>\n",
       "      <th>1</th>\n",
       "      <td>0.345476</td>\n",
       "      <td>0.425392</td>\n",
       "      <td>0.505303</td>\n",
       "      <td>-0.222564</td>\n",
       "      <td>0.931529</td>\n",
       "      <td>0.611565</td>\n",
       "      <td>0.612010</td>\n",
       "    </tr>\n",
       "    <tr>\n",
       "      <th>2</th>\n",
       "      <td>0.172585</td>\n",
       "      <td>0.420825</td>\n",
       "      <td>0.505303</td>\n",
       "      <td>0.099243</td>\n",
       "      <td>0.682833</td>\n",
       "      <td>0.288473</td>\n",
       "      <td>0.287049</td>\n",
       "    </tr>\n",
       "    <tr>\n",
       "      <th>3</th>\n",
       "      <td>0.355824</td>\n",
       "      <td>0.413204</td>\n",
       "      <td>0.548446</td>\n",
       "      <td>-0.260356</td>\n",
       "      <td>0.572684</td>\n",
       "      <td>0.773073</td>\n",
       "      <td>0.774491</td>\n",
       "    </tr>\n",
       "    <tr>\n",
       "      <th>4</th>\n",
       "      <td>0.230402</td>\n",
       "      <td>0.423477</td>\n",
       "      <td>0.494518</td>\n",
       "      <td>-0.115589</td>\n",
       "      <td>0.693657</td>\n",
       "      <td>0.288473</td>\n",
       "      <td>0.287049</td>\n",
       "    </tr>\n",
       "  </tbody>\n",
       "</table>\n",
       "</div>"
      ],
      "text/plain": [
       "   clustering  closeness  betweenness  assortativity  shannon_entropy  \\\n",
       "0    0.271517   0.373179     0.634730       0.710714         0.700541   \n",
       "1    0.345476   0.425392     0.505303      -0.222564         0.931529   \n",
       "2    0.172585   0.420825     0.505303       0.099243         0.682833   \n",
       "3    0.355824   0.413204     0.548446      -0.260356         0.572684   \n",
       "4    0.230402   0.423477     0.494518      -0.115589         0.693657   \n",
       "\n",
       "   degree_variance  average_degree  \n",
       "0         0.126880        0.124568  \n",
       "1         0.611565        0.612010  \n",
       "2         0.288473        0.287049  \n",
       "3         0.773073        0.774491  \n",
       "4         0.288473        0.287049  "
      ]
     },
     "execution_count": 134,
     "metadata": {},
     "output_type": "execute_result"
    }
   ],
   "source": [
    "N = len(real_network.graph)\n",
    "average_degree = real_graph_metrics['average_degree']\n",
    "\n",
    "random_nets = get_random_networks(N, average_degree, 10)\n",
    "metrics_list = []\n",
    "class_list = []\n",
    "\n",
    "error_log = []\n",
    "\n",
    "for network in tqdm(random_nets):\n",
    "    try:\n",
    "        metrics = NetworkMeasure(network.graph)\n",
    "        network_metrics = metrics.get_measure_dict()\n",
    "        metrics_list.append(network_metrics)\n",
    "        class_list.append(network.name)\n",
    "    except Exception as e:\n",
    "        error_log.append(e)\n",
    "\n",
    "print(error_log)\n",
    "\n",
    "metric_df = pd.DataFrame(metrics_list)\n",
    "scaler = StandardScaler()\n",
    "metric_df[metric_df.columns] = scaler.fit_transform(metric_df)\n",
    "metric_df.head()"
   ]
  },
  {
   "cell_type": "markdown",
   "id": "3e63c412",
   "metadata": {},
   "source": [
    "#### PCA and KNN"
   ]
  },
  {
   "cell_type": "code",
   "execution_count": 136,
   "id": "ee576c3f",
   "metadata": {},
   "outputs": [
    {
     "name": "stderr",
     "output_type": "stream",
     "text": [
      "/home/vitor/Documents/usp/9thPeriod/ComplexNetworks/venv/lib/python3.13/site-packages/sklearn/utils/validation.py:2739: UserWarning: X does not have valid feature names, but PCA was fitted with feature names\n",
      "  warnings.warn(\n"
     ]
    }
   ],
   "source": [
    "pca = PCA(n_components=2)\n",
    "pca.fit(metric_df)\n",
    "X = pca.transform(metric_df)\n",
    "X_test = pca.transform(\n",
    "    scaler.transform(\n",
    "        pd.DataFrame([real_graph_metrics])\n",
    "    )\n",
    ")\n",
    "encoder = LabelEncoder()\n",
    "encoded_list = encoder.fit_transform(class_list)\n",
    "\n",
    "knn = KNeighborsClassifier()\n",
    "knn.fit(X, class_list)\n",
    "most_similar_random_graph = knn.predict(X_test)"
   ]
  },
  {
   "cell_type": "markdown",
   "id": "d00a123b",
   "metadata": {},
   "source": [
    "#### Plot"
   ]
  },
  {
   "cell_type": "code",
   "execution_count": 137,
   "id": "16ee304a",
   "metadata": {},
   "outputs": [
    {
     "data": {
      "text/plain": [
       "Text(0.5, 1.0, 'cattle.edgelist is closer to barabasi_nonlinear_15')"
      ]
     },
     "execution_count": 137,
     "metadata": {},
     "output_type": "execute_result"
    },
    {
     "data": {
      "image/png": "[encoded data removed]",
      "text/plain": [
       "<Figure size 640x480 with 1 Axes>"
      ]
     },
     "metadata": {},
     "output_type": "display_data"
    }
   ],
   "source": [
    "scatter = plt.scatter(X[:, 0], X[:, 1], c=encoded_list)\n",
    "plt.scatter(X_test[:, 0], X_test[:, 1], c='red', marker='*')\n",
    "plt.legend(\n",
    "    handles=scatter.legend_elements()[0], \n",
    "    labels=list(np.unique(class_list))\n",
    ")\n",
    "plt.title(f'{real_network.name} is closer to {most_similar_random_graph[0]}')"
   ]
  },
  {
   "cell_type": "markdown",
   "id": "02351285",
   "metadata": {},
   "source": [
    "### Medici"
   ]
  },
  {
   "cell_type": "code",
   "execution_count": 138,
   "id": "59eb39dd",
   "metadata": {},
   "outputs": [
    {
     "name": "stdout",
     "output_type": "stream",
     "text": [
      "medici_network.gml\n",
      "social\n"
     ]
    },
    {
     "data": {
      "text/html": [
       "<div>\n",
       "<style scoped>\n",
       "    .dataframe tbody tr th:only-of-type {\n",
       "        vertical-align: middle;\n",
       "    }\n",
       "\n",
       "    .dataframe tbody tr th {\n",
       "        vertical-align: top;\n",
       "    }\n",
       "\n",
       "    .dataframe thead th {\n",
       "        text-align: right;\n",
       "    }\n",
       "</style>\n",
       "<table border=\"1\" class=\"dataframe\">\n",
       "  <thead>\n",
       "    <tr style=\"text-align: right;\">\n",
       "      <th></th>\n",
       "      <th>clustering</th>\n",
       "      <th>closeness</th>\n",
       "      <th>betweenness</th>\n",
       "      <th>assortativity</th>\n",
       "      <th>shannon_entropy</th>\n",
       "      <th>degree_variance</th>\n",
       "      <th>average_degree</th>\n",
       "    </tr>\n",
       "  </thead>\n",
       "  <tbody>\n",
       "    <tr>\n",
       "      <th>0</th>\n",
       "      <td>0.191489</td>\n",
       "      <td>0.415096</td>\n",
       "      <td>0.114286</td>\n",
       "      <td>-0.374838</td>\n",
       "      <td>2.072906</td>\n",
       "      <td>2.0</td>\n",
       "      <td>3.0</td>\n",
       "    </tr>\n",
       "  </tbody>\n",
       "</table>\n",
       "</div>"
      ],
      "text/plain": [
       "   clustering  closeness  betweenness  assortativity  shannon_entropy  \\\n",
       "0    0.191489   0.415096     0.114286      -0.374838         2.072906   \n",
       "\n",
       "   degree_variance  average_degree  \n",
       "0              2.0             3.0  "
      ]
     },
     "execution_count": 138,
     "metadata": {},
     "output_type": "execute_result"
    }
   ],
   "source": [
    "real_network = real_networks_list[7]\n",
    "print(real_network.name)\n",
    "print(real_network.network_type)\n",
    "\n",
    "metrics = NetworkMeasure(real_network.graph)\n",
    "real_graph_metrics = metrics.get_measure_dict()\n",
    "\n",
    "pd.DataFrame([real_graph_metrics])"
   ]
  },
  {
   "cell_type": "markdown",
   "id": "dc3663f9",
   "metadata": {},
   "source": [
    "#### Computing Metrics"
   ]
  },
  {
   "cell_type": "code",
   "execution_count": 139,
   "id": "6972c792",
   "metadata": {},
   "outputs": [
    {
     "name": "stderr",
     "output_type": "stream",
     "text": [
      "100%|██████████| 6/6 [00:00<00:00, 107.26it/s]\n",
      " 48%|████▊     | 29/60 [00:00<00:00, 286.60it/s]/home/vitor/Documents/usp/9thPeriod/ComplexNetworks/venv/lib/python3.13/site-packages/networkx/algorithms/assortativity/correlation.py:302: RuntimeWarning: invalid value encountered in scalar divide\n",
      "  return float((xy * (M - ab)).sum() / np.sqrt(vara * varb))\n",
      "100%|██████████| 60/60 [00:00<00:00, 382.71it/s]\n"
     ]
    },
    {
     "name": "stdout",
     "output_type": "stream",
     "text": [
      "[]\n"
     ]
    },
    {
     "data": {
      "text/html": [
       "<div>\n",
       "<style scoped>\n",
       "    .dataframe tbody tr th:only-of-type {\n",
       "        vertical-align: middle;\n",
       "    }\n",
       "\n",
       "    .dataframe tbody tr th {\n",
       "        vertical-align: top;\n",
       "    }\n",
       "\n",
       "    .dataframe thead th {\n",
       "        text-align: right;\n",
       "    }\n",
       "</style>\n",
       "<table border=\"1\" class=\"dataframe\">\n",
       "  <thead>\n",
       "    <tr style=\"text-align: right;\">\n",
       "      <th></th>\n",
       "      <th>clustering</th>\n",
       "      <th>closeness</th>\n",
       "      <th>betweenness</th>\n",
       "      <th>assortativity</th>\n",
       "      <th>shannon_entropy</th>\n",
       "      <th>degree_variance</th>\n",
       "      <th>average_degree</th>\n",
       "    </tr>\n",
       "  </thead>\n",
       "  <tbody>\n",
       "    <tr>\n",
       "      <th>0</th>\n",
       "      <td>1.080023</td>\n",
       "      <td>0.914755</td>\n",
       "      <td>-0.475446</td>\n",
       "      <td>-0.081264</td>\n",
       "      <td>0.805806</td>\n",
       "      <td>1.060258</td>\n",
       "      <td>1.062984</td>\n",
       "    </tr>\n",
       "    <tr>\n",
       "      <th>1</th>\n",
       "      <td>0.901497</td>\n",
       "      <td>0.917936</td>\n",
       "      <td>-0.475446</td>\n",
       "      <td>-0.283168</td>\n",
       "      <td>0.954677</td>\n",
       "      <td>1.060258</td>\n",
       "      <td>1.062984</td>\n",
       "    </tr>\n",
       "    <tr>\n",
       "      <th>2</th>\n",
       "      <td>0.967440</td>\n",
       "      <td>0.914650</td>\n",
       "      <td>-0.475446</td>\n",
       "      <td>0.043489</td>\n",
       "      <td>1.067057</td>\n",
       "      <td>1.060258</td>\n",
       "      <td>1.062984</td>\n",
       "    </tr>\n",
       "    <tr>\n",
       "      <th>3</th>\n",
       "      <td>0.934328</td>\n",
       "      <td>0.916975</td>\n",
       "      <td>-0.475446</td>\n",
       "      <td>-0.503953</td>\n",
       "      <td>0.918187</td>\n",
       "      <td>1.060258</td>\n",
       "      <td>1.062984</td>\n",
       "    </tr>\n",
       "    <tr>\n",
       "      <th>4</th>\n",
       "      <td>0.962592</td>\n",
       "      <td>0.913266</td>\n",
       "      <td>-0.475446</td>\n",
       "      <td>-0.194287</td>\n",
       "      <td>0.974377</td>\n",
       "      <td>0.854767</td>\n",
       "      <td>0.855235</td>\n",
       "    </tr>\n",
       "  </tbody>\n",
       "</table>\n",
       "</div>"
      ],
      "text/plain": [
       "   clustering  closeness  betweenness  assortativity  shannon_entropy  \\\n",
       "0    1.080023   0.914755    -0.475446      -0.081264         0.805806   \n",
       "1    0.901497   0.917936    -0.475446      -0.283168         0.954677   \n",
       "2    0.967440   0.914650    -0.475446       0.043489         1.067057   \n",
       "3    0.934328   0.916975    -0.475446      -0.503953         0.918187   \n",
       "4    0.962592   0.913266    -0.475446      -0.194287         0.974377   \n",
       "\n",
       "   degree_variance  average_degree  \n",
       "0         1.060258        1.062984  \n",
       "1         1.060258        1.062984  \n",
       "2         1.060258        1.062984  \n",
       "3         1.060258        1.062984  \n",
       "4         0.854767        0.855235  "
      ]
     },
     "execution_count": 139,
     "metadata": {},
     "output_type": "execute_result"
    }
   ],
   "source": [
    "N = len(real_network.graph)\n",
    "average_degree = real_graph_metrics['average_degree']\n",
    "\n",
    "random_nets = get_random_networks(N, average_degree, 10)\n",
    "metrics_list = []\n",
    "class_list = []\n",
    "\n",
    "error_log = []\n",
    "\n",
    "for network in tqdm(random_nets):\n",
    "    try:\n",
    "        metrics = NetworkMeasure(network.graph)\n",
    "        network_metrics = metrics.get_measure_dict()\n",
    "        metrics_list.append(network_metrics)\n",
    "        class_list.append(network.name)\n",
    "    except Exception as e:\n",
    "        error_log.append(e)\n",
    "\n",
    "print(error_log)\n",
    "\n",
    "metric_df = pd.DataFrame(metrics_list)\n",
    "scaler = StandardScaler()\n",
    "metric_df[metric_df.columns] = scaler.fit_transform(metric_df)\n",
    "metric_df.head()"
   ]
  },
  {
   "cell_type": "code",
   "execution_count": 140,
   "id": "58268aae",
   "metadata": {},
   "outputs": [],
   "source": [
    "metric_df = metric_df.dropna(how='any',axis=0)\n",
    "class_list = np.array(class_list)[list(metric_df.index)]"
   ]
  },
  {
   "cell_type": "markdown",
   "id": "19044711",
   "metadata": {},
   "source": [
    "#### PCA and KNN"
   ]
  },
  {
   "cell_type": "code",
   "execution_count": 141,
   "id": "84fdcc0b",
   "metadata": {},
   "outputs": [
    {
     "name": "stderr",
     "output_type": "stream",
     "text": [
      "/home/vitor/Documents/usp/9thPeriod/ComplexNetworks/venv/lib/python3.13/site-packages/sklearn/utils/validation.py:2739: UserWarning: X does not have valid feature names, but PCA was fitted with feature names\n",
      "  warnings.warn(\n"
     ]
    }
   ],
   "source": [
    "pca = PCA(n_components=2)\n",
    "pca.fit(metric_df)\n",
    "X = pca.transform(metric_df)\n",
    "X_test = pca.transform(\n",
    "    scaler.transform(\n",
    "        pd.DataFrame([real_graph_metrics])\n",
    "    )\n",
    ")\n",
    "encoder = LabelEncoder()\n",
    "encoded_list = encoder.fit_transform(class_list)\n",
    "\n",
    "knn = KNeighborsClassifier()\n",
    "knn.fit(X, class_list)\n",
    "most_similar_random_graph = knn.predict(X_test)"
   ]
  },
  {
   "cell_type": "markdown",
   "id": "9b9c064e",
   "metadata": {},
   "source": [
    "#### Plot"
   ]
  },
  {
   "cell_type": "code",
   "execution_count": 142,
   "id": "d74aa35a",
   "metadata": {},
   "outputs": [
    {
     "data": {
      "text/plain": [
       "Text(0.5, 1.0, 'medici_network.gml is closer to erdos_renyi')"
      ]
     },
     "execution_count": 142,
     "metadata": {},
     "output_type": "execute_result"
    },
    {
     "data": {
      "image/png": "[encoded data removed]",
      "text/plain": [
       "<Figure size 640x480 with 1 Axes>"
      ]
     },
     "metadata": {},
     "output_type": "display_data"
    }
   ],
   "source": [
    "scatter = plt.scatter(X[:, 0], X[:, 1], c=encoded_list)\n",
    "plt.scatter(X_test[:, 0], X_test[:, 1], c='red', marker='*')\n",
    "plt.legend(\n",
    "    handles=scatter.legend_elements()[0], \n",
    "    labels=list(np.unique(class_list))\n",
    ")\n",
    "plt.title(f'{real_network.name} is closer to {most_similar_random_graph[0]}')"
   ]
  },
  {
   "cell_type": "markdown",
   "id": "45a05e17",
   "metadata": {},
   "source": [
    "### Karate"
   ]
  },
  {
   "cell_type": "code",
   "execution_count": 106,
   "id": "a2329299",
   "metadata": {},
   "outputs": [
    {
     "name": "stdout",
     "output_type": "stream",
     "text": [
      "karate.gml\n",
      "social\n"
     ]
    },
    {
     "data": {
      "text/html": [
       "<div>\n",
       "<style scoped>\n",
       "    .dataframe tbody tr th:only-of-type {\n",
       "        vertical-align: middle;\n",
       "    }\n",
       "\n",
       "    .dataframe tbody tr th {\n",
       "        vertical-align: top;\n",
       "    }\n",
       "\n",
       "    .dataframe thead th {\n",
       "        text-align: right;\n",
       "    }\n",
       "</style>\n",
       "<table border=\"1\" class=\"dataframe\">\n",
       "  <thead>\n",
       "    <tr style=\"text-align: right;\">\n",
       "      <th></th>\n",
       "      <th>clustering</th>\n",
       "      <th>closeness</th>\n",
       "      <th>betweenness</th>\n",
       "      <th>assortativity</th>\n",
       "      <th>shannon_entropy</th>\n",
       "      <th>degree_variance</th>\n",
       "      <th>average_degree</th>\n",
       "    </tr>\n",
       "  </thead>\n",
       "  <tbody>\n",
       "    <tr>\n",
       "      <th>0</th>\n",
       "      <td>0.255682</td>\n",
       "      <td>0.42648</td>\n",
       "      <td>0.044006</td>\n",
       "      <td>-0.475613</td>\n",
       "      <td>2.857222</td>\n",
       "      <td>5.188127</td>\n",
       "      <td>8.5</td>\n",
       "    </tr>\n",
       "  </tbody>\n",
       "</table>\n",
       "</div>"
      ],
      "text/plain": [
       "   clustering  closeness  betweenness  assortativity  shannon_entropy  \\\n",
       "0    0.255682    0.42648     0.044006      -0.475613         2.857222   \n",
       "\n",
       "   degree_variance  average_degree  \n",
       "0         5.188127             8.5  "
      ]
     },
     "execution_count": 106,
     "metadata": {},
     "output_type": "execute_result"
    }
   ],
   "source": [
    "real_network = real_networks_list[8]\n",
    "print(real_network.name)\n",
    "print(real_network.network_type)\n",
    "\n",
    "metrics = NetworkMeasure(real_network.graph)\n",
    "real_graph_metrics = metrics.get_measure_dict()\n",
    "\n",
    "pd.DataFrame([real_graph_metrics])"
   ]
  },
  {
   "cell_type": "markdown",
   "id": "d5fd91bf",
   "metadata": {},
   "source": [
    "#### Computing Metrics"
   ]
  },
  {
   "cell_type": "code",
   "execution_count": 107,
   "id": "e1ba97c2",
   "metadata": {},
   "outputs": [
    {
     "name": "stderr",
     "output_type": "stream",
     "text": [
      "100%|██████████| 6/6 [00:00<00:00, 63.57it/s]\n",
      "100%|██████████| 60/60 [00:00<00:00, 131.23it/s]"
     ]
    },
    {
     "name": "stdout",
     "output_type": "stream",
     "text": [
      "[]\n"
     ]
    },
    {
     "name": "stderr",
     "output_type": "stream",
     "text": [
      "\n"
     ]
    },
    {
     "data": {
      "text/html": [
       "<div>\n",
       "<style scoped>\n",
       "    .dataframe tbody tr th:only-of-type {\n",
       "        vertical-align: middle;\n",
       "    }\n",
       "\n",
       "    .dataframe tbody tr th {\n",
       "        vertical-align: top;\n",
       "    }\n",
       "\n",
       "    .dataframe thead th {\n",
       "        text-align: right;\n",
       "    }\n",
       "</style>\n",
       "<table border=\"1\" class=\"dataframe\">\n",
       "  <thead>\n",
       "    <tr style=\"text-align: right;\">\n",
       "      <th></th>\n",
       "      <th>clustering</th>\n",
       "      <th>closeness</th>\n",
       "      <th>betweenness</th>\n",
       "      <th>assortativity</th>\n",
       "      <th>shannon_entropy</th>\n",
       "      <th>degree_variance</th>\n",
       "      <th>average_degree</th>\n",
       "    </tr>\n",
       "  </thead>\n",
       "  <tbody>\n",
       "    <tr>\n",
       "      <th>0</th>\n",
       "      <td>0.285807</td>\n",
       "      <td>0.513800</td>\n",
       "      <td>0.248981</td>\n",
       "      <td>0.999367</td>\n",
       "      <td>0.757936</td>\n",
       "      <td>0.337242</td>\n",
       "      <td>0.336205</td>\n",
       "    </tr>\n",
       "    <tr>\n",
       "      <th>1</th>\n",
       "      <td>0.218703</td>\n",
       "      <td>0.541439</td>\n",
       "      <td>0.190004</td>\n",
       "      <td>0.443286</td>\n",
       "      <td>0.923722</td>\n",
       "      <td>1.081596</td>\n",
       "      <td>1.083327</td>\n",
       "    </tr>\n",
       "    <tr>\n",
       "      <th>2</th>\n",
       "      <td>0.267357</td>\n",
       "      <td>0.548146</td>\n",
       "      <td>0.184106</td>\n",
       "      <td>-0.363858</td>\n",
       "      <td>0.714803</td>\n",
       "      <td>1.081596</td>\n",
       "      <td>1.083327</td>\n",
       "    </tr>\n",
       "    <tr>\n",
       "      <th>3</th>\n",
       "      <td>0.436173</td>\n",
       "      <td>0.543282</td>\n",
       "      <td>0.201799</td>\n",
       "      <td>-0.428599</td>\n",
       "      <td>0.561010</td>\n",
       "      <td>1.230422</td>\n",
       "      <td>1.232751</td>\n",
       "    </tr>\n",
       "    <tr>\n",
       "      <th>4</th>\n",
       "      <td>0.316185</td>\n",
       "      <td>0.564478</td>\n",
       "      <td>0.160515</td>\n",
       "      <td>-0.828139</td>\n",
       "      <td>0.696578</td>\n",
       "      <td>0.932758</td>\n",
       "      <td>0.933903</td>\n",
       "    </tr>\n",
       "  </tbody>\n",
       "</table>\n",
       "</div>"
      ],
      "text/plain": [
       "   clustering  closeness  betweenness  assortativity  shannon_entropy  \\\n",
       "0    0.285807   0.513800     0.248981       0.999367         0.757936   \n",
       "1    0.218703   0.541439     0.190004       0.443286         0.923722   \n",
       "2    0.267357   0.548146     0.184106      -0.363858         0.714803   \n",
       "3    0.436173   0.543282     0.201799      -0.428599         0.561010   \n",
       "4    0.316185   0.564478     0.160515      -0.828139         0.696578   \n",
       "\n",
       "   degree_variance  average_degree  \n",
       "0         0.337242        0.336205  \n",
       "1         1.081596        1.083327  \n",
       "2         1.081596        1.083327  \n",
       "3         1.230422        1.232751  \n",
       "4         0.932758        0.933903  "
      ]
     },
     "execution_count": 107,
     "metadata": {},
     "output_type": "execute_result"
    }
   ],
   "source": [
    "N = len(real_network.graph)\n",
    "average_degree = real_graph_metrics['average_degree']\n",
    "\n",
    "random_nets = get_random_networks(N, average_degree, 10)\n",
    "metrics_list = []\n",
    "class_list = []\n",
    "\n",
    "error_log = []\n",
    "\n",
    "for network in tqdm(random_nets):\n",
    "    try:\n",
    "        metrics = NetworkMeasure(network.graph)\n",
    "        network_metrics = metrics.get_measure_dict()\n",
    "        metrics_list.append(network_metrics)\n",
    "        class_list.append(network.name)\n",
    "    except Exception as e:\n",
    "        error_log.append(e)\n",
    "\n",
    "print(error_log)\n",
    "\n",
    "metric_df = pd.DataFrame(metrics_list)\n",
    "scaler = StandardScaler()\n",
    "metric_df[metric_df.columns] = scaler.fit_transform(metric_df)\n",
    "metric_df.head()"
   ]
  },
  {
   "cell_type": "code",
   "execution_count": 108,
   "id": "dc0814fb",
   "metadata": {},
   "outputs": [],
   "source": [
    "metric_df = metric_df.dropna(how='any',axis=0)\n",
    "class_list = np.array(class_list)[list(metric_df.index)]"
   ]
  },
  {
   "cell_type": "markdown",
   "id": "c1f422ce",
   "metadata": {},
   "source": [
    "#### PCA and KNN"
   ]
  },
  {
   "cell_type": "code",
   "execution_count": 109,
   "id": "3e2c2ddf",
   "metadata": {},
   "outputs": [
    {
     "name": "stderr",
     "output_type": "stream",
     "text": [
      "/home/vitor/Documents/usp/9thPeriod/ComplexNetworks/venv/lib/python3.13/site-packages/sklearn/utils/validation.py:2739: UserWarning: X does not have valid feature names, but PCA was fitted with feature names\n",
      "  warnings.warn(\n"
     ]
    }
   ],
   "source": [
    "pca = PCA(n_components=2)\n",
    "pca.fit(metric_df)\n",
    "X = pca.transform(metric_df)\n",
    "X_test = pca.transform(\n",
    "    scaler.transform(\n",
    "        pd.DataFrame([real_graph_metrics])\n",
    "    )\n",
    ")\n",
    "encoder = LabelEncoder()\n",
    "encoded_list = encoder.fit_transform(class_list)\n",
    "\n",
    "knn = KNeighborsClassifier()\n",
    "knn.fit(metric_df, class_list)\n",
    "most_similar_random_graph = knn.predict(pd.DataFrame([real_graph_metrics]))"
   ]
  },
  {
   "cell_type": "markdown",
   "id": "d6af3675",
   "metadata": {},
   "source": [
    "#### Plot"
   ]
  },
  {
   "cell_type": "code",
   "execution_count": 110,
   "id": "c9331d09",
   "metadata": {},
   "outputs": [
    {
     "data": {
      "text/plain": [
       "Text(0.5, 1.0, 'karate.gml is closer to barabasi_nonlinear_15')"
      ]
     },
     "execution_count": 110,
     "metadata": {},
     "output_type": "execute_result"
    },
    {
     "data": {
      "image/png": "[encoded data removed]",
      "text/plain": [
       "<Figure size 640x480 with 1 Axes>"
      ]
     },
     "metadata": {},
     "output_type": "display_data"
    }
   ],
   "source": [
    "scatter = plt.scatter(X[:, 0], X[:, 1], c=encoded_list)\n",
    "plt.scatter(X_test[:, 0], X_test[:, 1], c='red', marker='*')\n",
    "plt.legend(\n",
    "    handles=scatter.legend_elements()[0], \n",
    "    labels=list(np.unique(class_list))\n",
    ")\n",
    "plt.title(f'{real_network.name} is closer to {most_similar_random_graph[0]}')"
   ]
  },
  {
   "cell_type": "markdown",
   "id": "25a7cd78",
   "metadata": {},
   "source": [
    "## Conclusão\n",
    "\n",
    "A hipótese não é verdadeira. Apenas redes que caracterizam dinâmicas muito similares possuem a mesma classificação. Exemplos são Power Grids, caracterizadas como Watts Strogatz e algumas redes biológicas de interação caraterizadas como Barabasi Albert "
   ]
  },
  {
   "cell_type": "code",
   "execution_count": null,
   "id": "6c64535c",
   "metadata": {},
   "outputs": [],
   "source": []
  }
 ],
 "metadata": {
  "kernelspec": {
   "display_name": "venv",
   "language": "python",
   "name": "python3"
  },
  "language_info": {
   "codemirror_mode": {
    "name": "ipython",
    "version": 3
   },
   "file_extension": ".py",
   "mimetype": "text/x-python",
   "name": "python",
   "nbconvert_exporter": "python",
   "pygments_lexer": "ipython3",
   "version": "3.13.2"
  }
 },
 "nbformat": 4,
 "nbformat_minor": 5
}
