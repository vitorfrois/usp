{
 "cells": [
  {
   "cell_type": "markdown",
   "metadata": {},
   "source": [
    "# Distance, assortativity and random walks"
   ]
  },
  {
   "cell_type": "code",
   "execution_count": 94,
   "metadata": {},
   "outputs": [],
   "source": [
    "import math\n",
    "\n",
    "import numpy as np\n",
    "import matplotlib.pyplot as plt\n",
    "import networkx as nx\n",
    "import pandas as pd\n",
    "import seaborn as sns\n",
    "\n",
    "from tqdm import tqdm"
   ]
  },
  {
   "cell_type": "markdown",
   "metadata": {},
   "source": [
    "### Shortest Paths Matrix"
   ]
  },
  {
   "cell_type": "code",
   "execution_count": 134,
   "metadata": {},
   "outputs": [],
   "source": [
    "def get_shortest_paths_list(G: nx.Graph) -> list[int]:\n",
    "    shortest_paths_list = []\n",
    "    node_list = list(G.nodes)\n",
    "    for i in tqdm(node_list):\n",
    "        for j in node_list:\n",
    "            if i < j:\n",
    "                shortest_paths_list.append(\n",
    "                    len(nx.shortest_path(usairport, i, j)) - 1\n",
    "                )\n",
    "    return shortest_paths_list"
   ]
  },
  {
   "cell_type": "markdown",
   "metadata": {},
   "source": [
    "### Degree Distribution"
   ]
  },
  {
   "cell_type": "code",
   "execution_count": 107,
   "metadata": {},
   "outputs": [],
   "source": [
    "def get_degree_distribution(degree_list):\n",
    "    hist, bins = np.histogram(\n",
    "        degree_list, \n",
    "        bins=max(degree_list) - min(degree_list),\n",
    "        density=True\n",
    "    )\n",
    "    return dict(zip(bins[:-1], hist))"
   ]
  },
  {
   "cell_type": "markdown",
   "metadata": {},
   "source": [
    "### Shannon Entropy"
   ]
  },
  {
   "cell_type": "code",
   "execution_count": 140,
   "metadata": {},
   "outputs": [],
   "source": [
    "get_shannon_entropy = lambda x: np.sum([-x[k]*math.log(x[k], 2) if x[k] > 0 else 0 for k in x])"
   ]
  },
  {
   "cell_type": "markdown",
   "metadata": {},
   "source": [
    "**Question 1:** compute Average Shortest Path Lenght and Diameter. Use only biggest connected component and remove loops "
   ]
  },
  {
   "cell_type": "code",
   "execution_count": 16,
   "metadata": {},
   "outputs": [],
   "source": [
    "hamster_raw = nx.read_edgelist('data/hamsterster.txt')\n",
    "hamster_raw.remove_edges_from(nx.selfloop_edges(hamster_raw))\n",
    "hamster_raw = hamster_raw.to_undirected()\n",
    "components_list = sorted(nx.connected_components(hamster_raw), key=len, reverse=True)\n",
    "hamster = hamster_raw.subgraph(components_list[0])"
   ]
  },
  {
   "cell_type": "code",
   "execution_count": 17,
   "metadata": {},
   "outputs": [],
   "source": [
    "avg_shortest_path = nx.average_shortest_path_length(hamster)\n",
    "diameter = nx.diameter(hamster)"
   ]
  },
  {
   "cell_type": "code",
   "execution_count": 18,
   "metadata": {},
   "outputs": [
    {
     "name": "stdout",
     "output_type": "stream",
     "text": [
      "Average SPL = 3.452640184078649; Diameter = 14\n"
     ]
    }
   ],
   "source": [
    "print(f'Average SPL = {avg_shortest_path}; Diameter = {diameter}')"
   ]
  },
  {
   "cell_type": "markdown",
   "metadata": {},
   "source": [
    "**Question 2:** Mean and variance of SPL in the USAirport500 Network"
   ]
  },
  {
   "cell_type": "code",
   "execution_count": 142,
   "metadata": {},
   "outputs": [
    {
     "name": "stderr",
     "output_type": "stream",
     "text": [
      "  0%|          | 0/500 [00:00<?, ?it/s]"
     ]
    },
    {
     "name": "stderr",
     "output_type": "stream",
     "text": [
      "100%|██████████| 500/500 [00:06<00:00, 80.65it/s] "
     ]
    },
    {
     "name": "stdout",
     "output_type": "stream",
     "text": [
      "Average SPL = 2.9910300601202406; Var SPL = 0.8175467946875716\n"
     ]
    },
    {
     "name": "stderr",
     "output_type": "stream",
     "text": [
      "\n"
     ]
    }
   ],
   "source": [
    "usairport_raw = nx.read_weighted_edgelist(\"data/USairport500.txt\")\n",
    "components_list = sorted(nx.connected_components(usairport_raw), key=len, reverse=True)\n",
    "usairport = usairport_raw.subgraph(components_list[0])\n",
    "shortest_paths_list = get_shortest_paths_list(usairport)\n",
    "avg_shortest_path = np.mean(shortest_paths_list)\n",
    "variance_shortest_path = np.var(shortest_paths_list)\n",
    "print(f'Average SPL = {avg_shortest_path}; Var SPL = {variance_shortest_path}')"
   ]
  },
  {
   "cell_type": "markdown",
   "metadata": {},
   "source": [
    "**Question 3:** USAirport500 SPL Shannon Entropy"
   ]
  },
  {
   "cell_type": "code",
   "execution_count": 144,
   "metadata": {},
   "outputs": [
    {
     "name": "stdout",
     "output_type": "stream",
     "text": [
      "SPL Shannon Entropy = 1.8830186387901517\n"
     ]
    }
   ],
   "source": [
    "spl_distribution = get_degree_distribution(shortest_paths_list)\n",
    "shannon_entropy = get_shannon_entropy(spl_distribution)\n",
    "print(f'SPL Shannon Entropy = {shannon_entropy}')"
   ]
  },
  {
   "cell_type": "markdown",
   "metadata": {},
   "source": [
    "**Question 4:** Advogato Assortativity"
   ]
  },
  {
   "cell_type": "code",
   "execution_count": 129,
   "metadata": {},
   "outputs": [],
   "source": [
    "advogato_raw = nx.read_weighted_edgelist(\"data/advogato.txt\")\n",
    "components_list = sorted(nx.connected_components(advogato_raw), key=len, reverse=True)\n",
    "advogato = advogato_raw.subgraph(components_list[0])"
   ]
  },
  {
   "cell_type": "code",
   "execution_count": 131,
   "metadata": {},
   "outputs": [
    {
     "name": "stdout",
     "output_type": "stream",
     "text": [
      "Advogato Assortativity = -0.08455192594199314\n"
     ]
    }
   ],
   "source": [
    "assortativity = nx.degree_assortativity_coefficient(advogato)\n",
    "print(f'Advogato Assortativity = {assortativity}')"
   ]
  },
  {
   "cell_type": "markdown",
   "metadata": {},
   "source": [
    "**Question 5:** Pearson Correlation between knn(k) and k"
   ]
  },
  {
   "cell_type": "code",
   "execution_count": 132,
   "metadata": {},
   "outputs": [],
   "source": [
    "word_adjacencies_raw = nx.read_weighted_edgelist(\"data/word_adjacencies.txt\")\n",
    "components_list = sorted(nx.connected_components(word_adjacencies_raw), key=len, reverse=True)\n",
    "word_adjacencies = word_adjacencies_raw.subgraph(components_list[0])"
   ]
  },
  {
   "cell_type": "code",
   "execution_count": 133,
   "metadata": {},
   "outputs": [
    {
     "name": "stdout",
     "output_type": "stream",
     "text": [
      "Advogato Assortativity = -0.1293478534390013\n"
     ]
    }
   ],
   "source": [
    "assortativity = nx.degree_assortativity_coefficient(word_adjacencies)\n",
    "print(f'Advogato Assortativity = {assortativity}')"
   ]
  }
 ],
 "metadata": {
  "kernelspec": {
   "display_name": "venv",
   "language": "python",
   "name": "python3"
  },
  "language_info": {
   "codemirror_mode": {
    "name": "ipython",
    "version": 3
   },
   "file_extension": ".py",
   "mimetype": "text/x-python",
   "name": "python",
   "nbconvert_exporter": "python",
   "pygments_lexer": "ipython3",
   "version": "3.13.2"
  }
 },
 "nbformat": 4,
 "nbformat_minor": 2
}
