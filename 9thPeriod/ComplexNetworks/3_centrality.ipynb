{
 "cells": [
  {
   "cell_type": "markdown",
   "metadata": {},
   "source": [
    "# Centrality\n",
    "\n",
    "- Vítor Amorim Fróis"
   ]
  },
  {
   "cell_type": "code",
   "execution_count": 16,
   "metadata": {},
   "outputs": [],
   "source": [
    "import numpy as np\n",
    "import networkx as nx\n",
    "import matplotlib.pyplot as plt\n",
    "\n",
    "from scipy.stats import pearsonr, spearmanr"
   ]
  },
  {
   "cell_type": "markdown",
   "metadata": {},
   "source": [
    "**Question 1**: Average Eigenvector Centrality of USairport 500"
   ]
  },
  {
   "cell_type": "code",
   "execution_count": 9,
   "metadata": {},
   "outputs": [
    {
     "name": "stdout",
     "output_type": "stream",
     "text": [
      "Average Eigenvector Centrality = 0.022754398239423664\n"
     ]
    }
   ],
   "source": [
    "usairport_raw = nx.read_weighted_edgelist(\"data/USairport500.txt\")\n",
    "components_list = sorted(nx.connected_components(usairport_raw), key=len, reverse=True)\n",
    "usairport = usairport_raw.subgraph(components_list[0])\n",
    "eigenvector = nx.eigenvector_centrality(usairport)\n",
    "\n",
    "print(f'Average Eigenvector Centrality = {np.mean(list(eigenvector.values()))}')"
   ]
  },
  {
   "cell_type": "markdown",
   "metadata": {},
   "source": [
    "**Question 2**: Pearson correlation between Betweeness Centrality and Node Degree in Hamsterster"
   ]
  },
  {
   "cell_type": "code",
   "execution_count": 10,
   "metadata": {},
   "outputs": [],
   "source": [
    "hamster_raw = nx.read_edgelist('data/hamsterster.txt')\n",
    "hamster_raw.remove_edges_from(nx.selfloop_edges(hamster_raw))\n",
    "hamster_raw = hamster_raw.to_undirected()\n",
    "components_list = sorted(nx.connected_components(hamster_raw), key=len, reverse=True)\n",
    "hamster = hamster_raw.subgraph(components_list[0])"
   ]
  },
  {
   "cell_type": "code",
   "execution_count": null,
   "metadata": {},
   "outputs": [
    {
     "name": "stdout",
     "output_type": "stream",
     "text": [
      "Pearson Corr = 0.8242435188731517; pvalue = 0.0\n"
     ]
    }
   ],
   "source": [
    "degree_list = list(dict(hamster.degree()).values())\n",
    "betweeness = nx.betweenness_centrality(hamster)\n",
    "correlation, pvalue = pearsonr(degree_list, list(betweeness.values()))\n",
    "print(f'Pearson Corr = {correlation}; pvalue = {pvalue}')"
   ]
  },
  {
   "cell_type": "markdown",
   "metadata": {},
   "source": [
    "**Question 3**: Spearman correlation between Closeness and k-Core in Jazz Network"
   ]
  },
  {
   "cell_type": "code",
   "execution_count": 34,
   "metadata": {},
   "outputs": [],
   "source": [
    "jazz_raw = nx.read_edgelist('data/jazz.txt')\n",
    "jazz_raw.remove_edges_from(nx.selfloop_edges(jazz_raw))\n",
    "jazz_raw = jazz_raw.to_undirected()\n",
    "components_list = sorted(nx.connected_components(jazz_raw), key=len, reverse=True)\n",
    "jazz = jazz_raw.subgraph(components_list[0])"
   ]
  },
  {
   "cell_type": "code",
   "execution_count": 44,
   "metadata": {},
   "outputs": [
    {
     "name": "stdout",
     "output_type": "stream",
     "text": [
      "Spearman Corr = 0.7353399833516918; pvalue = 5.889403279320568e-35\n"
     ]
    }
   ],
   "source": [
    "closeness = list(nx.closeness_centrality(jazz).values())\n",
    "kcore = list(dict(nx.core_number(jazz)).values())\n",
    "correlation, pvalue = spearmanr(closeness, kcore)\n",
    "print(f'Spearman Corr = {correlation}; pvalue = {pvalue}')"
   ]
  },
  {
   "cell_type": "code",
   "execution_count": null,
   "metadata": {},
   "outputs": [],
   "source": []
  }
 ],
 "metadata": {
  "kernelspec": {
   "display_name": "venv",
   "language": "python",
   "name": "python3"
  },
  "language_info": {
   "codemirror_mode": {
    "name": "ipython",
    "version": 3
   },
   "file_extension": ".py",
   "mimetype": "text/x-python",
   "name": "python",
   "nbconvert_exporter": "python",
   "pygments_lexer": "ipython3",
   "version": "3.13.2"
  }
 },
 "nbformat": 4,
 "nbformat_minor": 2
}
