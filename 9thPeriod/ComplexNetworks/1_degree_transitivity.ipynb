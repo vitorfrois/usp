{
 "cells": [
  {
   "cell_type": "markdown",
   "metadata": {},
   "source": [
    "# Network Characterization\n",
    "- Vítor Amorim Fróis"
   ]
  },
  {
   "cell_type": "code",
   "execution_count": 2,
   "metadata": {},
   "outputs": [],
   "source": [
    "import math\n",
    "import numpy as np\n",
    "import matplotlib.pyplot as plt\n",
    "import networkx as nx"
   ]
  },
  {
   "cell_type": "markdown",
   "metadata": {},
   "source": [
    "## Connectivity"
   ]
  },
  {
   "cell_type": "code",
   "execution_count": 3,
   "metadata": {},
   "outputs": [],
   "source": [
    "get_degree_list = lambda G: np.array(list(dict(G.degree()).values()))"
   ]
  },
  {
   "cell_type": "markdown",
   "metadata": {},
   "source": [
    "### Compute degree moments"
   ]
  },
  {
   "cell_type": "code",
   "execution_count": 4,
   "metadata": {},
   "outputs": [],
   "source": [
    "get_moment = lambda G, m: np.mean([G.degree(i)**m for i in G.nodes])"
   ]
  },
  {
   "cell_type": "markdown",
   "metadata": {},
   "source": [
    "### Computing Degree Distribution"
   ]
  },
  {
   "cell_type": "code",
   "execution_count": 7,
   "metadata": {},
   "outputs": [],
   "source": [
    "def get_degree_distribution(degree_list):\n",
    "    hist, bins = np.histogram(\n",
    "        degree_list, \n",
    "        bins=max(degree_list) - 1,\n",
    "        density=True\n",
    "    )\n",
    "    return dict(zip(bins[:-1], hist))"
   ]
  },
  {
   "cell_type": "markdown",
   "metadata": {},
   "source": [
    "### Shannon Entropy"
   ]
  },
  {
   "cell_type": "code",
   "execution_count": 9,
   "metadata": {},
   "outputs": [],
   "source": [
    "get_shannon_entropy = lambda x: np.sum([-x[k]*math.log(x[k], 2) if x[k] > 0 else 0 for k in x])"
   ]
  },
  {
   "cell_type": "markdown",
   "metadata": {},
   "source": [
    "### Complexity "
   ]
  },
  {
   "cell_type": "code",
   "execution_count": 10,
   "metadata": {},
   "outputs": [],
   "source": [
    "get_complexity = lambda G: get_moment(G, 2) / get_moment(G, 1)"
   ]
  },
  {
   "cell_type": "markdown",
   "metadata": {},
   "source": [
    "## Questions"
   ]
  },
  {
   "cell_type": "markdown",
   "metadata": {},
   "source": [
    "**Question 1**: Moments 3 and 4 for Les Miserables graph"
   ]
  },
  {
   "cell_type": "code",
   "execution_count": 189,
   "metadata": {},
   "outputs": [
    {
     "name": "stdout",
     "output_type": "stream",
     "text": [
      "E[degree^3] = 1408.025974025974\n",
      "E[degree^4] = 33592.72727272727\n"
     ]
    }
   ],
   "source": [
    "lesmis = nx.read_gml(\"data/lesmis.gml\")\n",
    "print(f\"E[degree^3] = {get_moment(lesmis, 3)}\")\n",
    "print(f\"E[degree^4] = {get_moment(lesmis, 4)}\")"
   ]
  },
  {
   "cell_type": "markdown",
   "metadata": {},
   "source": [
    "**Question 2:** Complexity for Powergrid graph"
   ]
  },
  {
   "cell_type": "code",
   "execution_count": 190,
   "metadata": {},
   "outputs": [
    {
     "name": "stdout",
     "output_type": "stream",
     "text": [
      "Complexity = 3.8712465878070974\n"
     ]
    }
   ],
   "source": [
    "powergrid = nx.read_edgelist(\"data/powergrid.txt\")\n",
    "print(f\"Complexity = {get_complexity(powergrid)}\")"
   ]
  },
  {
   "cell_type": "markdown",
   "metadata": {},
   "source": [
    "**Question 3:** Shannon Entropy for Euroroad graph"
   ]
  },
  {
   "cell_type": "code",
   "execution_count": 11,
   "metadata": {},
   "outputs": [
    {
     "name": "stdout",
     "output_type": "stream",
     "text": [
      "Shannon Entropy = 2.003310387452775\n"
     ]
    }
   ],
   "source": [
    "euroroad = nx.read_edgelist(\"data/euroroad.txt\")\n",
    "euroroad_degree_list = get_degree_list(euroroad)\n",
    "euroroad_degree_distribution = get_degree_distribution(euroroad_degree_list)\n",
    "print(f\"Shannon Entropy = {get_shannon_entropy(euroroad_degree_distribution)}\")"
   ]
  },
  {
   "cell_type": "markdown",
   "metadata": {},
   "source": [
    "**Question 4**: Transitivity and Clustering for USAirport graph"
   ]
  },
  {
   "cell_type": "code",
   "execution_count": 192,
   "metadata": {},
   "outputs": [
    {
     "name": "stdout",
     "output_type": "stream",
     "text": [
      "Transitivity = 0.38414344664491556\n",
      "Average Clustering = 0.504152539209577\n"
     ]
    }
   ],
   "source": [
    "usairport = nx.read_weighted_edgelist(\"data/usairport.txt\")\n",
    "transitivity = nx.transitivity(usairport)\n",
    "print(f\"Transitivity = {transitivity}\")\n",
    "average_clustering = nx.average_clustering(usairport)\n",
    "print(f\"Average Clustering = {average_clustering}\")"
   ]
  },
  {
   "cell_type": "markdown",
   "metadata": {},
   "source": [
    "**Question 5:** Complexity and Shannon Entropy for USAirport graph"
   ]
  },
  {
   "cell_type": "code",
   "execution_count": 193,
   "metadata": {},
   "outputs": [
    {
     "name": "stdout",
     "output_type": "stream",
     "text": [
      "Shannon Entropy = 4.9859776465392365\n",
      "Complexity = 112.22224803950043\n"
     ]
    }
   ],
   "source": [
    "usairport_degree_list = get_degree_list(usairport)\n",
    "usairport_degree_distribution = get_degree_distribution(usairport_degree_list)\n",
    "print(f\"Shannon Entropy = {get_shannon_entropy(usairport_degree_distribution)}\")\n",
    "print(f\"Complexity = {get_complexity(usairport)}\")"
   ]
  }
 ],
 "metadata": {
  "kernelspec": {
   "display_name": "venv",
   "language": "python",
   "name": "python3"
  },
  "language_info": {
   "codemirror_mode": {
    "name": "ipython",
    "version": 3
   },
   "file_extension": ".py",
   "mimetype": "text/x-python",
   "name": "python",
   "nbconvert_exporter": "python",
   "pygments_lexer": "ipython3",
   "version": "3.13.2"
  }
 },
 "nbformat": 4,
 "nbformat_minor": 2
}
