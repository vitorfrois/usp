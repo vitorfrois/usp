{
 "cells": [
  {
   "cell_type": "markdown",
   "metadata": {},
   "source": [
    "# Community Detection\n",
    "- Vítor Amorim Fróis"
   ]
  },
  {
   "cell_type": "code",
   "execution_count": 1,
   "metadata": {},
   "outputs": [],
   "source": [
    "import networkx as nx\n",
    "import numpy as np"
   ]
  },
  {
   "cell_type": "markdown",
   "metadata": {},
   "source": [
    "### Biggest Component"
   ]
  },
  {
   "cell_type": "code",
   "execution_count": 13,
   "metadata": {},
   "outputs": [],
   "source": [
    "def read_graph(edgelist_file: str, undirected: bool = True, remove_selfloops: bool = True, get_biggest_component: bool = True, reset_index: bool = True) -> nx.Graph:\n",
    "    graph = nx.read_weighted_edgelist(edgelist_file)\n",
    "    if undirected:\n",
    "        graph = graph.to_undirected()\n",
    "    if remove_selfloops:\n",
    "        graph.remove_edges_from(nx.selfloop_edges(graph))\n",
    "    if get_biggest_component:\n",
    "        components_list = sorted(nx.connected_components(graph), key=len, reverse=True)\n",
    "        graph = graph.subgraph(components_list[0])\n",
    "    if reset_index:\n",
    "        graph = nx.convert_node_labels_to_integers(graph, first_label=0)\n",
    "    return graph"
   ]
  },
  {
   "cell_type": "markdown",
   "metadata": {},
   "source": [
    "**Question 1**: Compute Jazz modularity using fast greedy"
   ]
  },
  {
   "cell_type": "code",
   "execution_count": 14,
   "metadata": {},
   "outputs": [],
   "source": [
    "jazz = read_graph('data/jazz.txt')"
   ]
  },
  {
   "cell_type": "code",
   "execution_count": 17,
   "metadata": {},
   "outputs": [
    {
     "data": {
      "text/plain": [
       "0.4389078153753828"
      ]
     },
     "execution_count": 17,
     "metadata": {},
     "output_type": "execute_result"
    }
   ],
   "source": [
    "communities = nx.community.greedy_modularity_communities(jazz)\n",
    "nx.community.modularity(jazz, communities)"
   ]
  },
  {
   "cell_type": "markdown",
   "metadata": {},
   "source": [
    "**Question 2**: Compute Jazz modularity using Louvain"
   ]
  },
  {
   "cell_type": "code",
   "execution_count": 18,
   "metadata": {},
   "outputs": [
    {
     "data": {
      "text/plain": [
       "0.445026802990571"
      ]
     },
     "execution_count": 18,
     "metadata": {},
     "output_type": "execute_result"
    }
   ],
   "source": [
    "communities = nx.community.louvain_communities(jazz)\n",
    "nx.community.modularity(jazz, communities)"
   ]
  },
  {
   "cell_type": "markdown",
   "metadata": {},
   "source": [
    "**Question 3**: Considering LFR Graphs and Louvain, find modularity for different values of $\\mu$"
   ]
  },
  {
   "cell_type": "code",
   "execution_count": 21,
   "metadata": {},
   "outputs": [
    {
     "name": "stdout",
     "output_type": "stream",
     "text": [
      "Modularity (mu=0.05) = 0.6507990505232746\n",
      "Modularity (mu=0.1) = 0.549582070125871\n",
      "Modularity (mu=0.2) = 0.4503933907867816\n"
     ]
    }
   ],
   "source": [
    "for mu in [0.05, 0.1, 0.2]:\n",
    "    lfr_graph = nx.LFR_benchmark_graph(\n",
    "        n = 128, \n",
    "        tau1 = 3, \n",
    "        tau2 = 1.5, \n",
    "        mu = mu, \n",
    "        min_degree = 16, \n",
    "        max_degree = 16, \n",
    "        min_community = 32, \n",
    "        max_community = 32, \n",
    "        seed = 10\n",
    "    )\n",
    "    communities = nx.community.louvain_communities(lfr_graph)\n",
    "    modularity = nx.community.modularity(lfr_graph, communities)\n",
    "    print(fr'Modularity (mu={mu}) = {modularity}')"
   ]
  },
  {
   "cell_type": "markdown",
   "metadata": {},
   "source": [
    "**Question 4**: Considering LFR Graphs and Fast Greedy, find modularity for different values of $\\mu$"
   ]
  },
  {
   "cell_type": "code",
   "execution_count": 22,
   "metadata": {},
   "outputs": [
    {
     "name": "stdout",
     "output_type": "stream",
     "text": [
      "Modularity (mu=0.05) = 0.6507990505232746\n",
      "Modularity (mu=0.2) = 0.44042997085994173\n",
      "Modularity (mu=0.4) = 0.16430859354437072\n"
     ]
    }
   ],
   "source": [
    "for mu in [0.05, 0.2, 0.4]:\n",
    "    lfr_graph = nx.LFR_benchmark_graph(\n",
    "        n = 128, \n",
    "        tau1 = 3, \n",
    "        tau2 = 1.5, \n",
    "        mu = mu, \n",
    "        min_degree = 16, \n",
    "        max_degree = 16, \n",
    "        min_community = 32, \n",
    "        max_community = 32, \n",
    "        seed = 10\n",
    "    )\n",
    "    communities = nx.community.greedy_modularity_communities(lfr_graph)\n",
    "    modularity = nx.community.modularity(lfr_graph, communities)\n",
    "    print(fr'Modularity (mu={mu}) = {modularity}')"
   ]
  },
  {
   "cell_type": "code",
   "execution_count": null,
   "metadata": {},
   "outputs": [],
   "source": []
  }
 ],
 "metadata": {
  "kernelspec": {
   "display_name": "venv",
   "language": "python",
   "name": "python3"
  },
  "language_info": {
   "codemirror_mode": {
    "name": "ipython",
    "version": 3
   },
   "file_extension": ".py",
   "mimetype": "text/x-python",
   "name": "python",
   "nbconvert_exporter": "python",
   "pygments_lexer": "ipython3",
   "version": "3.13.2"
  }
 },
 "nbformat": 4,
 "nbformat_minor": 2
}
