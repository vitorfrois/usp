{
  "nbformat": 4,
  "nbformat_minor": 0,
  "metadata": {
    "colab": {
      "provenance": [],
      "collapsed_sections": [
        "PzNHro2c_BQF",
        "81GuqyNTEnl-",
        "TNnocWq2gieN",
        "FFKdtpY1lgdW",
        "3VC6T8OL1oFG"
      ],
      "include_colab_link": true
    },
    "kernelspec": {
      "name": "python3",
      "display_name": "Python 3"
    },
    "language_info": {
      "name": "python"
    }
  },
  "cells": [
    {
      "cell_type": "markdown",
      "metadata": {
        "id": "view-in-github",
        "colab_type": "text"
      },
      "source": [
        "<a href=\"https://colab.research.google.com/github/vitorfrois/usp/blob/main/intro_alg_codifique.ipynb\" target=\"_parent\"><img src=\"https://colab.research.google.com/assets/colab-badge.svg\" alt=\"Open In Colab\"/></a>"
      ]
    },
    {
      "cell_type": "markdown",
      "source": [
        "# O que são algoritmos\n"
      ],
      "metadata": {
        "id": "PzNHro2c_BQF"
      }
    },
    {
      "cell_type": "markdown",
      "source": [
        "Como vocês viram, essa aula será de introdução à algoritmos, mas o que são eles?\n",
        "- Eles são sequências de instruções **não ambíguas** que resolvem um problema em um intervalo de tempo finito."
      ],
      "metadata": {
        "id": "gA_kSfWE5vEm"
      }
    },
    {
      "cell_type": "markdown",
      "source": [
        "\"Mas pra que algoritmos são importantes? Nunca nem tinha ouvido falar neles...\""
      ],
      "metadata": {
        "id": "Zl4oBKzyBPiu"
      }
    },
    {
      "cell_type": "markdown",
      "source": [
        "Aqui estão alguns algoritmos que usamos no dia-a-dia:\n",
        "- Fazer avião de papel\n",
        "- Preparar um receita de bolo\n",
        "- Manual de instruções de uma televisão"
      ],
      "metadata": {
        "id": "KL--NebUBee0"
      }
    },
    {
      "cell_type": "markdown",
      "source": [
        "Sabemos que existem problemas simples e outros mais complexos, por isso que os algortimos para resolver cada um desses tipo também podem ter dificuldade maior ou menor."
      ],
      "metadata": {
        "id": "WiLaFaUqB1zU"
      }
    },
    {
      "cell_type": "markdown",
      "source": [
        "Por exemplo, o passo-a-passo (algoritmo) para criar um origami de barco é bem mais simples do que aquele que usamos para criar um origami de cavalo.\n",
        "- https://img.freepik.com/vetores-premium/instrucoes-passo-a-passo-do-origami-do-barco_116205-320.jpg?w=740\n",
        "- https://www.chine-culture.com/images/origami/terre-cheval.jpg"
      ],
      "metadata": {
        "id": "6fYRtJDRsLRG"
      }
    },
    {
      "cell_type": "markdown",
      "source": [
        "Nos computadores não seria diferente, a maioria do que se faz neles também segue na mesma linha de usar algoritmos."
      ],
      "metadata": {
        "id": "zAciAb-TC2dl"
      }
    },
    {
      "cell_type": "markdown",
      "source": [
        "Sabendo o que são algoritmos, podemos começar a aprender como classificá-los. Algumas formas de fazer isso é usando essas características:\n",
        "- Corretude: após fazer meu algoritmo, eu tenho o final planejado?\n",
        "- Eficiência: o meu algoritmo é o mais rápido possível ou existem melhores?"
      ],
      "metadata": {
        "id": "MrFdIB-RDN3U"
      }
    },
    {
      "cell_type": "markdown",
      "source": [
        "# Exercícios"
      ],
      "metadata": {
        "id": "t27AXEEYFbDk"
      }
    },
    {
      "cell_type": "markdown",
      "source": [
        "Agora que já entendemos o são algoritmos e formas de classificá-los, vamos praticar:"
      ],
      "metadata": {
        "id": "jh_HZPs45njm"
      }
    },
    {
      "cell_type": "markdown",
      "source": [
        "Exercício 1:\n",
        "- Faça um algoritmo de como você se arruma para ir à escola.\n",
        "- Classifique esse algoritmo quanto à corretude e eficiência."
      ],
      "metadata": {
        "id": "LpGW11Gz6PfX"
      }
    },
    {
      "cell_type": "markdown",
      "source": [
        "Exercício 2:"
      ],
      "metadata": {
        "id": "HYTabkJY6Uce"
      }
    },
    {
      "cell_type": "code",
      "source": [
        "def menu():\n",
        "    print(\"\\nDigite a sequência correta do algortimo para trocar uma lâmpada queimada:\\n\")\n",
        "    print(\"1 - Gire a lâmpada queimada no sentido anti-horário até que ela se solte\")\n",
        "    print(\"2 - Posicione a lâmpada nova no soquete\")\n",
        "    print(\"3 - Suba na escada até alcançar a lâmpada queimada\")\n",
        "    print(\"4 - Coloque uma escada embaixo da lâmpada queimada\")\n",
        "    print(\"5 - Gire a lâmpada no sentido horário, até que ela se firme\")\n",
        "    print(\"6 - Guarde a escada\")\n",
        "    print(\"7 - Desça da escada\")\n",
        "    print(\"\\n-------------------------------------------------------------------------\\n\")\n",
        "\n",
        "lista = [4, 3, 1, 2, 5, 7, 6]\n",
        "\n",
        "menu()\n",
        "\n",
        "it = 0\n",
        "\n",
        "for i in lista:\n",
        "  n = int(input())\n",
        "  if n == i:\n",
        "    it += 1\n",
        "    pass\n",
        "  else:\n",
        "    print(\"\\nSequência errada! :(\\n\")\n",
        "    break\n",
        "\n",
        "if it == 7:\n",
        "  print(\"\\nSequência correta! :)\\n\")"
      ],
      "metadata": {
        "id": "Z78HsYOZ6KCO",
        "colab": {
          "base_uri": "https://localhost:8080/"
        },
        "outputId": "a84799da-4419-4f6f-bf10-2eaee6a9581a"
      },
      "execution_count": null,
      "outputs": [
        {
          "output_type": "stream",
          "name": "stdout",
          "text": [
            "\n",
            "Digite a sequência correta do algortimo para trocar uma lâmpada queimada:\n",
            "\n",
            "1 - Gire a lâmpada queimada no sentido anti-horário até que ela se solte\n",
            "2 - Posicione a lâmpada nova no soquete\n",
            "3 - Suba na escada até alcançar a lâmpada queimada\n",
            "4 - Coloque uma escada embaixo da lâmpada queimada\n",
            "5 - Gire a lâmpada no sentido horário, até que ela se firme\n",
            "6 - Guarde a escada\n",
            "7 - Desça da escada\n",
            "\n",
            "-------------------------------------------------------------------------\n",
            "\n",
            "5\n",
            "\n",
            "Sequência errada! :(\n",
            "\n"
          ]
        }
      ]
    },
    {
      "cell_type": "markdown",
      "source": [
        "# História do computador"
      ],
      "metadata": {
        "id": "81GuqyNTEnl-"
      }
    },
    {
      "cell_type": "markdown",
      "source": [
        "A humanidade sempre teve interesse em fazer contas, seja para saber quantos bois tinham no pasto ou para saber se alguém tinha se perdido do grupo numa caminhada pela floresta."
      ],
      "metadata": {
        "id": "7beA6F9VGLms"
      }
    },
    {
      "cell_type": "markdown",
      "source": [
        "Conforme fomos nos desenvolvemos, nossos cálculos foram ficando mais complexos e não conseguiam mais ser feitos usando um saco de pedrinhas ou gravetos. Agora, começamos a construir máquinas."
      ],
      "metadata": {
        "id": "oGyfnrUYGdxE"
      }
    },
    {
      "cell_type": "markdown",
      "source": [
        "- Ábaco: praticamente uma extensão do contar nos dedos, ele serve mais para armazenar resultados enquanto a pessoa faz as contas de cabeça.\n",
        "https://pt.wikipedia.org/wiki/%C3%81baco"
      ],
      "metadata": {
        "id": "cayth_hiGxJk"
      }
    },
    {
      "cell_type": "markdown",
      "source": [
        "- Tear de Jacquard: usado no ramo da tecelagem, recebia um cartão perfurado e executava sozinho o que eles \"mandavam\", sem precisar de tanto trabalho manual como antes. https://www.stylourbano.com.br/o-tear-jacquard-nao-so-revolucionou-a-industria-textil-mas-foi-o-primeiro-computador-do-mundo/"
      ],
      "metadata": {
        "id": "sVwxw--iH250"
      }
    },
    {
      "cell_type": "markdown",
      "source": [
        "Depois desses, vieram modelos cada vez mais complexos de máquinas que serviam ou para automatizar tarefas ou realizar contas em velocidades fantásticas. E, assim, se deu a evolução dos computadores."
      ],
      "metadata": {
        "id": "CR5AWkF5I4bF"
      }
    },
    {
      "cell_type": "markdown",
      "source": [
        "Com isso, podemos perceber que a função PRINCIPAL de um computador é o de fazer contas, já que tudo o que ele consegue fazer (ex: mostrar imagens, entrar na internet, etc) é devido à realização de cálculos."
      ],
      "metadata": {
        "id": "zTKverWIoDEt"
      }
    },
    {
      "cell_type": "markdown",
      "source": [
        "# Estrutura do computador"
      ],
      "metadata": {
        "id": "TNnocWq2gieN"
      }
    },
    {
      "cell_type": "markdown",
      "source": [
        "Podemos dividir o computador em 2 grandes partes:\n",
        "- Hardware: é a parte física do computador, ou seja, tudo que se pode tocar nele, como as memórias, a placa de vídeo, os processadores, etc.\n",
        "- Software: é um conjunto de instruções que devem ser executadas por um computador, ele engloba os programas, apps, sites, etc."
      ],
      "metadata": {
        "id": "SKO67FsghG1e"
      }
    },
    {
      "cell_type": "markdown",
      "source": [
        "# Linguagens de programação"
      ],
      "metadata": {
        "id": "FFKdtpY1lgdW"
      }
    },
    {
      "cell_type": "markdown",
      "source": [
        "Agora que sabemos das estruturas de um computador, podemos ver o que são as linguagens de programação e como se classificam."
      ],
      "metadata": {
        "id": "j0X-EIH15_k-"
      }
    },
    {
      "cell_type": "markdown",
      "source": [
        "Enquanto mexemos num computador, existem 2 lados dessa interação, o da pessoa e o da máquina. A pessoa possui um linguagem própria, podendo ela ser o português, inglês ou tantas outras. Já o computador não possui língua própria, a única coisa que ele sabe diferenciar é a presença ou não de energia (corrente elétrica). Então, para facilitar a comunicação entre nós, humanos, e os computadores, foram criadas as linguagens de programação. Elas podem ser classificadas quanto ao seu nível, mas o que significa isso?\n",
        "- Alto nível: quanto de mais alto nível uma linguagem é, mais ela se parece com algum idioma humano.\n",
        "- Baixo nível: quanto menor o nível de uma linguagem, mais próxima ela está do computador, ou seja, de interpretar presença de energia."
      ],
      "metadata": {
        "id": "KI1qxYztl4yV"
      }
    },
    {
      "cell_type": "markdown",
      "source": [
        "Nesse curso, usaremos a linguagem de programação Python, que é de **alto nível**."
      ],
      "metadata": {
        "id": "8KvW7KqlnVAV"
      }
    },
    {
      "cell_type": "markdown",
      "source": [
        "# Kahoot\n"
      ],
      "metadata": {
        "id": "3VC6T8OL1oFG"
      }
    },
    {
      "cell_type": "markdown",
      "source": [
        "https://docdro.id/3FhVXfA"
      ],
      "metadata": {
        "id": "43wQOaDM6ch9"
      }
    }
  ]
}