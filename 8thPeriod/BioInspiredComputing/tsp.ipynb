{
 "cells": [
  {
   "cell_type": "markdown",
   "metadata": {},
   "source": [
    "# TSP w/ Genetic Algorithms\n",
    "### Vítor Amorim Fróis - 12543440"
   ]
  },
  {
   "cell_type": "markdown",
   "metadata": {},
   "source": [
    "### Imports e definições"
   ]
  },
  {
   "cell_type": "code",
   "execution_count": 15,
   "metadata": {},
   "outputs": [],
   "source": [
    "import numpy as np\n",
    "import random"
   ]
  },
  {
   "cell_type": "markdown",
   "metadata": {},
   "source": [
    "Geração de matriz simétrica com diagonal 0 de tamanho 6"
   ]
  },
  {
   "cell_type": "code",
   "execution_count": 16,
   "metadata": {},
   "outputs": [
    {
     "data": {
      "text/plain": [
       "array([[  0, 113, 148, 101, 111,  22],\n",
       "       [113,   0, 159, 151,  65,  31],\n",
       "       [148, 159,   0,  54,  85,  41],\n",
       "       [101, 151,  54,   0, 117,  40],\n",
       "       [111,  65,  85, 117,   0,  67],\n",
       "       [ 22,  31,  41,  40,  67,   0]])"
      ]
     },
     "execution_count": 16,
     "metadata": {},
     "output_type": "execute_result"
    }
   ],
   "source": [
    "n = 6\n",
    "\n",
    "distances = np.random.randint(0, 100, size=(n, n))\n",
    "distances = (distances + distances.T)\n",
    "np.fill_diagonal(distances, 0)\n",
    "distances"
   ]
  },
  {
   "cell_type": "markdown",
   "metadata": {},
   "source": [
    "### Funções auxiliares"
   ]
  },
  {
   "cell_type": "code",
   "execution_count": 17,
   "metadata": {},
   "outputs": [],
   "source": [
    "def generate_random_agents(num_agents: int = 10):\n",
    "    base_agent = np.arange(1, n)\n",
    "    agent_list = []\n",
    "\n",
    "    for i in range(num_agents):\n",
    "        np.random.shuffle(base_agent)\n",
    "        agent_list.append(base_agent.copy())\n",
    "\n",
    "    agent_list = np.array(agent_list)\n",
    "    return agent_list"
   ]
  },
  {
   "cell_type": "code",
   "execution_count": 18,
   "metadata": {},
   "outputs": [],
   "source": [
    "def get_sorted_index(l):\n",
    "    return sorted(np.arange(len(l)), key=lambda a: l[a], reverse=False)"
   ]
  },
  {
   "cell_type": "code",
   "execution_count": 19,
   "metadata": {},
   "outputs": [],
   "source": [
    "def get_fitness(agent) -> int:\n",
    "    fitness = 0\n",
    "    agent = np.append(agent, 0)\n",
    "    agent = np.insert(agent, 0, 0)\n",
    "    for k in range(n):\n",
    "        i = agent[k]\n",
    "        j = agent[k+1]\n",
    "        fitness += distances[i][j]\n",
    "\n",
    "    return fitness\n",
    "\n",
    "def get_fitness_list(agent_list) -> list:\n",
    "    agent_list = agent_list.copy()\n",
    "    return [get_fitness(agent) for agent in agent_list]"
   ]
  },
  {
   "cell_type": "code",
   "execution_count": 20,
   "metadata": {},
   "outputs": [],
   "source": [
    "def get_mutation(agent_list, rate: float = 1.0) -> list:\n",
    "    mutation_list = []\n",
    "    for agent in agent_list:\n",
    "        if random.random() < rate:\n",
    "            i = random.randint(0, n-2)\n",
    "            j = 0\n",
    "            while i == j:\n",
    "                j = random.randint(0, n-2)\n",
    "            agent[i], agent[j] = agent[j], agent[i]\n",
    "            mutation_list.append(agent)\n",
    "    return mutation_list"
   ]
  },
  {
   "cell_type": "markdown",
   "metadata": {},
   "source": [
    "### Iteração do método"
   ]
  },
  {
   "cell_type": "code",
   "execution_count": 26,
   "metadata": {},
   "outputs": [
    {
     "name": "stdout",
     "output_type": "stream",
     "text": [
      "Best agent: [4 2 3 1 5], w/ 358\n"
     ]
    }
   ],
   "source": [
    "n_iterations = 30\n",
    "\n",
    "agent_list = generate_random_agents(50)\n",
    "\n",
    "for iteration in range(n_iterations):\n",
    "    new_agents = []\n",
    "\n",
    "    fitness_list = get_fitness_list(agent_list)\n",
    "    sorted_index = get_sorted_index(fitness_list)\n",
    "    ordered_agents = [agent_list[i] for i in sorted_index]\n",
    "\n",
    "    # Elitism: select best agents\n",
    "    for i in range(1):\n",
    "        new_agents.append(ordered_agents[i])\n",
    "\n",
    "    # Selection & Mutation: mutate all remaining agents\n",
    "    mutation = get_mutation(ordered_agents[:-2])\n",
    "    for agent in mutation:\n",
    "        new_agents.append(agent)\n",
    "    # Select totally random agent\n",
    "    new_agents.append(generate_random_agents(1)[0])\n",
    "\n",
    "    agent_list = new_agents.copy()\n",
    "\n",
    "print(f\"Best agent: {agent_list[0]}, w/ {fitness_list[sorted_index[0]]}\")"
   ]
  },
  {
   "cell_type": "markdown",
   "metadata": {},
   "source": [
    "### Conclusão\n",
    "O algoritmo é facilmente implementado e pode resolver o problema do TSP como mostrado acima. Ainda que não seja tão efetivo, as gerações podem obter melhorias para uma convergência mais rápida"
   ]
  },
  {
   "cell_type": "markdown",
   "metadata": {},
   "source": []
  }
 ],
 "metadata": {
  "kernelspec": {
   "display_name": "venv",
   "language": "python",
   "name": "python3"
  },
  "language_info": {
   "codemirror_mode": {
    "name": "ipython",
    "version": 3
   },
   "file_extension": ".py",
   "mimetype": "text/x-python",
   "name": "python",
   "nbconvert_exporter": "python",
   "pygments_lexer": "ipython3",
   "version": "3.12.4"
  }
 },
 "nbformat": 4,
 "nbformat_minor": 2
}
