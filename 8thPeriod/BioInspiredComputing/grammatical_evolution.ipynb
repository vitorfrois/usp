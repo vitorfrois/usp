{
 "cells": [
  {
   "cell_type": "markdown",
   "metadata": {},
   "source": [
    "# Grammatical Evolution using GRAPE\n",
    "\n",
    "Vítor Amorim Fróis - 12543440\n",
    "\n",
    "### Grape \n",
    "Is an open source Github project. For using it here, I cloned the repo and turned into a package: https://github.com/vitorfrois/grape/tree/packaging. You can install it on a virtual env using \n",
    "\n",
    "```\n",
    "pip install --upgrade https://github.com/vitorfrois/grape/tarball/packaging/\n",
    "```"
   ]
  },
  {
   "cell_type": "markdown",
   "metadata": {},
   "source": [
    "### Imports"
   ]
  },
  {
   "cell_type": "code",
   "execution_count": 9,
   "metadata": {},
   "outputs": [],
   "source": [
    "from grape import algorithms, grape\n",
    "from grape.functions import *\n",
    "\n",
    "import textwrap\n",
    "import random\n",
    "\n",
    "import pandas as pd\n",
    "import numpy as np\n",
    "from deap import creator, base, tools\n",
    "from sklearn.datasets import load_diabetes\n",
    "from sklearn.model_selection import train_test_split\n",
    "from sklearn.metrics import r2_score\n",
    "\n",
    "import warnings\n",
    "warnings.filterwarnings(\"ignore\")\n",
    "\n",
    "np.random.seed(0)"
   ]
  },
  {
   "cell_type": "markdown",
   "metadata": {},
   "source": [
    "### Dataset"
   ]
  },
  {
   "cell_type": "code",
   "execution_count": 10,
   "metadata": {},
   "outputs": [],
   "source": [
    "dataset = load_diabetes()\n",
    "X_train, X_test, y_train, y_test = train_test_split(dataset.data, dataset.target)"
   ]
  },
  {
   "cell_type": "markdown",
   "metadata": {},
   "source": [
    "### Fitness Evaluation"
   ]
  },
  {
   "cell_type": "code",
   "execution_count": 61,
   "metadata": {},
   "outputs": [],
   "source": [
    "def fitness_eval(individual, points):\n",
    "    #points = [X, Y]\n",
    "    x = points[0]\n",
    "    y = points[1]\n",
    "    \n",
    "    if individual.invalid == True:\n",
    "        return np.nan,\n",
    "\n",
    "    try:\n",
    "        pred = eval(individual.phenotype)\n",
    "    except (FloatingPointError, ZeroDivisionError, OverflowError,\n",
    "            MemoryError, ValueError):\n",
    "        return np.nan,\n",
    "    except Exception as err:\n",
    "            # Other errors should not usually happen (unless we have\n",
    "            # an unprotected operator) so user would prefer to see them.\n",
    "            print(\"evaluation error\", err)\n",
    "            raise\n",
    "    assert np.isrealobj(pred)\n",
    "    \n",
    "    try:\n",
    "        # fitness = np.mean(np.square(y - pred))\n",
    "        fitness = r2_score(y, pred)\n",
    "    except (FloatingPointError, ZeroDivisionError, OverflowError,\n",
    "            MemoryError, ValueError):\n",
    "        fitness = np.nan\n",
    "    except Exception as err:\n",
    "            # Other errors should not usually happen (unless we have\n",
    "            # an unprotected operator) so user would prefer to see them.\n",
    "            print(\"fitness error\", err)\n",
    "            raise\n",
    "        \n",
    "    if fitness == float(\"inf\"):\n",
    "        return np.nan,\n",
    "    \n",
    "    return fitness,\n"
   ]
  },
  {
   "cell_type": "markdown",
   "metadata": {},
   "source": [
    "### BNF Grammar"
   ]
  },
  {
   "cell_type": "code",
   "execution_count": 62,
   "metadata": {},
   "outputs": [],
   "source": [
    "BNF_GRAMMAR = grape.Grammar(\"grammar.bnf\")"
   ]
  },
  {
   "cell_type": "markdown",
   "metadata": {},
   "source": [
    "### Config"
   ]
  },
  {
   "cell_type": "code",
   "execution_count": 150,
   "metadata": {},
   "outputs": [],
   "source": [
    "toolbox = base.Toolbox()\n",
    "\n",
    "# define a single objective, minimising fitness strategy:\n",
    "creator.create(\"FitnessMin\", base.Fitness, weights=(1.0,))\n",
    "\n",
    "creator.create('Individual', grape.Individual, fitness=creator.FitnessMin)\n",
    "\n",
    "toolbox.register(\"populationCreator\", grape.sensible_initialisation, creator.Individual)\n",
    "\n",
    "toolbox.register(\"evaluate\", fitness_eval)\n",
    "\n",
    "# Tournament selection:\n",
    "toolbox.register(\"select\", tools.selTournament, tournsize=3)\n",
    "\n",
    "# Single-point crossover:\n",
    "toolbox.register(\"mate\", grape.crossover_onepoint)\n",
    "\n",
    "# Flip-int mutation:\n",
    "toolbox.register(\"mutate\", grape.mutation_int_flip_per_codon)\n",
    "    \n",
    "POPULATION_SIZE = 100\n",
    "MAX_INIT_TREE_DEPTH = 20\n",
    "MIN_INIT_TREE_DEPTH = 25\n",
    "\n",
    "MAX_GENERATIONS = 100\n",
    "P_CROSSOVER = 0.5\n",
    "P_MUTATION = 0.01\n",
    "ELITE_SIZE = 1\n",
    "HALLOFFAME_SIZE = 4\n",
    "\n",
    "random_initilisation = False #put True if you use random initialisation\n",
    "\n",
    "CODON_CONSUMPTION = 'lazy'\n",
    "GENOME_REPRESENTATION = 'list'\n",
    "MAX_GENOME_LENGTH = None#'auto'\n",
    "\n",
    "MAX_TREE_DEPTH = 40 #equivalent to 17 in GP with this grammar\n",
    "MAX_WRAPS = 0\n",
    "CODON_SIZE = 255\n",
    "\n",
    "\n",
    "REPORT_ITEMS = [\n",
    "    'gen', 'invalid', 'avg', 'std', 'min', 'max', \n",
    "    'fitness_test',\n",
    "    'best_ind_length', 'avg_length', \n",
    "    'best_ind_nodes', 'avg_nodes', \n",
    "    'best_ind_depth', 'avg_depth', \n",
    "    'avg_used_codons', 'best_ind_used_codons', \n",
    "    'structural_diversity',\n",
    "    'selection_time', 'generation_time'\n",
    "]"
   ]
  },
  {
   "cell_type": "markdown",
   "metadata": {},
   "source": [
    "### Initialize population"
   ]
  },
  {
   "cell_type": "code",
   "execution_count": 151,
   "metadata": {},
   "outputs": [],
   "source": [
    "population = toolbox.populationCreator(\n",
    "    pop_size=POPULATION_SIZE,\n",
    "    bnf_grammar=BNF_GRAMMAR,\n",
    "    min_init_depth=MIN_INIT_TREE_DEPTH,\n",
    "    max_init_depth=MAX_INIT_TREE_DEPTH,\n",
    "    codon_size=CODON_SIZE,\n",
    "    codon_consumption=CODON_CONSUMPTION,\n",
    "    genome_representation=GENOME_REPRESENTATION\n",
    ")"
   ]
  },
  {
   "cell_type": "code",
   "execution_count": 152,
   "metadata": {},
   "outputs": [
    {
     "name": "stdout",
     "output_type": "stream",
     "text": [
      "gen = 0 , Best fitness = (-3.686046943896157,)\n",
      "gen = 1 , Best fitness = (-3.62663708604651,) , Number of invalids = 0\n",
      "gen = 2 , Best fitness = (-3.62663708604651,) , Number of invalids = 0\n",
      "gen = 3 , Best fitness = (-2.7133481751652107,) , Number of invalids = 0\n",
      "gen = 4 , Best fitness = (-0.7180304462053289,) , Number of invalids = 0\n",
      "gen = 5 , Best fitness = (-0.04707112632929289,) , Number of invalids = 0\n",
      "gen = 6 , Best fitness = (-0.04707112632929289,) , Number of invalids = 0\n",
      "gen = 7 , Best fitness = (-0.04707112632929289,) , Number of invalids = 0\n",
      "gen = 8 , Best fitness = (-0.04707112632929289,) , Number of invalids = 0\n",
      "gen = 9 , Best fitness = (-0.04704042631984984,) , Number of invalids = 0\n",
      "gen = 10 , Best fitness = (-0.04581271054919944,) , Number of invalids = 0\n",
      "gen = 11 , Best fitness = (-0.04581247348554651,) , Number of invalids = 0\n",
      "gen = 12 , Best fitness = (-0.04580964343112548,) , Number of invalids = 0\n",
      "gen = 13 , Best fitness = (-0.015974667252808494,) , Number of invalids = 0\n",
      "gen = 14 , Best fitness = (-0.015974652280897672,) , Number of invalids = 0\n",
      "gen = 15 , Best fitness = (-0.015974652280897672,) , Number of invalids = 0\n",
      "gen = 16 , Best fitness = (-0.005662402059477989,) , Number of invalids = 0\n",
      "gen = 17 , Best fitness = (-0.005662402059477989,) , Number of invalids = 0\n",
      "gen = 18 , Best fitness = (0.010939642005198147,) , Number of invalids = 0\n",
      "gen = 19 , Best fitness = (0.010939642005198147,) , Number of invalids = 0\n",
      "gen = 20 , Best fitness = (0.010939642005198147,) , Number of invalids = 0\n",
      "gen = 21 , Best fitness = (0.010939642005198147,) , Number of invalids = 0\n",
      "gen = 22 , Best fitness = (0.010939642005198147,) , Number of invalids = 0\n",
      "gen = 23 , Best fitness = (0.040483222924155404,) , Number of invalids = 0\n",
      "gen = 24 , Best fitness = (0.040483222924155404,) , Number of invalids = 0\n",
      "gen = 25 , Best fitness = (0.040483222924155404,) , Number of invalids = 0\n",
      "gen = 26 , Best fitness = (0.040483222924155404,) , Number of invalids = 0\n",
      "gen = 27 , Best fitness = (0.040483222924155404,) , Number of invalids = 0\n",
      "gen = 28 , Best fitness = (0.04254251663565123,) , Number of invalids = 0\n",
      "gen = 29 , Best fitness = (0.04532758646416457,) , Number of invalids = 0\n",
      "gen = 30 , Best fitness = (0.04684161221292393,) , Number of invalids = 0\n",
      "gen = 31 , Best fitness = (0.04684161221292393,) , Number of invalids = 0\n",
      "gen = 32 , Best fitness = (0.04684161221292393,) , Number of invalids = 0\n",
      "gen = 33 , Best fitness = (0.056938491491728915,) , Number of invalids = 0\n",
      "gen = 34 , Best fitness = (0.056938491491728915,) , Number of invalids = 0\n",
      "gen = 35 , Best fitness = (0.05752021430798526,) , Number of invalids = 0\n",
      "gen = 36 , Best fitness = (0.05752021430798526,) , Number of invalids = 0\n",
      "gen = 37 , Best fitness = (0.05752021430798526,) , Number of invalids = 0\n",
      "gen = 38 , Best fitness = (0.057545821198141,) , Number of invalids = 0\n",
      "gen = 39 , Best fitness = (0.057545821198141,) , Number of invalids = 0\n",
      "gen = 40 , Best fitness = (0.0697755543798676,) , Number of invalids = 0\n",
      "gen = 41 , Best fitness = (0.0697755543798676,) , Number of invalids = 0\n",
      "gen = 42 , Best fitness = (0.07031191678761639,) , Number of invalids = 0\n",
      "gen = 43 , Best fitness = (0.07031191678761639,) , Number of invalids = 0\n",
      "gen = 44 , Best fitness = (0.07031191678761639,) , Number of invalids = 0\n",
      "gen = 45 , Best fitness = (0.07031191678761639,) , Number of invalids = 0\n",
      "gen = 46 , Best fitness = (0.08673113757515505,) , Number of invalids = 0\n",
      "gen = 47 , Best fitness = (0.19198387271218698,) , Number of invalids = 0\n",
      "gen = 48 , Best fitness = (0.19198556260096877,) , Number of invalids = 0\n",
      "gen = 49 , Best fitness = (0.19248806337053215,) , Number of invalids = 0\n",
      "gen = 50 , Best fitness = (0.19248806337053215,) , Number of invalids = 0\n",
      "gen = 51 , Best fitness = (0.192513302195798,) , Number of invalids = 0\n",
      "gen = 52 , Best fitness = (0.192513302195798,) , Number of invalids = 0\n",
      "gen = 53 , Best fitness = (0.19257328016157926,) , Number of invalids = 0\n",
      "gen = 54 , Best fitness = (0.19257328016157926,) , Number of invalids = 0\n",
      "gen = 55 , Best fitness = (0.19257328016157926,) , Number of invalids = 0\n",
      "gen = 56 , Best fitness = (0.19257328016157926,) , Number of invalids = 0\n",
      "gen = 57 , Best fitness = (0.20276443298413394,) , Number of invalids = 0\n",
      "gen = 58 , Best fitness = (0.20276443298413394,) , Number of invalids = 0\n",
      "gen = 59 , Best fitness = (0.30224069330298264,) , Number of invalids = 0\n",
      "gen = 60 , Best fitness = (0.30224069330298264,) , Number of invalids = 0\n",
      "gen = 61 , Best fitness = (0.30224069330298264,) , Number of invalids = 0\n",
      "gen = 62 , Best fitness = (0.3126760030470225,) , Number of invalids = 0\n",
      "gen = 63 , Best fitness = (0.3126760030470225,) , Number of invalids = 0\n",
      "gen = 64 , Best fitness = (0.3126760030470225,) , Number of invalids = 0\n",
      "gen = 65 , Best fitness = (0.3126760030470225,) , Number of invalids = 0\n",
      "gen = 66 , Best fitness = (0.3126760030470225,) , Number of invalids = 0\n",
      "gen = 67 , Best fitness = (0.31535194157525703,) , Number of invalids = 0\n",
      "gen = 68 , Best fitness = (0.3485883291314561,) , Number of invalids = 0\n",
      "gen = 69 , Best fitness = (0.3485883291314561,) , Number of invalids = 0\n",
      "gen = 70 , Best fitness = (0.3485883291314561,) , Number of invalids = 0\n",
      "gen = 71 , Best fitness = (0.3485883291314561,) , Number of invalids = 0\n",
      "gen = 72 , Best fitness = (0.365703134712029,) , Number of invalids = 0\n",
      "gen = 73 , Best fitness = (0.3677748871993012,) , Number of invalids = 0\n",
      "gen = 74 , Best fitness = (0.3677748871993012,) , Number of invalids = 0\n",
      "gen = 75 , Best fitness = (0.3677748871993012,) , Number of invalids = 0\n",
      "gen = 76 , Best fitness = (0.37833535808507024,) , Number of invalids = 0\n",
      "gen = 77 , Best fitness = (0.37855166883826874,) , Number of invalids = 0\n",
      "gen = 78 , Best fitness = (0.37855166883826874,) , Number of invalids = 0\n",
      "gen = 79 , Best fitness = (0.39823675606581066,) , Number of invalids = 0\n",
      "gen = 80 , Best fitness = (0.39823675606581066,) , Number of invalids = 0\n",
      "gen = 81 , Best fitness = (0.39823675606581066,) , Number of invalids = 0\n",
      "gen = 82 , Best fitness = (0.39823675606581066,) , Number of invalids = 0\n",
      "gen = 83 , Best fitness = (0.39823675606581066,) , Number of invalids = 0\n",
      "gen = 84 , Best fitness = (0.39823675606581066,) , Number of invalids = 0\n",
      "gen = 85 , Best fitness = (0.39910287266128974,) , Number of invalids = 0\n",
      "gen = 86 , Best fitness = (0.39910287266128974,) , Number of invalids = 0\n",
      "gen = 87 , Best fitness = (0.39942085546303163,) , Number of invalids = 0\n",
      "gen = 88 , Best fitness = (0.39942085546303163,) , Number of invalids = 0\n",
      "gen = 89 , Best fitness = (0.39942085546303163,) , Number of invalids = 0\n",
      "gen = 90 , Best fitness = (0.39942085546303163,) , Number of invalids = 0\n",
      "gen = 91 , Best fitness = (0.39942085546303163,) , Number of invalids = 0\n",
      "gen = 92 , Best fitness = (0.39942085546303163,) , Number of invalids = 0\n",
      "gen = 93 , Best fitness = (0.39942085546303163,) , Number of invalids = 0\n",
      "gen = 94 , Best fitness = (0.4007675569402642,) , Number of invalids = 0\n",
      "gen = 95 , Best fitness = (0.4076133853026691,) , Number of invalids = 0\n",
      "gen = 96 , Best fitness = (0.4076133853026691,) , Number of invalids = 0\n",
      "gen = 97 , Best fitness = (0.4076133853026691,) , Number of invalids = 0\n",
      "gen = 98 , Best fitness = (0.4076133853026691,) , Number of invalids = 0\n",
      "gen = 99 , Best fitness = (0.4076133853026691,) , Number of invalids = 0\n",
      "gen = 100 , Best fitness = (0.4076133853026691,) , Number of invalids = 0\n"
     ]
    }
   ],
   "source": [
    "hof = tools.HallOfFame(HALLOFFAME_SIZE)\n",
    "    \n",
    "stats = tools.Statistics(key=lambda ind: ind.fitness.values)\n",
    "stats.register(\"avg\", np.nanmean)\n",
    "stats.register(\"std\", np.nanstd)\n",
    "stats.register(\"min\", np.nanmin)\n",
    "stats.register(\"max\", np.nanmax)\n",
    "\n",
    "population, logbook = algorithms.ge_eaSimpleWithElitism(\n",
    "    population, toolbox, cxpb=P_CROSSOVER, mutpb=P_MUTATION,\n",
    "    ngen=MAX_GENERATIONS, elite_size=ELITE_SIZE,\n",
    "    bnf_grammar=BNF_GRAMMAR,\n",
    "    codon_size=CODON_SIZE,\n",
    "    max_tree_depth=MAX_TREE_DEPTH,\n",
    "    max_genome_length=MAX_GENOME_LENGTH,\n",
    "    points_train=[X_train, y_train],\n",
    "    points_test=[X_test, y_test],\n",
    "    codon_consumption=CODON_CONSUMPTION,\n",
    "    report_items=REPORT_ITEMS,\n",
    "    genome_representation=GENOME_REPRESENTATION,\n",
    "    stats=stats, halloffame=hof, verbose=False\n",
    ")"
   ]
  },
  {
   "cell_type": "code",
   "execution_count": 153,
   "metadata": {},
   "outputs": [
    {
     "name": "stdout",
     "output_type": "stream",
     "text": [
      "add(sub(add(pdiv(mul(add(sub(add(x.T[3],60.66),sub(sub(x.T[1],x.T[5]),x.T[7])),pdiv(sub(mul(mul(mul(mul(mul(x.T[8],sub(sub(x.T[6],36.87),62.01)),48.62),98.73),sub(x.T[7],mul(x.T[2],mul(x.T[6],x.T[4])))),pdiv(x.T[3],30.36)),sub(sub(x.T[4],58.16),mul(x.T[8],x.T[4]))),add(add(mul(pdiv(pdiv(add(x.T[3],x.T[2]),68.67),add(sub(sub(add(add(x.T[8],89.71),x.T[2]),51.03),69.87),64.20)),x.T[6]),sub(sub(x.T[4],58.16),mul(x.T[8],x.T[4]))),add(mul(mul(pdiv(pdiv(add(x.T[3],x.T[2]),68.67),add(sub(sub(add(add(x.T[8],89.71),x.T[2]),91.25),x.T[9]),x.T[3])),21.82),add(x.T[7],85.78)),sub(sub(x.T[6],69.87),54.62))))),31.92),add(sub(pdiv(x.T[5],x.T[5]),x.T[8]),sub(sub(x.T[3],69.87),64.20))),x.T[6]),sub(sub(x.T[4],58.16),mul(x.T[8],x.T[4]))),add(add(mul(pdiv(pdiv(add(x.T[3],x.T[2]),68.67),add(sub(sub(add(add(x.T[8],89.71),x.T[2]),51.06),x.T[7]),x.T[0])),x.T[3]),24.51),27.68)) (-0.5033401261707375,)\n",
      "add(sub(add(pdiv(mul(add(sub(add(x.T[3],49.36),sub(sub(x.T[5],58.46),x.T[5])),x.T[9]),x.T[3]),21.82),mul(x.T[7],85.78)),sub(sub(x.T[6],19.87),54.62)),31.92) (-0.28383419233682083,)\n",
      "add(sub(add(pdiv(mul(add(sub(add(x.T[3],49.36),sub(sub(x.T[5],58.46),x.T[5])),x.T[9]),x.T[3]),21.82),mul(x.T[7],85.78)),sub(sub(x.T[6],69.87),05.13)),16.83) (-0.5298363601103067,)\n",
      "add(sub(add(pdiv(mul(add(sub(add(x.T[3],49.36),sub(pdiv(x.T[9],x.T[3]),25.46)),x.T[0]),19.21),mul(x.T[8],x.T[9])),85.78),sub(sub(x.T[3],69.87),64.20)),x.T[6]) (-2453268872191.8354,)\n",
      "add(sub(add(pdiv(mul(add(sub(add(x.T[3],60.66),sub(sub(x.T[1],58.76),mul(x.T[8],x.T[4]))),add(sub(mul(sub(pdiv(add(mul(x.T[6],x.T[8]),x.T[2]),x.T[3]),78.97),sub(sub(x.T[7],mul(x.T[7],x.T[9])),x.T[3])),20.51),51.68)),mul(x.T[2],25.51)),21.62),mul(x.T[9],82.71)),mul(x.T[2],60.16)),x.T[8]) (-3.576720327879884,)\n",
      "add(sub(add(pdiv(mul(add(sub(add(x.T[3],60.66),sub(sub(x.T[1],58.76),mul(x.T[8],x.T[4]))),add(sub(mul(sub(sub(pdiv(x.T[5],x.T[5]),x.T[8]),sub(sub(x.T[6],69.57),24.62)),31.92),add(sub(pdiv(x.T[5],x.T[5]),x.T[8]),sub(sub(x.T[3],69.87),64.20))),x.T[6])),sub(x.T[1],40.58)),x.T[6]),mul(x.T[8],x.T[4])),add(add(mul(pdiv(pdiv(add(x.T[3],x.T[9]),68.77),add(sub(sub(add(add(x.T[8],89.71),x.T[2]),51.06),x.T[7]),x.T[0])),sub(x.T[2],51.32)),add(sub(pdiv(pdiv(pdiv(x.T[1],21.62),x.T[8]),x.T[7]),85.78),sub(sub(x.T[6],63.87),64.62))),31.94)),58.16) (-106841937135.25397,)\n",
      "add(sub(add(pdiv(mul(add(sub(add(x.T[3],x.T[6]),66.65),19.40),mul(x.T[6],mul(x.T[8],x.T[4]))),add(sub(x.T[4],78.32),55.17)),sub(mul(x.T[2],x.T[9]),82.71)),mul(x.T[8],x.T[7])),85.78) (-3.5431365415195737,)\n",
      "add(sub(add(pdiv(mul(add(sub(add(x.T[3],60.66),sub(sub(x.T[1],58.76),mul(x.T[8],x.T[4]))),add(sub(mul(sub(pdiv(add(mul(x.T[6],x.T[8]),x.T[2]),x.T[3]),78.97),sub(sub(x.T[7],mul(x.T[7],x.T[9])),x.T[3])),20.71),51.68)),mul(x.T[2],26.01)),08.62),x.T[3]),78.97),sub(sub(x.T[1],mul(x.T[7],x.T[0])),x.T[3])) (-8.294750472582667,)\n",
      "add(sub(add(pdiv(mul(add(sub(add(x.T[3],x.T[1]),pdiv(mul(x.T[8],89.10),x.T[6])),sub(sub(x.T[4],57.16),mul(x.T[8],x.T[4]))),add(add(mul(pdiv(pdiv(add(x.T[3],x.T[2]),68.67),add(sub(sub(add(add(x.T[8],89.71),x.T[2]),51.06),x.T[7]),x.T[0])),x.T[3]),24.51),27.68)),mul(x.T[2],89.51)),21.62),mul(x.T[7],85.78)),sub(sub(x.T[6],63.87),64.62)) (-193265.2776410607,)\n",
      "add(sub(add(pdiv(mul(add(sub(add(x.T[3],49.36),sub(sub(x.T[5],58.46),x.T[5])),x.T[9]),x.T[3]),21.82),mul(x.T[7],85.78)),sub(pdiv(x.T[6],66.87),54.62)),91.92) (0.041720314450764184,)\n",
      "add(pdiv(sub(x.T[8],30.31),mul(x.T[6],38.39)),85.78) (-4.412117409178671,)\n",
      "add(sub(x.T[0],x.T[5]),mul(pdiv(sub(add(x.T[3],19.16),x.T[5]),x.T[9]),x.T[3])) (-8.100740487489055,)\n",
      "add(sub(add(sub(mul(mul(sub(add(x.T[3],49.36),sub(sub(x.T[5],58.46),x.T[5])),x.T[9]),x.T[3]),21.82),mul(x.T[7],85.78)),add(mul(mul(x.T[2],sub(x.T[8],x.T[3])),53.03),x.T[9])),sub(mul(x.T[8],x.T[9]),85.78)) (-10.713535791875174,)\n",
      "add(sub(add(pdiv(mul(add(sub(add(x.T[3],19.16),x.T[5]),x.T[9]),x.T[3]),mul(x.T[6],38.37)),85.30),93.69),83.35) (-0.9570064974022394,)\n",
      "mul(sub(add(pdiv(mul(add(sub(add(x.T[3],60.66),sub(sub(x.T[1],58.76),mul(x.T[8],x.T[4]))),add(sub(mul(sub(pdiv(add(mul(x.T[6],x.T[8]),x.T[2]),x.T[3]),78.97),sub(x.T[5],x.T[1])),mul(x.T[7],x.T[9])),x.T[3])),20.81),51.68),mul(x.T[2],29.51)),20.62),mul(x.T[9],82.73)) (-4.538765824464916,)\n",
      "add(sub(add(pdiv(sub(add(sub(add(x.T[3],x.T[2]),68.67),add(sub(mul(add(pdiv(x.T[8],39.71),mul(x.T[8],add(sub(x.T[5],36.86),62.01))),08.62),x.T[3]),78.97)),sub(sub(x.T[1],mul(x.T[7],x.T[0])),x.T[3])),20.51),51.68),mul(x.T[2],89.51)),51.62) (-0.43234330528531895,)\n",
      "add(sub(add(pdiv(mul(add(sub(add(x.T[3],60.66),sub(sub(x.T[1],58.76),mul(x.T[8],x.T[4]))),add(sub(mul(sub(pdiv(add(x.T[3],x.T[2]),68.77),add(sub(mul(add(pdiv(x.T[8],39.71),x.T[2]),35.06),x.T[6]),x.T[4])),pdiv(x.T[3],30.36)),sub(sub(x.T[4],58.16),mul(x.T[8],x.T[4]))),20.26)),mul(x.T[8],add(pdiv(add(pdiv(add(sub(add(sub(sub(add(add(x.T[8],89.71),x.T[2]),87.39),x.T[1]),x.T[2]),35.06),x.T[6]),x.T[4]),pdiv(x.T[3],30.36)),sub(sub(x.T[4],58.16),mul(x.T[8],x.T[4]))),add(add(mul(pdiv(pdiv(add(x.T[3],x.T[0]),68.67),add(sub(sub(add(add(x.T[8],89.71),x.T[2]),51.06),x.T[7]),x.T[0])),x.T[3]),24.51),31.68)))),mul(x.T[2],89.51)),21.62),mul(x.T[7],85.78)),sub(sub(x.T[6],53.87),64.62)) (-595.5691645128775,)\n",
      "add(sub(add(pdiv(mul(add(sub(add(x.T[3],60.66),sub(sub(x.T[1],58.76),mul(x.T[8],x.T[4]))),add(sub(mul(sub(pdiv(x.T[8],36.23),add(x.T[7],add(sub(mul(add(pdiv(x.T[5],06.77),x.T[0]),x.T[3]),24.51),31.68))),mul(x.T[2],89.51)),21.62),mul(x.T[7],85.78))),sub(sub(x.T[6],53.87),64.62)),36.14),58.16),mul(x.T[8],x.T[4])),add(sub(mul(pdiv(pdiv(add(x.T[3],x.T[2]),68.67),add(sub(sub(add(add(x.T[8],x.T[8]),sub(x.T[7],sub(x.T[1],mul(x.T[7],x.T[0])))),x.T[3]),24.51),21.68)),mul(x.T[2],89.51)),21.62),mul(x.T[9],85.78))) (-30.823669775458804,)\n",
      "add(sub(add(pdiv(sub(add(sub(x.T[1],x.T[5]),58.46),x.T[5]),x.T[9]),x.T[3]),21.82),mul(x.T[7],85.78)) (-24162.54842104494,)\n",
      "add(sub(add(pdiv(mul(add(sub(add(x.T[3],60.76),sub(sub(x.T[1],58.76),mul(x.T[8],mul(add(mul(mul(pdiv(pdiv(add(x.T[3],x.T[2]),68.77),add(x.T[1],48.62)),98.73),sub(x.T[7],mul(x.T[2],mul(x.T[6],x.T[4])))),pdiv(x.T[3],30.36)),sub(sub(x.T[4],58.16),mul(x.T[8],x.T[4])))))),add(add(mul(pdiv(pdiv(add(x.T[3],x.T[2]),62.63),add(sub(pdiv(add(add(x.T[8],89.71),x.T[2]),51.03),69.87),64.20)),x.T[6]),sub(sub(x.T[4],58.16),mul(x.T[8],x.T[4]))),add(mul(mul(pdiv(pdiv(add(x.T[3],x.T[2]),68.67),pdiv(sub(sub(add(add(x.T[8],89.71),x.T[2]),51.06),x.T[7]),x.T[0])),x.T[3]),24.51),27.68))),mul(x.T[2],89.55)),21.62),mul(x.T[7],85.75)),sub(sub(x.T[0],63.81),64.62)),sub(x.T[6],x.T[9])) (0.17365980748002896,)\n",
      "add(sub(add(pdiv(mul(add(sub(add(x.T[3],19.10),mul(x.T[6],mul(x.T[8],x.T[4]))),add(add(mul(pdiv(sub(add(x.T[3],x.T[2]),68.67),add(sub(mul(add(pdiv(x.T[8],39.71),mul(x.T[8],add(sub(x.T[5],36.86),62.87))),62.39),sub(x.T[9],x.T[1])),x.T[2])),32.06),x.T[6]),x.T[4])),pdiv(x.T[3],30.36)),sub(sub(x.T[4],58.16),mul(x.T[8],x.T[4]))),add(add(mul(pdiv(pdiv(add(x.T[3],x.T[2]),62.67),add(sub(sub(add(add(x.T[8],89.71),x.T[2]),51.03),69.87),64.20)),x.T[6]),sub(sub(x.T[4],58.16),mul(x.T[8],x.T[4]))),add(mul(sub(pdiv(pdiv(add(x.T[3],x.T[2]),68.67),add(sub(sub(add(add(x.T[8],89.71),x.T[2]),51.06),x.T[7]),x.T[0])),x.T[3]),24.51),27.68))),mul(x.T[2],89.55)),21.62) (-4.212713852997618,)\n",
      "add(sub(add(pdiv(mul(add(sub(add(x.T[3],60.76),sub(sub(x.T[1],58.76),mul(x.T[8],mul(add(mul(mul(pdiv(pdiv(add(x.T[3],x.T[2]),68.77),add(x.T[1],46.68)),x.T[2]),x.T[3]),78.97),mul(sub(x.T[1],mul(x.T[7],x.T[0])),x.T[3]))))),60.51),29.68),mul(x.T[5],x.T[6])),63.87),64.62),31.94) (-3104925101209.33,)\n",
      "add(x.T[7],08.52) (-3.287840725106948,)\n",
      "add(sub(add(pdiv(mul(add(sub(sub(x.T[3],60.66),sub(sub(x.T[1],58.76),mul(x.T[8],x.T[4]))),add(sub(mul(pdiv(pdiv(add(x.T[3],x.T[2]),36.48),x.T[8]),add(mul(sub(mul(add(add(x.T[1],89.71),x.T[2]),51.06),x.T[7]),x.T[0]),x.T[3])),90.51),51.68)),mul(x.T[2],29.51)),21.82),mul(x.T[9],82.73)),sub(sub(x.T[3],69.87),69.10)),x.T[6]) (-0.04713474648100058,)\n",
      "add(sub(add(pdiv(mul(add(sub(mul(x.T[3],49.36),sub(sub(x.T[5],58.46),pdiv(pdiv(sub(x.T[2],mul(sub(pdiv(x.T[5],x.T[5]),x.T[8]),sub(pdiv(x.T[6],69.87),54.62))),31.92),add(sub(pdiv(x.T[5],x.T[5]),x.T[8]),sub(sub(x.T[3],69.87),64.20))))),x.T[6]),sub(sub(x.T[4],58.16),mul(x.T[8],x.T[4]))),add(add(mul(pdiv(pdiv(add(x.T[3],x.T[2]),68.67),add(sub(sub(add(add(x.T[8],89.71),x.T[2]),51.06),x.T[7]),x.T[0])),x.T[3]),24.51),27.68)),mul(x.T[2],89.51)),21.62),mul(x.T[7],85.78)) (-9.031251641887575,)\n",
      "add(sub(add(pdiv(mul(add(sub(add(x.T[3],60.66),sub(sub(x.T[1],x.T[5]),x.T[7])),pdiv(sub(mul(mul(mul(mul(mul(x.T[8],sub(add(x.T[6],36.67),62.11)),48.62),98.73),sub(x.T[7],mul(x.T[2],mul(x.T[6],x.T[4])))),pdiv(x.T[3],30.36)),sub(sub(x.T[4],58.16),mul(x.T[8],x.T[4]))),add(add(mul(pdiv(pdiv(add(x.T[3],x.T[2]),68.67),add(sub(sub(add(add(x.T[8],89.71),x.T[2]),51.03),69.87),64.20)),x.T[6]),sub(sub(x.T[4],58.16),mul(x.T[8],x.T[4]))),add(mul(mul(pdiv(pdiv(add(x.T[3],x.T[2]),68.67),add(sub(sub(add(add(x.T[8],89.71),x.T[2]),51.06),x.T[7]),x.T[0])),x.T[3]),24.51),27.68)))),pdiv(x.T[2],89.51)),41.62),mul(x.T[7],85.75)),sub(sub(x.T[0],63.81),68.62)),31.94) (0.01846606987405386,)\n",
      "add(sub(add(pdiv(mul(add(sub(add(x.T[3],60.66),sub(sub(x.T[1],58.76),mul(x.T[8],x.T[4]))),add(sub(mul(sub(pdiv(add(mul(x.T[6],x.T[8]),x.T[2]),x.T[3]),78.97),sub(sub(x.T[1],mul(x.T[7],x.T[0])),x.T[3])),20.51),51.68)),mul(x.T[2],25.51)),21.62),mul(x.T[9],85.73)),sub(sub(x.T[3],69.87),69.10)),52.18) (-0.08561060548014021,)\n",
      "add(sub(add(pdiv(mul(add(sub(add(x.T[3],19.10),mul(mul(x.T[2],x.T[8]),x.T[4])),add(add(mul(pdiv(sub(add(x.T[3],x.T[2]),68.67),add(sub(mul(add(pdiv(x.T[8],39.71),mul(x.T[8],add(sub(x.T[5],36.86),62.01))),mul(add(add(x.T[1],89.71),25.51),mul(x.T[7],x.T[0]))),x.T[3]),20.51)),29.68),mul(x.T[5],x.T[6])),63.87)),64.62),31.94),58.16),mul(x.T[8],x.T[4])),add(sub(mul(pdiv(pdiv(add(x.T[3],x.T[2]),68.67),add(sub(sub(add(add(x.T[8],89.71),x.T[2]),51.06),x.T[7]),x.T[0])),x.T[3]),24.51),21.68)) (-2.686462559550516,)\n",
      "add(sub(add(pdiv(mul(add(sub(add(x.T[3],60.66),sub(sub(x.T[1],58.76),mul(x.T[8],x.T[4]))),add(sub(mul(sub(pdiv(add(mul(x.T[6],x.T[8]),x.T[2]),x.T[3]),78.97),sub(sub(x.T[7],mul(x.T[7],x.T[9])),x.T[3])),20.51),51.68)),mul(x.T[2],25.51)),21.62),mul(x.T[9],82.71)),mul(x.T[8],x.T[7])),85.78) (-0.5460259827409424,)\n",
      "add(sub(add(pdiv(add(add(sub(add(x.T[3],60.76),sub(sub(x.T[1],58.76),mul(x.T[8],mul(add(mul(mul(pdiv(pdiv(add(x.T[3],x.T[2]),68.77),add(x.T[1],48.62)),98.73),sub(x.T[7],mul(x.T[2],mul(x.T[6],x.T[4])))),pdiv(x.T[3],30.36)),sub(sub(x.T[4],58.16),mul(x.T[8],x.T[4])))))),add(add(mul(pdiv(pdiv(add(x.T[3],x.T[2]),62.67),add(sub(sub(add(add(x.T[8],89.71),x.T[2]),51.03),69.87),64.20)),x.T[6]),sub(sub(x.T[4],58.16),mul(x.T[8],x.T[4]))),add(mul(mul(pdiv(pdiv(add(x.T[3],23.68),x.T[7]),add(sub(mul(add(add(x.T[8],x.T[8]),sub(x.T[7],sub(x.T[1],mul(x.T[7],x.T[0])))),x.T[3]),24.51),27.68)),mul(x.T[2],89.55)),21.62),mul(x.T[7],85.75)))),sub(sub(x.T[0],63.81),64.62)),sub(x.T[6],sub(x.T[1],x.T[5]))),58.46),x.T[5]),x.T[9]) (-25627737451.417526,)\n",
      "add(sub(add(pdiv(mul(add(sub(add(x.T[3],60.66),sub(sub(x.T[1],58.76),mul(x.T[8],x.T[4]))),add(x.T[6],add(add(sub(x.T[7],sub(x.T[1],25.51)),mul(x.T[7],x.T[3])),x.T[3]))),20.01),29.68),mul(x.T[2],89.51)),21.67),mul(x.T[9],85.48)) (-0.8208249661193026,)\n",
      "add(sub(add(pdiv(mul(add(sub(add(x.T[3],60.66),sub(sub(x.T[1],58.76),mul(x.T[8],x.T[4]))),add(sub(mul(sub(x.T[3],85.36),36.87),62.01),48.62)),98.73),sub(x.T[7],mul(x.T[5],mul(x.T[6],x.T[4])))),pdiv(x.T[3],30.36)),sub(sub(x.T[4],58.16),mul(x.T[8],x.T[4]))),add(add(mul(pdiv(pdiv(add(x.T[3],x.T[0]),68.67),add(sub(sub(add(add(x.T[8],89.71),x.T[2]),51.06),x.T[7]),x.T[0])),x.T[3]),24.51),31.68)) (-974365790700.5924,)\n",
      "add(sub(add(pdiv(mul(add(sub(pdiv(x.T[3],sub(sub(x.T[3],69.87),64.20)),x.T[3]),sub(sub(x.T[4],58.16),mul(x.T[8],x.T[4]))),add(add(mul(pdiv(pdiv(add(x.T[3],x.T[2]),68.67),add(sub(sub(add(add(x.T[8],89.71),x.T[2]),51.06),x.T[7]),x.T[0])),x.T[3]),28.51),27.68)),mul(x.T[2],89.51)),21.62),mul(x.T[7],85.78)),sub(sub(x.T[6],63.87),64.62)) (-15659.190727368024,)\n",
      "add(sub(add(pdiv(mul(add(sub(add(x.T[3],49.36),sub(pdiv(x.T[9],x.T[3]),20.51)),51.68),mul(x.T[2],88.59)),21.02),mul(x.T[9],85.73)),sub(sub(x.T[3],69.87),64.23)),pdiv(add(x.T[3],49.36),sub(pdiv(x.T[9],x.T[3]),20.51))) (0.24392298681699753,)\n",
      "add(sub(add(pdiv(mul(add(sub(add(x.T[3],49.36),sub(pdiv(x.T[9],x.T[3]),20.51)),51.68),pdiv(x.T[2],88.59)),21.02),83.95),x.T[5]),sub(sub(x.T[5],28.46),x.T[5])) (-1.4871355449873938,)\n",
      "add(sub(add(pdiv(mul(add(sub(add(x.T[3],49.36),x.T[3]),sub(pdiv(x.T[3],69.87),64.20)),x.T[3]),sub(sub(x.T[4],58.16),mul(x.T[8],x.T[4]))),add(add(mul(pdiv(pdiv(add(x.T[3],x.T[2]),68.67),add(sub(sub(add(add(x.T[8],89.71),x.T[2]),51.06),x.T[7]),x.T[0])),x.T[3]),24.51),27.68)),mul(x.T[2],89.51)),21.62) (-1.0445398556816596,)\n",
      "add(sub(add(pdiv(mul(add(sub(add(x.T[3],60.66),sub(sub(x.T[1],58.76),mul(x.T[8],x.T[4]))),add(sub(mul(sub(pdiv(add(mul(x.T[6],x.T[8]),x.T[2]),x.T[3]),78.97),sub(sub(x.T[1],x.T[6]),x.T[7])),x.T[0]),x.T[3])),20.51),51.68),mul(x.T[2],29.51)),21.62),mul(x.T[9],82.73)) (-2.488160790308909,)\n",
      "add(sub(add(pdiv(mul(add(sub(add(x.T[3],19.10),mul(x.T[6],mul(x.T[8],x.T[4]))),add(add(mul(pdiv(sub(add(x.T[3],x.T[2]),68.67),add(sub(mul(add(pdiv(x.T[8],39.71),mul(x.T[8],add(sub(x.T[5],36.86),62.07))),68.62),x.T[3]),78.97)),mul(sub(x.T[1],mul(x.T[7],x.T[0])),x.T[3])),20.51),29.68)),mul(x.T[5],x.T[6])),63.87),64.62),31.94),58.16) (-0.5966242121652099,)\n",
      "add(sub(add(pdiv(mul(add(sub(add(x.T[3],49.36),sub(pdiv(x.T[9],x.T[3]),20.51)),51.68),mul(x.T[2],88.59)),21.02),mul(x.T[9],85.73)),sub(sub(x.T[3],31.92),add(sub(pdiv(x.T[5],x.T[5]),x.T[8]),sub(sub(x.T[3],69.87),64.20)))),x.T[6]) (-9.942909030898853,)\n",
      "add(sub(add(pdiv(mul(add(sub(add(x.T[3],19.16),x.T[5]),x.T[9]),x.T[3]),mul(x.T[6],38.37)),85.78),x.T[3]),53.26) (-0.027095864176105433,)\n",
      "add(sub(add(pdiv(mul(add(sub(add(x.T[3],49.30),sub(sub(x.T[5],58.46),x.T[5])),x.T[9]),x.T[3]),21.82),mul(x.T[7],85.78)),sub(sub(x.T[6],69.87),54.62)),31.92) (0.04344021858835778,)\n",
      "pdiv(sub(add(pdiv(mul(add(sub(add(x.T[3],60.66),sub(sub(x.T[1],58.76),mul(x.T[8],x.T[4]))),add(sub(mul(sub(pdiv(add(mul(x.T[6],x.T[8]),x.T[2]),x.T[3]),78.97),sub(sub(x.T[1],mul(x.T[7],x.T[9])),x.T[3])),add(sub(x.T[3],16.83),pdiv(pdiv(pdiv(x.T[1],21.62),mul(x.T[9],82.73)),sub(x.T[5],x.T[3])))),69.87)),69.10),x.T[6]),sub(sub(x.T[4],58.16),mul(x.T[8],x.T[4]))),add(add(mul(pdiv(pdiv(add(x.T[3],x.T[2]),68.67),add(sub(sub(add(add(x.T[8],89.71),x.T[2]),51.06),x.T[7]),x.T[0])),x.T[3]),24.51),27.68)),mul(x.T[2],89.51)) (-1709319074.3428504,)\n",
      "add(sub(add(pdiv(mul(add(sub(pdiv(pdiv(mul(x.T[9],21.02),mul(x.T[9],85.73)),sub(sub(x.T[3],69.87),64.23)),pdiv(pdiv(x.T[3],sub(sub(x.T[3],69.87),64.20)),x.T[3])),sub(sub(x.T[4],58.16),mul(x.T[8],x.T[4]))),add(add(mul(pdiv(pdiv(add(x.T[3],x.T[2]),68.67),add(sub(sub(add(add(x.T[8],89.71),x.T[2]),51.06),x.T[7]),x.T[0])),x.T[3]),24.51),27.68)),mul(x.T[2],89.51)),21.62),mul(x.T[7],85.78)),sub(sub(x.T[6],63.87),64.62)) (-13514.473331066842,)\n",
      "add(sub(add(pdiv(mul(add(sub(add(x.T[3],49.36),sub(pdiv(x.T[9],x.T[3]),20.51)),51.62),26.13),19.10),mul(mul(x.T[2],x.T[8]),x.T[4])),add(add(mul(pdiv(sub(add(x.T[3],x.T[2]),68.67),add(sub(mul(add(pdiv(x.T[8],39.71),mul(x.T[8],add(sub(x.T[5],36.86),62.01))),68.62),x.T[3]),78.97)),mul(sub(x.T[1],mul(x.T[7],x.T[0])),x.T[3])),20.51),29.68)),mul(x.T[5],x.T[6])) (-0.8004086785459112,)\n",
      "add(sub(add(pdiv(mul(add(sub(add(x.T[3],60.66),sub(sub(x.T[1],58.76),mul(x.T[8],x.T[4]))),add(sub(pdiv(sub(pdiv(add(mul(x.T[6],x.T[8]),x.T[2]),x.T[3]),78.97),sub(mul(x.T[8],x.T[9]),x.T[0])),mul(mul(pdiv(pdiv(sub(x.T[2],mul(sub(pdiv(x.T[5],x.T[5]),x.T[8]),sub(sub(x.T[6],69.87),54.62))),31.92),add(sub(pdiv(x.T[5],x.T[5]),x.T[8]),sub(sub(x.T[3],69.87),64.20))),x.T[6]),sub(sub(x.T[4],58.16),mul(x.T[8],x.T[4])))),add(add(mul(pdiv(pdiv(add(x.T[3],x.T[2]),68.67),add(sub(sub(add(add(x.T[8],89.71),x.T[2]),51.06),x.T[7]),x.T[0])),x.T[3]),24.51),27.68))),mul(x.T[2],89.51)),21.62),mul(x.T[7],85.78)),sub(sub(x.T[6],63.87),64.62)),31.94) (-1448.4714705035221,)\n",
      "add(sub(add(pdiv(mul(add(sub(add(x.T[3],49.36),51.06),x.T[7]),x.T[0]),x.T[3]),20.51),51.68),mul(x.T[2],25.51)) (-6.039898125060532,)\n",
      "add(sub(add(pdiv(mul(add(sub(add(x.T[3],19.10),mul(mul(x.T[2],x.T[8]),x.T[4])),add(add(mul(pdiv(sub(add(x.T[3],x.T[2]),68.67),add(sub(mul(add(pdiv(x.T[8],39.71),mul(x.T[8],add(sub(x.T[5],36.86),62.01))),68.62),x.T[3]),78.97)),mul(sub(x.T[1],mul(x.T[7],x.T[0])),x.T[3])),20.51),29.68)),mul(x.T[5],x.T[6])),63.87),64.62),31.94),58.16) (-0.5966242120848237,)\n",
      "add(sub(add(pdiv(mul(add(sub(add(x.T[3],60.66),sub(sub(x.T[1],58.76),mul(x.T[8],x.T[4]))),add(sub(mul(sub(pdiv(add(x.T[3],x.T[2]),68.77),add(sub(mul(add(pdiv(x.T[8],39.71),x.T[2]),35.06),x.T[6]),x.T[4])),pdiv(x.T[3],30.36)),sub(sub(x.T[4],58.16),mul(x.T[8],x.T[4]))),add(add(mul(pdiv(pdiv(add(x.T[3],x.T[0]),68.67),add(sub(sub(add(add(x.T[8],89.71),x.T[2]),51.06),x.T[7]),x.T[0])),x.T[3]),24.51),31.68))),mul(x.T[2],89.51)),21.62),mul(x.T[7],85.78)),sub(sub(x.T[6],53.87),64.62)),36.14) (0.4076133853026691,)\n"
     ]
    }
   ],
   "source": [
    "for p in population:\n",
    "    print(p.phenotype, p.fitness)"
   ]
  },
  {
   "cell_type": "markdown",
   "metadata": {},
   "source": [
    "### Testing"
   ]
  },
  {
   "cell_type": "code",
   "execution_count": 154,
   "metadata": {},
   "outputs": [
    {
     "name": "stdout",
     "output_type": "stream",
     "text": [
      "Best individual: \n",
      " add(sub(add(pdiv(mul(add(sub(add(x.T[3],60.66),sub(sub(x.T[1],58.76),mul(x.T[8],\n",
      "x.T[4]))),add(sub(mul(sub(pdiv(add(x.T[3],x.T[2]),68.77),add(sub(mul(add(pdiv(x.\n",
      "T[8],39.71),x.T[2]),35.06),x.T[6]),x.T[4])),pdiv(x.T[3],30.36)),sub(sub(x.T[4],5\n",
      "8.16),mul(x.T[8],x.T[4]))),add(add(mul(pdiv(pdiv(add(x.T[3],x.T[0]),68.67),add(s\n",
      "ub(sub(add(add(x.T[8],89.71),x.T[2]),51.06),x.T[7]),x.T[0])),x.T[3]),24.51),31.6\n",
      "8))),mul(x.T[2],89.51)),21.62),mul(x.T[7],85.78)),sub(sub(x.T[6],53.87),64.62)),\n",
      "36.14)\n",
      "\n",
      "Training Fitness:  0.4076133853026691\n",
      "Test Fitness:  0.1787296239676761\n",
      "Depth:  36\n",
      "Length of the genome:  2098\n",
      "Used portion of the genome: 0.10\n"
     ]
    }
   ],
   "source": [
    "best = hof.items[0].phenotype\n",
    "print(\"Best individual: \\n\",\"\\n\".join(textwrap.wrap(best,80)))\n",
    "print(\"\\nTraining Fitness: \", hof.items[0].fitness.values[0])\n",
    "print(\"Test Fitness: \", fitness_eval(hof.items[0], [X_test, y_test])[0])\n",
    "print(\"Depth: \", hof.items[0].depth)\n",
    "print(\"Length of the genome: \", len(hof.items[0].genome))\n",
    "print(f'Used portion of the genome: {hof.items[0].used_codons/len(hof.items[0].genome):.2f}')"
   ]
  },
  {
   "cell_type": "code",
   "execution_count": null,
   "metadata": {},
   "outputs": [],
   "source": []
  },
  {
   "cell_type": "code",
   "execution_count": null,
   "metadata": {},
   "outputs": [],
   "source": []
  }
 ],
 "metadata": {
  "kernelspec": {
   "display_name": "venv",
   "language": "python",
   "name": "python3"
  },
  "language_info": {
   "codemirror_mode": {
    "name": "ipython",
    "version": 3
   },
   "file_extension": ".py",
   "mimetype": "text/x-python",
   "name": "python",
   "nbconvert_exporter": "python",
   "pygments_lexer": "ipython3",
   "version": "3.12.5"
  }
 },
 "nbformat": 4,
 "nbformat_minor": 2
}
