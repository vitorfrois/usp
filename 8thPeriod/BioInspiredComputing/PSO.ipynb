{
 "cells": [
  {
   "cell_type": "markdown",
   "metadata": {},
   "source": [
    "# Particle Swarm Optimization\n",
    "### Vítor Amorim Fróis"
   ]
  },
  {
   "cell_type": "code",
   "execution_count": 2,
   "metadata": {},
   "outputs": [],
   "source": [
    "import numpy as np\n",
    "from random import random\n",
    "from tqdm import tqdm"
   ]
  },
  {
   "cell_type": "code",
   "execution_count": 3,
   "metadata": {},
   "outputs": [],
   "source": [
    "class Particle:\n",
    "    x_dimension: int\n",
    "    velocity: np.array\n",
    "    position: np.array\n",
    "    best_personal_position: np.array\n",
    "    best_fitness: float\n",
    "    c1: float\n",
    "    c2: float\n",
    "    def __init__(self, x_dimension: int):\n",
    "        self.x_dimension = x_dimension\n",
    "        self.position = (np.random.rand(x_dimension) - 0.5) * 10\n",
    "        self.best_personal_position = np.copy(self.position)\n",
    "        self.velocity = (np.random.rand(x_dimension) - 0.5) * 10\n",
    "        self.c1 = 2\n",
    "        self.c2 = 0.5\n",
    "        self.best_fitness = - np.inf\n",
    "\n",
    "    def step(self, best_global_position):\n",
    "        self.position += self.velocity\n",
    "        v1 = random() * self.c1 * (self.best_personal_position - self.position)\n",
    "        v2 = random() * self.c2 * (best_global_position - self.position)\n",
    "        self.velocity = self.velocity + v1 + v2\n",
    "\n",
    "    def get_position(self) -> np.array:\n",
    "        return self.position\n",
    "\n",
    "    def evaluate(self, f: callable) -> float:\n",
    "        current_position = self.get_position()\n",
    "        fitness = f(current_position)\n",
    "        if fitness > self.best_fitness:\n",
    "            self.best_personal_position = np.copy(current_position)\n",
    "            self.best_fitness = fitness\n",
    "        return fitness"
   ]
  },
  {
   "cell_type": "code",
   "execution_count": 14,
   "metadata": {},
   "outputs": [],
   "source": [
    "class PSO:\n",
    "    particle_list: list[Particle]\n",
    "    dimension: int\n",
    "    n_particles: int\n",
    "    n_iterations: int\n",
    "    def __init__(self, function: callable, dimension: int, n_particles: int):\n",
    "        self.dimension = dimension\n",
    "        self.n_particles = n_particles\n",
    "        self.particle_list = [Particle(dimension) for i in range(n_particles)]\n",
    "        \n",
    "    def run(self, n_iterations: int = 100):\n",
    "        for i in tqdm(range(n_iterations)):\n",
    "            fitness_list = []\n",
    "            for particle in self.particle_list:\n",
    "                fitness = particle.evaluate(f)\n",
    "                fitness_list.append(fitness)\n",
    "            best_particle_index = np.argmax(fitness_list)\n",
    "            best_particle = self.particle_list[best_particle_index]\n",
    "            best_particle_position = best_particle.get_position()\n",
    "            for particle in self.particle_list:\n",
    "                particle.step(best_particle.get_position())\n",
    "        print(f'{i}:Best particle: {best_particle_position}. Fitness: {max(fitness_list)}')\n",
    "        return best_particle_position"
   ]
  },
  {
   "cell_type": "code",
   "execution_count": 15,
   "metadata": {},
   "outputs": [],
   "source": [
    "f = lambda x: - ((x[0] + 5)**2 + (x[1] - 3)**2)"
   ]
  },
  {
   "cell_type": "code",
   "execution_count": 21,
   "metadata": {},
   "outputs": [
    {
     "name": "stderr",
     "output_type": "stream",
     "text": [
      "100%|██████████| 100/100 [00:00<00:00, 1160.62it/s]"
     ]
    },
    {
     "name": "stdout",
     "output_type": "stream",
     "text": [
      "99:Best particle: [-4.99995128  2.99984444]. Fitness: -2.657096564539418e-08\n"
     ]
    },
    {
     "name": "stderr",
     "output_type": "stream",
     "text": [
      "\n"
     ]
    },
    {
     "data": {
      "text/plain": [
       "array([-4.99995128,  2.99984444])"
      ]
     },
     "execution_count": 21,
     "metadata": {},
     "output_type": "execute_result"
    }
   ],
   "source": [
    "pso = PSO(function=f, dimension=2, n_particles=100)\n",
    "pso.run(n_iterations=100)"
   ]
  },
  {
   "cell_type": "code",
   "execution_count": null,
   "metadata": {},
   "outputs": [],
   "source": []
  },
  {
   "cell_type": "code",
   "execution_count": null,
   "metadata": {},
   "outputs": [],
   "source": []
  }
 ],
 "metadata": {
  "kernelspec": {
   "display_name": "venv",
   "language": "python",
   "name": "python3"
  },
  "language_info": {
   "codemirror_mode": {
    "name": "ipython",
    "version": 3
   },
   "file_extension": ".py",
   "mimetype": "text/x-python",
   "name": "python",
   "nbconvert_exporter": "python",
   "pygments_lexer": "ipython3",
   "version": "3.12.5"
  }
 },
 "nbformat": 4,
 "nbformat_minor": 2
}
