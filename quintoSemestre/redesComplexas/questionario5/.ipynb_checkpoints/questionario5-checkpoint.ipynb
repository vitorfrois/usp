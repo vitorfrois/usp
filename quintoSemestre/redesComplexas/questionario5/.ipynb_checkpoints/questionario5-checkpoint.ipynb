{
 "cells": [
  {
   "cell_type": "code",
   "execution_count": 1,
   "id": "bc717ec6",
   "metadata": {},
   "outputs": [
    {
     "name": "stdout",
     "output_type": "stream",
     "text": [
      "pip 23.1 from /home/vitor/Documents/usp/quintoSemestre/redesComplexas/venv_redes_complexas/lib/python3.10/site-packages/pip (python 3.10)\r\n"
     ]
    }
   ],
   "source": [
    "!pip -V"
   ]
  },
  {
   "cell_type": "code",
   "execution_count": 132,
   "id": "70d8aa7e",
   "metadata": {},
   "outputs": [],
   "source": [
    "import networkx as nx\n",
    "import math\n",
    "import statistics as stat\n",
    "import numpy as np"
   ]
  },
  {
   "cell_type": "code",
   "execution_count": 133,
   "id": "b974cc38",
   "metadata": {},
   "outputs": [],
   "source": [
    "G = nx.erdos_renyi_graph(1000, 0.1)"
   ]
  },
  {
   "cell_type": "code",
   "execution_count": 134,
   "id": "d1e51677",
   "metadata": {},
   "outputs": [],
   "source": [
    "def shannon_entropy(measure_list):\n",
    "  H = 0\n",
    "  for elem in measure_list:\n",
    "    if(elem > 0):\n",
    "      H -= elem*math.log(elem, 2)\n",
    "  return H"
   ]
  },
  {
   "cell_type": "code",
   "execution_count": 135,
   "id": "78878e8b",
   "metadata": {},
   "outputs": [],
   "source": [
    "def get_all_degrees(G):\n",
    "  degrees = []\n",
    "  for node in G.nodes:\n",
    "    degrees.append(G.degree[node])\n",
    "  return degrees"
   ]
  },
  {
   "cell_type": "code",
   "execution_count": 136,
   "id": "c8254d9a",
   "metadata": {},
   "outputs": [],
   "source": [
    "def degree_distribution(G):\n",
    "    vk = dict(G.degree())\n",
    "    vk = list(vk.values())  # we get only the degree values\n",
    "    vk = np.array(vk)\n",
    "    maxk = np.max(vk)\n",
    "    mink = np.min(vk)\n",
    "    kvalues= np.arange(0,maxk+1) # possible values of k\n",
    "    Pk = np.zeros(maxk+1) # P(k)\n",
    "    for k in vk:\n",
    "        Pk[k] = Pk[k] + 1\n",
    "    Pk = Pk/sum(Pk) # the sum of the elements of P(k) must to be equal to one\n",
    "    return kvalues,Pk"
   ]
  },
  {
   "cell_type": "code",
   "execution_count": 137,
   "id": "e646993a",
   "metadata": {},
   "outputs": [],
   "source": [
    "def momment(G,m):\n",
    "    M = 0\n",
    "    N = len(G)\n",
    "    for i in G.nodes:\n",
    "        M = M + G.degree(i)**m\n",
    "    M = M/N\n",
    "    return M"
   ]
  },
  {
   "cell_type": "markdown",
   "id": "f7705353",
   "metadata": {},
   "source": [
    "1) Gere um grafo aleatório com N=1000 e p=0.1. Qual o valor do grau médio, segundo momento do grau e clustering coeff?\n"
   ]
  },
  {
   "cell_type": "markdown",
   "id": "397e1513",
   "metadata": {},
   "source": [
    "Grau médio \n",
    "$<k>=(n-1)p$\n",
    "\n",
    "$(1000-1)0.1 = 99.9$\n",
    "\n",
    "Segundo momento do grau é a variancia: \n",
    "$V(k)=(n-1)p(1-p)$\n",
    "\n",
    "$(1000-1)(1-0.1)0.1=89.91$\n",
    "\n",
    "Clustering $c=p=0.1$\n",
    "\n",
    "Obtemos: 100;90;0.1"
   ]
  },
  {
   "cell_type": "code",
   "execution_count": 138,
   "id": "0b117000",
   "metadata": {},
   "outputs": [],
   "source": [
    "G = nx.erdos_renyi_graph(1000, 0.1)"
   ]
  },
  {
   "cell_type": "code",
   "execution_count": 139,
   "id": "61bd0cc0",
   "metadata": {},
   "outputs": [],
   "source": [
    "deg = get_all_degrees(G)\n",
    "deg_sum = sum(deg)"
   ]
  },
  {
   "cell_type": "code",
   "execution_count": 140,
   "id": "86cff3d0",
   "metadata": {},
   "outputs": [
    {
     "name": "stdout",
     "output_type": "stream",
     "text": [
      "Grau médio:  100.362\n"
     ]
    }
   ],
   "source": [
    "print('Grau médio: ', deg_sum/len(deg))"
   ]
  },
  {
   "cell_type": "code",
   "execution_count": 141,
   "id": "6bf9745e",
   "metadata": {},
   "outputs": [
    {
     "name": "stdout",
     "output_type": "stream",
     "text": [
      "Variancia do grau:  10167.336\n"
     ]
    }
   ],
   "source": [
    "print('Variancia do grau: ', momment(G, 2))"
   ]
  },
  {
   "cell_type": "code",
   "execution_count": 142,
   "id": "db983920",
   "metadata": {},
   "outputs": [
    {
     "name": "stdout",
     "output_type": "stream",
     "text": [
      "Clustering:  0.10039083452858673\n"
     ]
    }
   ],
   "source": [
    "print('Clustering: ', nx.average_clustering(G))"
   ]
  },
  {
   "cell_type": "markdown",
   "id": "901fdc95",
   "metadata": {},
   "source": [
    "2) Gere um small world / watts strogatz com N=1000, <k>=10, p=0.1. Qual o valor do grau médio, segundo momento do grau e clustering?"
   ]
  },
  {
   "cell_type": "code",
   "execution_count": 143,
   "id": "c6cbed5c",
   "metadata": {},
   "outputs": [],
   "source": [
    "G = nx.watts_strogatz_graph(1000, 10, 0.1)"
   ]
  },
  {
   "cell_type": "code",
   "execution_count": 144,
   "id": "9f4e3427",
   "metadata": {},
   "outputs": [],
   "source": [
    "ws_deg = get_all_degrees(G)"
   ]
  },
  {
   "cell_type": "code",
   "execution_count": 145,
   "id": "6de0f702",
   "metadata": {},
   "outputs": [
    {
     "name": "stdout",
     "output_type": "stream",
     "text": [
      "Grau médio:  10.0\n"
     ]
    }
   ],
   "source": [
    "print('Grau médio: ', sum(ws_deg)/len(ws_deg))"
   ]
  },
  {
   "cell_type": "code",
   "execution_count": 146,
   "id": "af99d649",
   "metadata": {},
   "outputs": [
    {
     "name": "stdout",
     "output_type": "stream",
     "text": [
      "Variancia do grau:  100.954\n"
     ]
    }
   ],
   "source": [
    "print('Variancia do grau: ', momment(G, 2))"
   ]
  },
  {
   "cell_type": "code",
   "execution_count": 147,
   "id": "874c6c4a",
   "metadata": {},
   "outputs": [
    {
     "name": "stdout",
     "output_type": "stream",
     "text": [
      "Clustering:  0.4965877844377849\n"
     ]
    }
   ],
   "source": [
    "print('Clustering: ', nx.average_clustering(G))"
   ]
  },
  {
   "cell_type": "markdown",
   "id": "ee18a1d3",
   "metadata": {},
   "source": [
    "3) Considere uma rede Erdos Renyi com N=1000. Qual o valor da entropia de shannon para grau medio = 5, 10 e 50?"
   ]
  },
  {
   "cell_type": "code",
   "execution_count": 148,
   "id": "b67a2a30",
   "metadata": {},
   "outputs": [
    {
     "name": "stdout",
     "output_type": "stream",
     "text": [
      "Entropia de Shannon com <k>=5: 3.111236931615816\n",
      "Entropia de Shannon com <k>=10: 3.678178266310198\n",
      "Entropia de Shannon com <k>=50: 4.827596054540825\n"
     ]
    }
   ],
   "source": [
    "n=1000\n",
    "for k in [5,10,50]:\n",
    "    p = k/(n-1)\n",
    "    er = nx.erdos_renyi_graph(n, p)\n",
    "    maxk, Pk = degree_distribution(er)\n",
    "    entropy = shannon_entropy(Pk)\n",
    "    print(f'Entropia de Shannon com <k>={k}: {entropy}')"
   ]
  },
  {
   "cell_type": "markdown",
   "id": "d1ddfc33",
   "metadata": {},
   "source": [
    "4) Para o modelo small world, calcule o valor medio da menor distancia para p={0,0.01,0.05,0.1}. Considere N=100 e grau medio 8."
   ]
  },
  {
   "cell_type": "code",
   "execution_count": 149,
   "id": "8ea55af3",
   "metadata": {},
   "outputs": [
    {
     "name": "stdout",
     "output_type": "stream",
     "text": [
      "Média das menores distancias (p=0): 6.696969696969697\n",
      "Média das menores distancias (p=0.01): 4.2844444444444445\n",
      "Média das menores distancias (p=0.05): 3.9145454545454546\n",
      "Média das menores distancias (p=0.1): 3.0868686868686868\n"
     ]
    }
   ],
   "source": [
    "N = 100\n",
    "k = 8\n",
    "for p in [0, 0.01, 0.05, 0.1]:\n",
    "    G = nx.watts_strogatz_graph(N, k, p, seed=42)\n",
    "    spl = nx.average_shortest_path_length(G)\n",
    "    print(f'Média das menores distancias (p={p}): {spl}')"
   ]
  },
  {
   "cell_type": "markdown",
   "id": "b03af0c5",
   "metadata": {},
   "source": [
    "5) Considere modelo ER. Para redes com grau médio = {5, 10 e 50} e N=1000, qual o valor de assortatividade?"
   ]
  },
  {
   "cell_type": "code",
   "execution_count": 126,
   "id": "7edf6064",
   "metadata": {},
   "outputs": [
    {
     "name": "stdout",
     "output_type": "stream",
     "text": [
      "Assortatividade com <k>=5: -0.008654865538018962\n",
      "Assortatividade com <k>=10: 0.0099266668596948\n",
      "Assortatividade com <k>=50: -0.007147329215027451\n"
     ]
    }
   ],
   "source": [
    "n=1000\n",
    "for k in [5,10,50]:\n",
    "    p = k/(n-1)\n",
    "    er = nx.erdos_renyi_graph(n, p)\n",
    "    assort = nx.degree_assortativity_coefficient(er)\n",
    "    print(f'Assortatividade com <k>={k}: {assort}')"
   ]
  },
  {
   "cell_type": "markdown",
   "id": "4ffda37b",
   "metadata": {},
   "source": [
    "6) Considere o modelo small world, grau médio 10 e N=1000. Qual a assortatividade para p={0.01,0.05,0.2}"
   ]
  },
  {
   "cell_type": "code",
   "execution_count": 128,
   "id": "686b461b",
   "metadata": {},
   "outputs": [
    {
     "name": "stdout",
     "output_type": "stream",
     "text": [
      "Assortatividade com <k>=10: 0.01998132244561447\n",
      "Assortatividade com <k>=10: -0.0008741854597017073\n",
      "Assortatividade com <k>=10: 0.0013574485091314835\n"
     ]
    }
   ],
   "source": [
    "N = 1000\n",
    "k = 10\n",
    "for p in [0.01, 0.05, 0.2]:\n",
    "    G = nx.watts_strogatz_graph(N, k, p, seed=42)\n",
    "    assort = nx.degree_assortativity_coefficient(G)\n",
    "    print(f'Assortatividade com <k>={k}: {assort}')"
   ]
  },
  {
   "cell_type": "code",
   "execution_count": null,
   "id": "19869329",
   "metadata": {},
   "outputs": [],
   "source": []
  }
 ],
 "metadata": {
  "kernelspec": {
   "display_name": "Python 3 (ipykernel)",
   "language": "python",
   "name": "python3"
  },
  "language_info": {
   "codemirror_mode": {
    "name": "ipython",
    "version": 3
   },
   "file_extension": ".py",
   "mimetype": "text/x-python",
   "name": "python",
   "nbconvert_exporter": "python",
   "pygments_lexer": "ipython3",
   "version": "3.10.10"
  }
 },
 "nbformat": 4,
 "nbformat_minor": 5
}
