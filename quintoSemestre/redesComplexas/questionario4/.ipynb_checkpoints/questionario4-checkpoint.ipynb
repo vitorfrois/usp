{
 "cells": [
  {
   "cell_type": "code",
   "execution_count": 1,
   "id": "136d37f1",
   "metadata": {},
   "outputs": [
    {
     "name": "stdout",
     "output_type": "stream",
     "text": [
      "pip 23.1 from /home/vitor/Documents/usp/quintoSemestre/redesComplexas/venv_redes_complexas/lib/python3.10/site-packages/pip (python 3.10)\r\n"
     ]
    }
   ],
   "source": [
    "!pip -V"
   ]
  },
  {
   "cell_type": "code",
   "execution_count": 31,
   "id": "d4ea6319",
   "metadata": {},
   "outputs": [],
   "source": [
    "import networkx as nx\n",
    "import scipy\n",
    "import numpy as np"
   ]
  },
  {
   "cell_type": "code",
   "execution_count": 3,
   "id": "3deff6a1",
   "metadata": {},
   "outputs": [],
   "source": [
    "def process_graph(G):\n",
    "    G = G.to_undirected()\n",
    "    G.remove_edges_from(nx.selfloop_edges(G))\n",
    "    Gcc = sorted(nx.connected_components(G), key=len, reverse=True)\n",
    "    G = G.subgraph(Gcc[0])\n",
    "    G = nx.convert_node_labels_to_integers(G, first_label=0)\n",
    "    return G"
   ]
  },
  {
   "cell_type": "code",
   "execution_count": 4,
   "id": "ade07003",
   "metadata": {},
   "outputs": [],
   "source": [
    "jazz_graph = nx.read_edgelist('data/jazz.txt', nodetype=int)\n",
    "jazz_graph = process_graph(jazz_graph)"
   ]
  },
  {
   "cell_type": "code",
   "execution_count": 37,
   "id": "eed4dce5",
   "metadata": {},
   "outputs": [
    {
     "name": "stdout",
     "output_type": "stream",
     "text": [
      "Community 0 : [0, 1, 2, 3, 4, 5, 6, 7, 8, 9, 10, 11, 12, 13, 14, 15, 16, 17, 18, 19, 20, 21, 22, 23, 100, 111, 120, 125, 126, 127, 128, 129, 130, 132, 134, 135, 136, 144, 145, 146, 147, 148, 149, 150, 151, 152, 157, 158, 159, 163, 164, 165, 166, 167, 168, 169, 170, 171, 172, 173, 174, 175, 176, 177, 178, 191, 194]\n",
      "Community 1 : [24, 25, 26, 27, 47, 53, 54, 73, 74, 75, 79, 80, 81, 82, 83, 84, 85, 86, 87, 88, 89, 90, 91, 92, 93, 94, 95, 96, 97, 98, 99, 101, 102, 103, 104, 105, 106, 107, 108, 109, 110, 112, 113, 114, 115, 116, 117, 118, 119, 121, 122, 123, 124, 131, 133, 137, 139, 143, 154, 156, 161, 162, 190, 192, 193, 197]\n",
      "Community 2 : [28, 29, 30, 31, 32, 33, 34, 35, 36, 37, 38, 39, 40, 41, 42, 43, 44, 45, 46, 48, 49, 50, 51, 52, 55, 56, 57, 58, 59, 60, 61, 62, 63, 64, 65, 66, 67, 68, 69, 70, 71, 72, 76, 77, 78, 138, 140, 141, 142, 153, 155, 160, 179, 180, 181, 182, 183, 184, 185, 189, 195, 196]\n",
      "Community 3 : [186, 187, 188]\n"
     ]
    }
   ],
   "source": [
    "from networkx.algorithms.community import greedy_modularity_communities\n",
    "\n",
    "communities = list(greedy_modularity_communities(jazz_graph))\n",
    "for k in range(0,len(communities)):\n",
    "    print('Community',k,':', sorted(communities[k]))"
   ]
  },
  {
   "cell_type": "code",
   "execution_count": 38,
   "id": "eb050e6a",
   "metadata": {},
   "outputs": [
    {
     "ename": "IndexError",
     "evalue": "list index out of range",
     "output_type": "error",
     "traceback": [
      "\u001b[0;31m---------------------------------------------------------------------------\u001b[0m",
      "\u001b[0;31mIndexError\u001b[0m                                Traceback (most recent call last)",
      "Cell \u001b[0;32mIn[38], line 1\u001b[0m\n\u001b[0;32m----> 1\u001b[0m \u001b[38;5;28mprint\u001b[39m(\u001b[38;5;124m'\u001b[39m\u001b[38;5;124mJazz Modularity using fast greedy: \u001b[39m\u001b[38;5;124m'\u001b[39m, \u001b[43mmodularity\u001b[49m\u001b[43m(\u001b[49m\u001b[43mjazz_graph\u001b[49m\u001b[43m,\u001b[49m\u001b[43m \u001b[49m\u001b[43mcommunities\u001b[49m\u001b[43m)\u001b[49m)\n",
      "Cell \u001b[0;32mIn[20], line 9\u001b[0m, in \u001b[0;36mmodularity\u001b[0;34m(G, c)\u001b[0m\n\u001b[1;32m      7\u001b[0m ki \u001b[38;5;241m=\u001b[39m \u001b[38;5;28mlen\u001b[39m(\u001b[38;5;28mlist\u001b[39m(G\u001b[38;5;241m.\u001b[39mneighbors(i)))\n\u001b[1;32m      8\u001b[0m \u001b[38;5;28;01mfor\u001b[39;00m j \u001b[38;5;129;01min\u001b[39;00m np\u001b[38;5;241m.\u001b[39marange(\u001b[38;5;241m0\u001b[39m,N):\n\u001b[0;32m----> 9\u001b[0m     \u001b[38;5;28;01mif\u001b[39;00m(c[i]\u001b[38;5;241m==\u001b[39m\u001b[43mc\u001b[49m\u001b[43m[\u001b[49m\u001b[43mj\u001b[49m\u001b[43m]\u001b[49m):\n\u001b[1;32m     10\u001b[0m         kj \u001b[38;5;241m=\u001b[39m \u001b[38;5;28mlen\u001b[39m(\u001b[38;5;28mlist\u001b[39m(G\u001b[38;5;241m.\u001b[39mneighbors(j)))\n\u001b[1;32m     11\u001b[0m         Q \u001b[38;5;241m=\u001b[39m Q \u001b[38;5;241m+\u001b[39m A[i,j]\u001b[38;5;241m-\u001b[39m(ki\u001b[38;5;241m*\u001b[39mkj)\u001b[38;5;241m/\u001b[39m(\u001b[38;5;241m2\u001b[39m\u001b[38;5;241m*\u001b[39mM)\n",
      "\u001b[0;31mIndexError\u001b[0m: list index out of range"
     ]
    }
   ],
   "source": [
    "print('Jazz Modularity using fast greedy: ', nx.community.modularity(jazz_graph, communities))"
   ]
  },
  {
   "cell_type": "code",
   "execution_count": 17,
   "id": "b9e7921d",
   "metadata": {},
   "outputs": [],
   "source": [
    "from community import community_louvain"
   ]
  },
  {
   "cell_type": "code",
   "execution_count": 18,
   "id": "7d3ec832",
   "metadata": {},
   "outputs": [],
   "source": [
    "def get_louvain_modularity(G):\n",
    "    partitions = community_louvain.best_partition(G)\n",
    "    n_communities = len(set(partitions.values()))\n",
    "    louvain_comm = {}\n",
    "    for i in range(n_communities):\n",
    "        louvain_comm[i] = set()\n",
    "    \n",
    "    for key in partitions:\n",
    "        louvain_comm[partitions[key]].add(key)\n",
    "\n",
    "    return nx.community.modularity(jazz_graph, louvain_comm.values())"
   ]
  },
  {
   "cell_type": "code",
   "execution_count": 35,
   "id": "edffdbdd",
   "metadata": {},
   "outputs": [
    {
     "data": {
      "text/plain": [
       "0.008078926157852079"
      ]
     },
     "execution_count": 35,
     "metadata": {},
     "output_type": "execute_result"
    }
   ],
   "source": [
    "get_louvain_modularity_2(jazz_graph)"
   ]
  },
  {
   "cell_type": "code",
   "execution_count": 34,
   "id": "b257cf65",
   "metadata": {},
   "outputs": [
    {
     "name": "stdout",
     "output_type": "stream",
     "text": [
      "LFR Louvain Modularity (mu = 0.05):  0.643639535397838\n",
      "LFR Louvain Modularity (mu = 0.1):  0.5427818606053953\n",
      "LFR Louvain Modularity (mu = 0.2):  0.44487909975820294\n"
     ]
    }
   ],
   "source": [
    "N = 128\n",
    "tau1 = 3\n",
    "tau2 = 1.5\n",
    "k =16\n",
    "minc = 32\n",
    "maxc = 32\n",
    "\n",
    "\n",
    "for mu in [0.05, 0.1, 0.2]:\n",
    "    lfr_graph = nx.LFR_benchmark_graph(n = N, tau1 = tau1, tau2 = tau2, mu = mu, min_degree = k, max_degree = k, \n",
    "                           min_community=minc, max_community = maxc, seed = 10)\n",
    "#     lfr_graph = process_graph(lfr_graph)\n",
    "    print(f'LFR Louvain Modularity (mu = {mu}): ', get_louvain_modularity_2(lfr_graph))\n",
    "    "
   ]
  },
  {
   "cell_type": "code",
   "execution_count": 20,
   "id": "9b620219",
   "metadata": {},
   "outputs": [],
   "source": [
    "def modularity(G, c):\n",
    "    A = nx.adjacency_matrix(G)\n",
    "    N = len(G)\n",
    "    M = G.number_of_edges()\n",
    "    Q = 0\n",
    "    for i in np.arange(0,N):\n",
    "        ki = len(list(G.neighbors(i)))\n",
    "        for j in np.arange(0,N):\n",
    "            if(c[i]==c[j]):\n",
    "                kj = len(list(G.neighbors(j)))\n",
    "                Q = Q + A[i,j]-(ki*kj)/(2*M)\n",
    "    Q = Q/(2*M)\n",
    "    return Q"
   ]
  },
  {
   "cell_type": "code",
   "execution_count": 33,
   "id": "1ba1b5bd",
   "metadata": {},
   "outputs": [],
   "source": [
    "def get_louvain_modularity_2(G):\n",
    "    partitions = community_louvain.best_partition(G)\n",
    "    mod = modularity(lfr_graph, partitions)\n",
    "    return mod"
   ]
  },
  {
   "cell_type": "code",
   "execution_count": 44,
   "id": "6adac55b",
   "metadata": {},
   "outputs": [
    {
     "name": "stdout",
     "output_type": "stream",
     "text": [
      "LFR Louvain Modularity (mu = 0.05):  0.643639535397838\n",
      "LFR Louvain Modularity (mu = 0.2):  0.44487909975820294\n",
      "LFR Louvain Modularity (mu = 0.4):  0.17614025189908375\n"
     ]
    }
   ],
   "source": [
    "N = 128\n",
    "tau1 = 3\n",
    "tau2 = 1.5\n",
    "k =16\n",
    "minc = 32\n",
    "maxc = 32\n",
    "\n",
    "for mu in [0.05, 0.2, 0.4]:\n",
    "    lfr_graph = nx.LFR_benchmark_graph(n = N, tau1 = tau1, tau2 = tau2, mu = mu, min_degree = k, max_degree = k, \n",
    "                           min_community=minc, max_community = maxc, seed = 10)\n",
    "#     lfr_graph = process_graph(lfr_graph)\n",
    "    print(f'LFR Louvain Modularity (mu = {mu}): ', get_louvain_modularity_2(lfr_graph))\n"
   ]
  },
  {
   "cell_type": "code",
   "execution_count": null,
   "id": "7e08eaaa",
   "metadata": {},
   "outputs": [],
   "source": []
  }
 ],
 "metadata": {
  "kernelspec": {
   "display_name": "Python 3 (ipykernel)",
   "language": "python",
   "name": "python3"
  },
  "language_info": {
   "codemirror_mode": {
    "name": "ipython",
    "version": 3
   },
   "file_extension": ".py",
   "mimetype": "text/x-python",
   "name": "python",
   "nbconvert_exporter": "python",
   "pygments_lexer": "ipython3",
   "version": "3.10.10"
  }
 },
 "nbformat": 4,
 "nbformat_minor": 5
}
