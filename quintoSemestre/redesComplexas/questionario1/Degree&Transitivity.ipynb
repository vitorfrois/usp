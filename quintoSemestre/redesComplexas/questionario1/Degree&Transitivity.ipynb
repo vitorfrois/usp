{
  "nbformat": 4,
  "nbformat_minor": 0,
  "metadata": {
    "colab": {
      "provenance": []
    },
    "kernelspec": {
      "name": "python3",
      "display_name": "Python 3"
    },
    "language_info": {
      "name": "python"
    }
  },
  "cells": [
    {
      "cell_type": "code",
      "execution_count": null,
      "metadata": {
        "id": "LY9Yr8jQtgLb"
      },
      "outputs": [],
      "source": [
        "from numpy  import *\n",
        "import numpy as np\n",
        "import matplotlib.pyplot as plt\n",
        "import networkx as nx\n",
        "import math"
      ]
    },
    {
      "cell_type": "code",
      "source": [
        "def plot_graph(G):\n",
        "  plt.figure(figsize=(12,10))\n",
        "  pos = nx.spring_layout(G)\n",
        "  nx.draw(G, pos, node_color=\"blue\", node_size=500)\n"
      ],
      "metadata": {
        "id": "G-p0WDGsxLMs"
      },
      "execution_count": null,
      "outputs": []
    },
    {
      "cell_type": "markdown",
      "source": [
        "$$E(x^m)=<x^m>=\\sum^{\\inf}_{x=0}x^mp(x=x)$$"
      ],
      "metadata": {
        "id": "dZA8dK4L0ZAw"
      }
    },
    {
      "cell_type": "code",
      "source": [
        "def momment(G,m):\n",
        "    M = 0\n",
        "    N = len(G)\n",
        "    for i in G.nodes:\n",
        "        M = M + G.degree(i)**m\n",
        "    M = M/N\n",
        "    return M"
      ],
      "metadata": {
        "id": "6-xzAcfLuC_J"
      },
      "execution_count": null,
      "outputs": []
    },
    {
      "cell_type": "code",
      "source": [
        "G = nx.read_gml(\"data/lesmis.gml\")\n",
        "print('Terceiro momento de k:', momment(G,3))\n",
        "print('Quarto momento de k:', momment(G,4))"
      ],
      "metadata": {
        "colab": {
          "base_uri": "https://localhost:8080/"
        },
        "id": "-NfsRPHutnqr",
        "outputId": "1a8c1977-2c31-4f4e-baa7-d921b8cf545e"
      },
      "execution_count": null,
      "outputs": [
        {
          "output_type": "stream",
          "name": "stdout",
          "text": [
            "Terceiro momento de k: 1408.025974025974\n",
            "Quarto momento de k: 33592.72727272727\n"
          ]
        }
      ]
    },
    {
      "cell_type": "code",
      "source": [
        "def degree_distribution(G):\n",
        "    vk = dict(G.degree())\n",
        "    vk = list(vk.values())  # we get only the degree values\n",
        "    vk = np.array(vk)\n",
        "    maxk = np.max(vk)\n",
        "    mink = np.min(vk)\n",
        "    kvalues= np.arange(0,maxk+1) # possible values of k\n",
        "    Pk = np.zeros(maxk+1) # P(k)\n",
        "    for k in vk:\n",
        "        Pk[k] = Pk[k] + 1\n",
        "    Pk = Pk/sum(Pk) # the sum of the elements of P(k) must to be equal to one\n",
        "    return kvalues,Pk"
      ],
      "metadata": {
        "id": "NgzPv_6BuIuQ"
      },
      "execution_count": null,
      "outputs": []
    },
    {
      "cell_type": "markdown",
      "source": [
        "$$\\alpha = \\frac{<k^2>}{<k>}$$"
      ],
      "metadata": {
        "id": "awG-ECCU044W"
      }
    },
    {
      "cell_type": "code",
      "source": [
        "def complexity(G):\n",
        "  m1 = momment(G,1)\n",
        "  m2 = momment(G, 2)\n",
        "  complexity = m2/m1\n",
        "  return complexity"
      ],
      "metadata": {
        "id": "9vuuMzWDvdE9"
      },
      "execution_count": null,
      "outputs": []
    },
    {
      "cell_type": "code",
      "source": [
        "powergrid = nx.read_edgelist('data/powergrid.txt')\n",
        "print('Complexidade de powergrid: ', complexity(powergrid))"
      ],
      "metadata": {
        "colab": {
          "base_uri": "https://localhost:8080/"
        },
        "id": "KqKB-8JYweUM",
        "outputId": "95bfb5e8-611f-4ba8-c55a-9a0a7a2264de"
      },
      "execution_count": null,
      "outputs": [
        {
          "output_type": "stream",
          "name": "stdout",
          "text": [
            "Complexidade de powergrid:  3.8712465878070974\n"
          ]
        }
      ]
    },
    {
      "cell_type": "markdown",
      "source": [
        "Entropia de Shannon $$H(x)=-\\sum_{x}p(x)\\log_2p(x)$$"
      ],
      "metadata": {
        "id": "2rX6DI7Qz1XQ"
      }
    },
    {
      "cell_type": "code",
      "source": [
        "def shannon_entropy(G):\n",
        "    k,Pk = degree_distribution(G)\n",
        "    H = 0\n",
        "    for p in Pk:\n",
        "        if(p > 0):\n",
        "            H = H - p*math.log(p, 2)\n",
        "    return H"
      ],
      "metadata": {
        "id": "Gyfw6H_SuMIz"
      },
      "execution_count": null,
      "outputs": []
    },
    {
      "cell_type": "code",
      "source": [
        "euroroad = nx.read_edgelist('data/euroroad.txt')\n",
        "print('Entropia de Shannon: ', shannon_entropy(euroroad))"
      ],
      "metadata": {
        "id": "Z7LgdSo6uTro",
        "colab": {
          "base_uri": "https://localhost:8080/"
        },
        "outputId": "946ea6a5-266f-492c-a5c1-60269743f3ba"
      },
      "execution_count": null,
      "outputs": [
        {
          "output_type": "execute_result",
          "data": {
            "text/plain": [
              "2.0033103874527756"
            ]
          },
          "metadata": {},
          "execution_count": 34
        }
      ]
    },
    {
      "cell_type": "code",
      "source": [
        "usairport = nx.read_weighted_edgelist('data/usairport.txt')\n",
        "print('Transitividade: ', nx.transitivity(usairport))\n",
        "print('Clustering: ', nx.average_clustering(usairport))\n",
        "print('Complexidade: ', complexity(usairport))\n",
        "print('Entropia de Shannon: ', shannon_entropy(usairport))\n"
      ],
      "metadata": {
        "colab": {
          "base_uri": "https://localhost:8080/"
        },
        "id": "-ZcxFhUyyLMJ",
        "outputId": "455680be-0bd4-430c-a7f5-086da3178e32"
      },
      "execution_count": null,
      "outputs": [
        {
          "output_type": "stream",
          "name": "stdout",
          "text": [
            "Transitividade:  0.38414344664491556\n",
            "Clustering:  0.5041525392095769\n",
            "Complexidade:  112.22224803950043\n",
            "Entropia de Shannon:  4.985977646539227\n"
          ]
        }
      ]
    },
    {
      "cell_type": "code",
      "source": [],
      "metadata": {
        "id": "_hBS2RTbylep"
      },
      "execution_count": null,
      "outputs": []
    }
  ]
}