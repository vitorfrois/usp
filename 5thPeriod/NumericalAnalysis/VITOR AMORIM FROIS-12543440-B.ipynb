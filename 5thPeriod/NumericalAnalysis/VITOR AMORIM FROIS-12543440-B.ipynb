{
 "cells": [
  {
   "cell_type": "markdown",
   "metadata": {},
   "source": [
    "# Trabalho 1 de Cálculo Numérico\n",
    "### Vítor Amorim Fróis\n",
    "### 12543440"
   ]
  },
  {
   "cell_type": "markdown",
   "metadata": {
    "id": "XEMypkDm-Vux"
   },
   "source": [
    "# 1) Sistemas Lineares com Matrizes Simétricas\n"
   ]
  },
  {
   "cell_type": "code",
   "execution_count": 1,
   "metadata": {
    "id": "QuDbSnIutIAr"
   },
   "outputs": [],
   "source": [
    "import numpy as np"
   ]
  },
  {
   "cell_type": "markdown",
   "metadata": {
    "id": "Gp7nXX13rSan"
   },
   "source": [
    "#### Considere a Matriz $A$ e o vetor $b$ dados. Considere $n$ a dimensão do problema."
   ]
  },
  {
   "cell_type": "markdown",
   "metadata": {
    "id": "n0qLrpmDsELV"
   },
   "source": [
    "#### a) Escreva um código que monte a matriz A para n = 1000.\n"
   ]
  },
  {
   "cell_type": "code",
   "execution_count": 2,
   "metadata": {
    "id": "BeG-apbMtBGT"
   },
   "outputs": [],
   "source": [
    "n = 1000\n",
    "tol = 10e-20"
   ]
  },
  {
   "cell_type": "code",
   "execution_count": 3,
   "metadata": {
    "id": "WtpGPiMGrA6Q"
   },
   "outputs": [],
   "source": [
    "def create_band_matrix(n):\n",
    "  band_matrix = np.zeros((n,n))\n",
    "  for i in range(n):\n",
    "    for j in range(n):\n",
    "      if(abs(i-j) == 0):\n",
    "        band_matrix[i, j] = 100\n",
    "      elif(abs(i-j) == 1):\n",
    "        band_matrix[i, j] = -4\n",
    "      elif(abs(i-j) == 2):\n",
    "        band_matrix[i, j] = 1\n",
    "  return band_matrix"
   ]
  },
  {
   "cell_type": "code",
   "execution_count": 4,
   "metadata": {
    "colab": {
     "base_uri": "https://localhost:8080/"
    },
    "id": "06KtJtEws4U5",
    "outputId": "dbcc2cd1-4cb2-4b1d-fdb9-7639112da916"
   },
   "outputs": [
    {
     "data": {
      "text/plain": [
       "array([[100.,  -4.,   1., ...,   0.,   0.,   0.],\n",
       "       [ -4., 100.,  -4., ...,   0.,   0.,   0.],\n",
       "       [  1.,  -4., 100., ...,   0.,   0.,   0.],\n",
       "       ...,\n",
       "       [  0.,   0.,   0., ..., 100.,  -4.,   1.],\n",
       "       [  0.,   0.,   0., ...,  -4., 100.,  -4.],\n",
       "       [  0.,   0.,   0., ...,   1.,  -4., 100.]])"
      ]
     },
     "execution_count": 4,
     "metadata": {},
     "output_type": "execute_result"
    }
   ],
   "source": [
    "A = create_band_matrix(n)\n",
    "A"
   ]
  },
  {
   "cell_type": "code",
   "execution_count": 5,
   "metadata": {
    "id": "Lirx9jPOyWch"
   },
   "outputs": [],
   "source": [
    "b = np.ones(n) / (n**4)"
   ]
  },
  {
   "cell_type": "markdown",
   "metadata": {
    "id": "jwhpmFnTwy9i"
   },
   "source": [
    "#### b) Escreva um código que faça a decomposição de Cholesky de uma matriz simétrica definida positiva qualquer"
   ]
  },
  {
   "cell_type": "code",
   "execution_count": 6,
   "metadata": {
    "id": "r4PpH-bztB6F"
   },
   "outputs": [],
   "source": [
    "def cholesky(A):\n",
    "  n = np.shape(A)[0]\n",
    "  L = np.zeros((n,n))\n",
    "  for i in np.arange(n):\n",
    "    for j in np.arange(i+1):\n",
    "      if i == j:\n",
    "        L[i, i] = np.sqrt(A[i, i] - np.sum(L[i, :i] ** 2))\n",
    "      else:\n",
    "        L[i, j] = (A[i, j] - np.sum(L[i, :j] * L[j, :j])) / L[j, j]\n",
    "\n",
    "  return L"
   ]
  },
  {
   "cell_type": "code",
   "execution_count": 7,
   "metadata": {
    "colab": {
     "base_uri": "https://localhost:8080/"
    },
    "id": "GbXWTg6Rup4u",
    "outputId": "1288939f-216c-492a-8b45-a5f6433161b0"
   },
   "outputs": [
    {
     "data": {
      "text/plain": [
       "array([[10.        ,  0.        ,  0.        , ...,  0.        ,\n",
       "         0.        ,  0.        ],\n",
       "       [-0.4       ,  9.9919968 ,  0.        , ...,  0.        ,\n",
       "         0.        ,  0.        ],\n",
       "       [ 0.1       , -0.39631718,  9.99164314, ...,  0.        ,\n",
       "         0.        ,  0.        ],\n",
       "       ...,\n",
       "       [ 0.        ,  0.        ,  0.        , ...,  9.99164043,\n",
       "         0.        ,  0.        ],\n",
       "       [ 0.        ,  0.        ,  0.        , ..., -0.39636438,\n",
       "         9.99164043,  0.        ],\n",
       "       [ 0.        ,  0.        ,  0.        , ...,  0.10008367,\n",
       "        -0.39636438,  9.99164043]])"
      ]
     },
     "execution_count": 7,
     "metadata": {},
     "output_type": "execute_result"
    }
   ],
   "source": [
    "A_cholesky = cholesky(A)\n",
    "A_cholesky"
   ]
  },
  {
   "cell_type": "markdown",
   "metadata": {
    "id": "AF34hw6xxAuR"
   },
   "source": [
    "#### c) Usando as rotinas implementadas anteriormente, escreva um código para resolver um sistema $Ax = b$"
   ]
  },
  {
   "cell_type": "code",
   "execution_count": 8,
   "metadata": {
    "id": "9VK0meavur4g"
   },
   "outputs": [],
   "source": [
    "def gauss_siedel(A, b, tol):\n",
    "  n = np.shape(A)[0]\n",
    "  x0 = np.zeros(n)\n",
    "  L = np.tril(A)\n",
    "  R = np.triu(A, 1)\n",
    "  C = np.linalg.solve(-L, R)\n",
    "  g = np.linalg.solve(L, b)\n",
    "  kmax = 10000; k = 0;\n",
    "  while(np.linalg.norm(b-A@x0) > tol and k < kmax):\n",
    "    k = k+1\n",
    "    x0 = (C @ x0) + g\n",
    "  if k == kmax:\n",
    "    raise Exception('Method does not converge')\n",
    "  return x0"
   ]
  },
  {
   "cell_type": "code",
   "execution_count": 9,
   "metadata": {
    "id": "snvKn_lFwqoe"
   },
   "outputs": [],
   "source": [
    "def solve_system(A, b):\n",
    "  L = cholesky(A)\n",
    "  y = np.linalg.solve(L, b)\n",
    "  x = np.linalg.solve(L.T, y)\n",
    "  return x"
   ]
  },
  {
   "cell_type": "code",
   "execution_count": 10,
   "metadata": {
    "id": "7b-h6amyx_t6"
   },
   "outputs": [],
   "source": [
    "x = solve_system(A, b)"
   ]
  },
  {
   "cell_type": "code",
   "execution_count": 11,
   "metadata": {
    "colab": {
     "base_uri": "https://localhost:8080/"
    },
    "id": "bfZbF3ko4HvZ",
    "outputId": "d964a56c-49ab-4b22-d97d-086ef3c81b62"
   },
   "outputs": [
    {
     "data": {
      "text/plain": [
       "2.9723344551319323e-09"
      ]
     },
     "execution_count": 11,
     "metadata": {},
     "output_type": "execute_result"
    }
   ],
   "source": [
    "method_error = np.linalg.norm((A @ b)-x)\n",
    "method_error"
   ]
  },
  {
   "cell_type": "markdown",
   "metadata": {
    "id": "9t_QQQxA4XpY"
   },
   "source": [
    "#### d) Escreva um código implementando o método de Jacobi para resolver um sistema $Ax = b$. Utilize o erro absoluto como critério de parada.\n"
   ]
  },
  {
   "cell_type": "code",
   "execution_count": 12,
   "metadata": {
    "id": "GcN4UyuGzGeS"
   },
   "outputs": [],
   "source": [
    "def gauss_jacobi(A,b,tol):\n",
    "  n = np.shape(A)[0]\n",
    "  D = np.diag(np.diag(A))\n",
    "  aux_C = np.linalg.solve(D,A)\n",
    "  C = np.eye(n) - aux_C\n",
    "  g = np.linalg.solve(D,b)\n",
    "  kmax = 10000 \n",
    "  k = 0\n",
    "  x0 = np.ones(n)\n",
    "  old_x0 = np.zeros(n)\n",
    "  \n",
    "  error = 10\n",
    "\n",
    "  while error>tol and k<kmax:\n",
    "      error = np.linalg.norm(x0 - old_x0)\n",
    "      k = k+1\n",
    "      old_x0 = x0\n",
    "      x0 = C.dot(x0)+g\n",
    "\n",
    "  x = x0\n",
    "  return x,k,error"
   ]
  },
  {
   "cell_type": "code",
   "execution_count": 13,
   "metadata": {
    "colab": {
     "base_uri": "https://localhost:8080/"
    },
    "id": "aetAAl5J7UU5",
    "outputId": "1a759d22-52f9-4279-8dcc-626b95df628e"
   },
   "outputs": [
    {
     "data": {
      "text/plain": [
       "3.016904157156495e-10"
      ]
     },
     "execution_count": 13,
     "metadata": {},
     "output_type": "execute_result"
    }
   ],
   "source": [
    "x, iterations, jacobi_error = gauss_jacobi(A, b, method_error)\n",
    "jacobi_error"
   ]
  },
  {
   "cell_type": "markdown",
   "metadata": {
    "id": "fVv7HczF50Kb"
   },
   "source": [
    "#### e) Vamos comparar o método direto de Cholesky com o iterativo de Jacobi neste exemplo. Observe quanto tempo leva para resolver o sistema usando Cholesky. Quantas iterações foram necessárias no método de Jacobi para obtermos a mesma precisão da solução dada pelo método de Cholesky ?\n"
   ]
  },
  {
   "cell_type": "code",
   "execution_count": 14,
   "metadata": {
    "id": "i5V8jSUzCKAa"
   },
   "outputs": [],
   "source": [
    "import time"
   ]
  },
  {
   "cell_type": "code",
   "execution_count": 15,
   "metadata": {
    "colab": {
     "base_uri": "https://localhost:8080/"
    },
    "id": "etz3NSbJ6D41",
    "outputId": "a8420038-93ff-4dfb-82d8-803ced250274"
   },
   "outputs": [
    {
     "name": "stdout",
     "output_type": "stream",
     "text": [
      "Resultado após 10 iterações: \n",
      "Tempo médio: 3.70s\n",
      "Erro: 2.9723344551319323e-09\n"
     ]
    }
   ],
   "source": [
    "# Cholesky method\n",
    "time_mean = 0\n",
    "iterations = 10\n",
    "for i in range(iterations):\n",
    "  start = time.time()\n",
    "  x = solve_system(A, b)\n",
    "  end = time.time()\n",
    "  time_mean += (end-start)\n",
    "time_mean /= iterations\n",
    "cholesky_error = np.linalg.norm((A@b) - x) \n",
    "print(f\"Resultado após {iterations} iterações: \")\n",
    "print(f\"Tempo médio: {time_mean:.2f}s\")\n",
    "print(f\"Erro: {cholesky_error}\")"
   ]
  },
  {
   "cell_type": "code",
   "execution_count": 16,
   "metadata": {
    "colab": {
     "base_uri": "https://localhost:8080/"
    },
    "id": "GAcFrJWc6cJ9",
    "outputId": "70b13115-f143-4828-ddec-e152d254dcd2"
   },
   "outputs": [
    {
     "name": "stdout",
     "output_type": "stream",
     "text": [
      "Resultado após as iterações: \n",
      "Tempo médio: 0.10s\n",
      "Iterações necessárias: 11\n",
      "Erro: 3.016904157156495e-10\n"
     ]
    }
   ],
   "source": [
    "# Jacobi method \n",
    "time_mean = 0\n",
    "iterations = 10\n",
    "for i in range(iterations):\n",
    "  start = time.time()\n",
    "  x, k, jacobi_error = gauss_jacobi(A, b, cholesky_error)\n",
    "  end = time.time()\n",
    "  time_mean += (end-start)\n",
    "time_mean /= iterations\n",
    "print(f\"Resultado após as iterações: \")\n",
    "print(f\"Tempo médio: {time_mean:.2f}s\")\n",
    "print(f\"Iterações necessárias: {k}\")\n",
    "print(f\"Erro: {jacobi_error}\")"
   ]
  },
  {
   "cell_type": "markdown",
   "metadata": {},
   "source": [
    "#### f)  É possível melhorar a implementação da decomposição de Cholesky para o exemplo em questão?\n",
    "\n",
    "Sim, é possível. Dado que estamos fazendo operações em um sistema com matriz de banda podemos ignorar os zeros para tornar o processamento mais rápido."
   ]
  },
  {
   "cell_type": "markdown",
   "metadata": {
    "id": "R5OsnKfE_a1O"
   },
   "source": [
    "# 2) Método de Newton para Sistemas Não-Lineares"
   ]
  },
  {
   "cell_type": "markdown",
   "metadata": {
    "id": "LvMuII9eApDD"
   },
   "source": [
    "$$ x^{k+1} = x^k - J_F(x^k)^{-1}F(x^k) $$"
   ]
  },
  {
   "cell_type": "markdown",
   "metadata": {
    "id": "rtjYWY1YA86h"
   },
   "source": [
    "### 1) Observando a equação acima, vê-se a necessidade de calcular a matriz inversa da Jacobiana.\n",
    "E possível calcular matrizes inversas usando a decomposição LU, sendo assim, implemente um código que:\n",
    "\n",
    "\n",
    "\n"
   ]
  },
  {
   "cell_type": "markdown",
   "metadata": {
    "id": "JNitEODjClbL"
   },
   "source": [
    "#### a) Calcule a fatoração LU de uma matriz qualquer;"
   ]
  },
  {
   "cell_type": "code",
   "execution_count": 17,
   "metadata": {
    "id": "kVnhXACSDlbJ"
   },
   "outputs": [],
   "source": [
    "def decompLU(A):\n",
    "  n = np.shape(A)[0]\n",
    "  L = np.eye(n) \n",
    "  U = np.zeros((n,n))\n",
    "  for k  in np.arange(n):\n",
    "      for j in np.arange(k,n):\n",
    "        U[k,j]=A[k,j]\n",
    "        for s in np.arange(k):\n",
    "            U[k,j] = U[k,j] - L[k,s]*U[s,j]\n",
    "      for i in np.arange(k+1,n):\n",
    "        L[i,k]=A[i,k]\n",
    "        for s in np.arange(k):\n",
    "            L[i,k] = L[i,k] - L[i,s]*U[s,k]\n",
    "        L[i,k] = L[i,k]/U[k,k]\n",
    "  return L, U  "
   ]
  },
  {
   "cell_type": "code",
   "execution_count": 18,
   "metadata": {
    "id": "bl2ndwygDoXO"
   },
   "outputs": [],
   "source": [
    "A = np.random.randint(1, 100, (3, 3))\n",
    "L, U = decompLU(A)"
   ]
  },
  {
   "cell_type": "markdown",
   "metadata": {
    "id": "0oc4nwwrCo-V"
   },
   "source": [
    "#### b) Resolva um sistema linear cujo lado direito é uma matriz;\n",
    "\n",
    "\n",
    "Nesse exercício vamos resolver as partes superior e inferior de um sistema. Para isso, usamos as funções abaixo:"
   ]
  },
  {
   "cell_type": "code",
   "execution_count": 19,
   "metadata": {},
   "outputs": [],
   "source": [
    "def solve_triangular_inferior(A, b):\n",
    "  n = len(b)\n",
    "  if len(A[0]) != n:\n",
    "    raise ValueError(f'Matrix sides length does not match! {len(A[0])} x {len(b)}')\n",
    "\n",
    "  x = np.zeros((n, 1))\n",
    "\n",
    "  for i in range(n):\n",
    "    s = 0\n",
    "    for j in range(i):\n",
    "      s += A[i][j]*x[j]\n",
    "\n",
    "    x[i] = (b[i] - s)/(A[i][i])\n",
    "\n",
    "  return x"
   ]
  },
  {
   "cell_type": "code",
   "execution_count": 20,
   "metadata": {},
   "outputs": [],
   "source": [
    "def solve_triangular_superior(A, b):\n",
    "  n = len(b)\n",
    "  if len(A[0]) != n:\n",
    "    raise ValueError(f'Matrix sides length does not match! {len(A[0])} x {len(b)}')\n",
    "\n",
    "  x = np.zeros((n, 1))\n",
    "\n",
    "  for i in range(n-1, 0, -1):\n",
    "    s = 0\n",
    "    for j in range(i+1, n+1, 1):\n",
    "      s += A[i-1][j-1]*x[j-1]\n",
    "\n",
    "    x[i-1] = (b[i-1] - s)/(A[i-1][i-1])\n",
    "\n",
    "  return x"
   ]
  },
  {
   "cell_type": "markdown",
   "metadata": {},
   "source": [
    "Montamos um sistema aleatório e a função para resolver, em duas partes."
   ]
  },
  {
   "cell_type": "code",
   "execution_count": 21,
   "metadata": {
    "id": "Zd9gmIRFcgG1"
   },
   "outputs": [],
   "source": [
    "A = np.random.randint(1, 100, (3, 3))\n",
    "b = np.random.randint(1, 100, (3, 3))"
   ]
  },
  {
   "cell_type": "code",
   "execution_count": 22,
   "metadata": {
    "id": "lyMqUlE_a_tY"
   },
   "outputs": [],
   "source": [
    "def solve_matrix_system(A, b):\n",
    "    y = np.linalg.solve(L, b)\n",
    "    x = np.linalg.solve(U, y)\n",
    "    return x"
   ]
  },
  {
   "cell_type": "code",
   "execution_count": 14,
   "metadata": {
    "colab": {
     "base_uri": "https://localhost:8080/"
    },
    "id": "DP8wfrWgbMxx",
    "outputId": "839a89d0-4728-4ee7-e7b2-1b652507ac2c"
   },
   "outputs": [
    {
     "ename": "NameError",
     "evalue": "name 'A' is not defined",
     "output_type": "error",
     "traceback": [
      "\u001b[0;31m---------------------------------------------------------------------------\u001b[0m",
      "\u001b[0;31mNameError\u001b[0m                                 Traceback (most recent call last)",
      "Cell \u001b[0;32mIn[14], line 1\u001b[0m\n\u001b[0;32m----> 1\u001b[0m x \u001b[38;5;241m=\u001b[39m solve_matrix_system(\u001b[43mA\u001b[49m, b)\n\u001b[1;32m      2\u001b[0m \u001b[38;5;28mprint\u001b[39m(\u001b[38;5;124mf\u001b[39m\u001b[38;5;124m'\u001b[39m\u001b[38;5;124mErro da função: \u001b[39m\u001b[38;5;132;01m{\u001b[39;00mnp\u001b[38;5;241m.\u001b[39mlinalg\u001b[38;5;241m.\u001b[39mnorm(A\u001b[38;5;250m \u001b[39m\u001b[38;5;241m@\u001b[39m\u001b[38;5;250m \u001b[39mx\u001b[38;5;250m \u001b[39m\u001b[38;5;241m-\u001b[39m\u001b[38;5;250m \u001b[39mb)\u001b[38;5;132;01m}\u001b[39;00m\u001b[38;5;124m'\u001b[39m)\n\u001b[1;32m      3\u001b[0m \u001b[38;5;28mprint\u001b[39m(f(x))\n",
      "\u001b[0;31mNameError\u001b[0m: name 'A' is not defined"
     ]
    }
   ],
   "source": [
    "x = solve_matrix_system(A, b)\n",
    "print(f'Erro da função: {np.linalg.norm(A @ x - b)}')\n",
    "print(f(x))"
   ]
  },
  {
   "cell_type": "markdown",
   "metadata": {
    "id": "K-uClIcRCukG"
   },
   "source": [
    "#### c) Finalmente, calcule a inversa de uma matriz qualquer resolvendo vários sistemas lineares.\n",
    "\n",
    "Sabemos que $A\\times A^{-1}=I$, então montamos um sistema do tipo $A\\times X=I$ para obter $X$.\n",
    "\n",
    "Nos aproveitamos da propriedade "
   ]
  },
  {
   "cell_type": "code",
   "execution_count": null,
   "metadata": {
    "id": "tz7j6bp7I1o1"
   },
   "outputs": [],
   "source": [
    "def inverse(A):\n",
    "    return solve_matrix_system(A, np.eye(A.shape[0]))"
   ]
  },
  {
   "cell_type": "code",
   "execution_count": null,
   "metadata": {
    "colab": {
     "base_uri": "https://localhost:8080/",
     "height": 168
    },
    "id": "K79HsnO9I3pr",
    "outputId": "35aee438-af39-47d8-9bdc-d5c8a44cef2f"
   },
   "outputs": [],
   "source": [
    "inv_A = solve_matrix_system(A, np.eye(A.shape[0]))\n",
    "print(abs(np.round(A @ inv_A)))"
   ]
  },
  {
   "cell_type": "code",
   "execution_count": null,
   "metadata": {
    "colab": {
     "base_uri": "https://localhost:8080/"
    },
    "id": "RzkmzUr_JBeA",
    "outputId": "eb5fc908-c9f9-4294-ad66-7f0f22f90774"
   },
   "outputs": [],
   "source": [
    "print(f'Erro da função inversa: {np.linalg.norm(np.eye(A.shape[0]) - (A @ inv_A))}')"
   ]
  },
  {
   "cell_type": "markdown",
   "metadata": {
    "id": "1mlLHJLBewoF"
   },
   "source": [
    "### 2) Implemente o método de Newton para sistemas usando a rotina implementada no item anterior.\n",
    "Lembre-se de especificar o critério de parada utilizado."
   ]
  },
  {
   "cell_type": "code",
   "execution_count": null,
   "metadata": {},
   "outputs": [],
   "source": [
    "def solve_system(A, b):\n",
    "    L, U = decompLU(A)\n",
    "    y = solve_triangular_inferior(L, b[:,k])\n",
    "    x = solve_triangular_superior(U, y)\n",
    "    return x"
   ]
  },
  {
   "cell_type": "markdown",
   "metadata": {
    "id": "adavgTlSprXA"
   },
   "source": [
    "Para testar, definimos o sistema \n",
    "$$x²+y²=2$$\n",
    "$$x²-\\frac{y²}{9}=1$$"
   ]
  },
  {
   "cell_type": "code",
   "execution_count": null,
   "metadata": {
    "id": "siy_7b1pm-Yf"
   },
   "outputs": [],
   "source": [
    "def f(X):\n",
    "  x1, x2 = X[0], X[1]\n",
    "  f1 = x1**2 + x2**2 - 2\n",
    "  f2 = x1**2 - (x2**2)/9 - 1\n",
    "  return np.array([f1, f2])"
   ]
  },
  {
   "cell_type": "code",
   "execution_count": null,
   "metadata": {
    "id": "ius_vU57oG_g"
   },
   "outputs": [],
   "source": [
    "def jac(X):\n",
    "  x1, x2 = X[0], X[1]\n",
    "  diff_1 = np.array([2*x1, 2*x2])\n",
    "  diff_2 = np.array([2*x1, -2*x2/9])\n",
    "  return np.array([diff_1, diff_2])"
   ]
  },
  {
   "cell_type": "markdown",
   "metadata": {
    "id": "CMuAdsCdrKEu"
   },
   "source": [
    "Também vamos usar uma pequena ferramenta para checar se a solução do problema está correta"
   ]
  },
  {
   "cell_type": "code",
   "execution_count": null,
   "metadata": {
    "id": "xe72Sy1-rSN0"
   },
   "outputs": [],
   "source": [
    "def assert_method(method, x0, f, jac):\n",
    "    x = method(x0, f, jac)\n",
    "    zeros = f(x)\n",
    "    tol = 10e-10\n",
    "    norm = np.linalg.norm(zeros - np.zeros_like(zeros))\n",
    "    if norm < tol:\n",
    "        print(f'A solução do sistema f é {x}.')\n",
    "    else:\n",
    "        print('A solução não existe ou não pode ser calculada.')"
   ]
  },
  {
   "cell_type": "markdown",
   "metadata": {},
   "source": [
    "O sistema para resolver equações não lineares proposto é da forma\n",
    "\n",
    "$$x^{k+1} = x^k − J_F(x^k)^{−1}F(x^k)$$"
   ]
  },
  {
   "cell_type": "code",
   "execution_count": null,
   "metadata": {
    "id": "j4KwKmNHzFv2"
   },
   "outputs": [],
   "source": [
    "def newton_system2(x0, F, jac, tol=10e-5, kmax=1000):\n",
    "  x = x0\n",
    "  for k in range(kmax):\n",
    "    j_x_inv = np.linalg.inv(jac(x))\n",
    "    F_x = F(x)\n",
    "    v = j_x_inv @ F_x\n",
    "    x = x - v\n",
    "    if np.linalg.norm(v) < tol:\n",
    "      break\n",
    "\n",
    "  return x"
   ]
  },
  {
   "cell_type": "code",
   "execution_count": null,
   "metadata": {
    "colab": {
     "base_uri": "https://localhost:8080/"
    },
    "id": "5Bxyrp52o2Di",
    "outputId": "b15d83d8-0b7e-447d-8e27-864c21172488"
   },
   "outputs": [],
   "source": [
    "x0 = np.array([2, 2])\n",
    "x = newton_system2(x0, f, jac)"
   ]
  },
  {
   "cell_type": "markdown",
   "metadata": {
    "id": "2oWxJwjWqKLe"
   },
   "source": [
    "Verificamos se a solução está certa."
   ]
  },
  {
   "cell_type": "code",
   "execution_count": null,
   "metadata": {
    "colab": {
     "base_uri": "https://localhost:8080/"
    },
    "id": "ggxixnwzqJ55",
    "outputId": "657e1030-c825-4b13-c362-cd8030ec8ef5"
   },
   "outputs": [],
   "source": [
    "assert_method(newton_system2, x0, f, jac)"
   ]
  },
  {
   "cell_type": "markdown",
   "metadata": {
    "id": "6H_OsWdQxE7E"
   },
   "source": [
    "### 3) Implemente novamente o método de Newton para sistemas usando o algoritmo anterior. \n",
    "Utilize as rotinas já implementadas neste trabalho para resolução do sistema linear, indicando sempre\n",
    "qual está usando."
   ]
  },
  {
   "cell_type": "code",
   "execution_count": null,
   "metadata": {
    "id": "JBjVyQY49bT6"
   },
   "outputs": [],
   "source": [
    "def newton_system3(x0, F, jac, tol=10e-10, kmax=10000):\n",
    "  x = x0\n",
    "  for k in range(kmax):\n",
    "    j_x = (jac(x))\n",
    "    F_x = F(x)\n",
    "    z = solve_matrix_system(j_x, F_x)\n",
    "    x = x - z\n",
    "    if np.linalg.norm(z) < tol:\n",
    "      break\n",
    "\n",
    "  return x"
   ]
  },
  {
   "cell_type": "code",
   "execution_count": null,
   "metadata": {},
   "outputs": [],
   "source": [
    "x = newton_system3(x0, f, jac)"
   ]
  },
  {
   "cell_type": "code",
   "execution_count": null,
   "metadata": {
    "colab": {
     "base_uri": "https://localhost:8080/",
     "height": 331
    },
    "id": "VJ4_RM0IqxdG",
    "outputId": "81cc1a43-1fb2-46d4-bfe5-498096c30fac"
   },
   "outputs": [],
   "source": [
    "assert_method(newton_system3, x0, f, jac)"
   ]
  },
  {
   "cell_type": "markdown",
   "metadata": {
    "id": "iQ842ecAx3HS"
   },
   "source": [
    "### 4) Dada a equação de um círculo (x − a)2 + (y − b)2 = R2 e três pontos que passam por esse círculo"
   ]
  },
  {
   "cell_type": "markdown",
   "metadata": {
    "id": "UOUEeS_BsfW9"
   },
   "source": [
    "#### a) Monte um sistema não-linear para determinar a, b e R"
   ]
  },
  {
   "cell_type": "markdown",
   "metadata": {
    "id": "PA9AR9tBskP2"
   },
   "source": [
    "\\begin{align}\n",
    "(8.21 - a)²+b²=R² \\tag{1} \\\\\n",
    "(0.34-a)²-(6.62-b)²=R² \\tag{2} \\\\\n",
    "(5.96-a)²-(-1.12-b)²=R² \\tag{3}\n",
    "\\end{align}"
   ]
  },
  {
   "cell_type": "code",
   "execution_count": null,
   "metadata": {
    "id": "Q5GD8tFnxyKO"
   },
   "outputs": [],
   "source": [
    "def func(X):\n",
    "  a, b, R = X[0], X[1], X[2]\n",
    "  f1 = (8.21 - a)**2 + b**2 - R**2\n",
    "  f2 = (0.34 - a)**2 + (6.62 - b)**2 - R**2\n",
    "  f3 = (5.96 - a)**2 + (-1.12 - b)**2 - R**2\n",
    "  return np.array([f1, f2, f3])"
   ]
  },
  {
   "cell_type": "code",
   "execution_count": null,
   "metadata": {
    "id": "8bFgeNGluQ9o"
   },
   "outputs": [],
   "source": [
    "def jac(X):\n",
    "  a, b, R = X[0], X[1], X[2]\n",
    "  f1 = np.array([2*(a - 8.21), 2*(b), -2*R])\n",
    "  f2 = np.array([2*(a - 0.34), 2*(b - 6.62), -2*R])\n",
    "  f3 = np.array([2*(a - 5.96), 2*(b + 1.12), -2*R])\n",
    "  return np.array([f1, f2, f3])"
   ]
  },
  {
   "cell_type": "code",
   "execution_count": null,
   "metadata": {
    "id": "El3iB321t4KT"
   },
   "outputs": [],
   "source": [
    "x0 = np.array([1.0, 2.0, 3.0])"
   ]
  },
  {
   "cell_type": "markdown",
   "metadata": {},
   "source": [
    "#### b) Resolva o sistema não-linear utilizando os códigos feitos nos itens 2 e 3"
   ]
  },
  {
   "cell_type": "code",
   "execution_count": null,
   "metadata": {
    "colab": {
     "base_uri": "https://localhost:8080/"
    },
    "id": "757ZYqgRuJvS",
    "outputId": "f3eb89aa-da6f-4a7b-8d32-e3b5c9a08b98"
   },
   "outputs": [],
   "source": [
    "start = time.time()\n",
    "print(assert_method(newton_system2, x0, func, jac))\n",
    "end = time.time()\n",
    "print(f'Tempo gasto: {end-start}s')"
   ]
  },
  {
   "cell_type": "code",
   "execution_count": null,
   "metadata": {
    "colab": {
     "base_uri": "https://localhost:8080/"
    },
    "id": "mgDIsjjWwk9M",
    "outputId": "f43a8dfb-9c95-49e8-af19-2b4c529d6c7b"
   },
   "outputs": [],
   "source": [
    "start = time.time()\n",
    "print(assert_method(newton_system3, x0, func, jac))\n",
    "end = time.time()\n",
    "print(f'Tempo gasto: {end-start}s')"
   ]
  },
  {
   "cell_type": "markdown",
   "metadata": {},
   "source": [
    "#### c) Houve melhora no tempo de execução do código implementado no item 3?"
   ]
  },
  {
   "cell_type": "markdown",
   "metadata": {},
   "source": [
    "Observando acima o tempo gasto por ambas implementações do método de Newton, observa-se que o método sem inversa obteve desempenho 3 vezes melhor."
   ]
  },
  {
   "cell_type": "markdown",
   "metadata": {},
   "source": [
    "#### d) Finalmente, com os resultados a, b e R, utilizando a equação do círculo dada por $(x − a)^2 + (y − b)^2 = R^2$, imprima o gráfico que o representa."
   ]
  },
  {
   "cell_type": "code",
   "execution_count": null,
   "metadata": {},
   "outputs": [],
   "source": [
    "circle_x, circle_y, circle_r = newton_system3(x0, func, jac)"
   ]
  },
  {
   "cell_type": "code",
   "execution_count": null,
   "metadata": {},
   "outputs": [],
   "source": [
    "import matplotlib.pyplot as plt\n",
    "\n",
    "x = np.linspace(circle_x - circle_r - 1, circle_x + circle_r + 1, 150 )\n",
    "y = np.linspace(circle_y - circle_r - 1, circle_y + circle_r + 1, 150 )\n",
    " \n",
    "a, b = np.meshgrid( x , y )\n",
    "\n",
    "C = (a - circle_x) ** 2 + (b - circle_y) ** 2 - circle_r**2\n",
    " \n",
    "figure, axes = plt.subplots()\n",
    " \n",
    "axes.contour( a , b , C , [0] )\n",
    "axes.set_aspect( 1 )\n",
    "\n",
    "plt.plot(8.21, 0, 'bo')\n",
    "plt.plot(0.34, 6.62, 'bo')\n",
    "plt.plot(5.96, -1.12, 'bo')\n",
    "\n",
    " \n",
    "plt.title( 'Center-Radius form Circle' )\n",
    "plt.show()"
   ]
  }
 ],
 "metadata": {
  "colab": {
   "provenance": []
  },
  "kernelspec": {
   "display_name": "venv",
   "language": "python",
   "name": "venv"
  },
  "language_info": {
   "codemirror_mode": {
    "name": "ipython",
    "version": 3
   },
   "file_extension": ".py",
   "mimetype": "text/x-python",
   "name": "python",
   "nbconvert_exporter": "python",
   "pygments_lexer": "ipython3",
   "version": "3.10.10"
  }
 },
 "nbformat": 4,
 "nbformat_minor": 1
}
