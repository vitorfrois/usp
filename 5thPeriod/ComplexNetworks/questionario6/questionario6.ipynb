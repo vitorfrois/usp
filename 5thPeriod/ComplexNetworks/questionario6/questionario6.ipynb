{
 "cells": [
  {
   "cell_type": "code",
   "execution_count": 2,
   "metadata": {
    "id": "ZQZO2kQ0jbgZ"
   },
   "outputs": [],
   "source": [
    "from numpy  import *\n",
    "import numpy as np\n",
    "import matplotlib.pyplot as plt\n",
    "import networkx as nx"
   ]
  },
  {
   "cell_type": "code",
   "execution_count": 3,
   "metadata": {
    "id": "b975fz_LnGbo"
   },
   "outputs": [],
   "source": [
    "def degree_distribution(G):\n",
    "    vk = dict(G.degree())\n",
    "    vk = list(vk.values()) # we get only the degree values\n",
    "    maxk = np.max(vk)\n",
    "    mink = np.min(min)\n",
    "    kvalues= arange(0,maxk+1) # possible values of k\n",
    "    Pk = np.zeros(maxk+1) # P(k)\n",
    "    for k in vk:\n",
    "        Pk[k] = Pk[k] + 1\n",
    "    Pk = Pk/sum(Pk) # the sum of the elements of P(k) must to be equal to one\n",
    "    return kvalues,Pk"
   ]
  },
  {
   "cell_type": "code",
   "execution_count": 1,
   "metadata": {
    "id": "sk0FloSAnI8y"
   },
   "outputs": [],
   "source": [
    "def momment_of_degree_distribution(G,m):\n",
    "    k,Pk = degree_distribution(G)\n",
    "    M = sum((k**m)*Pk)\n",
    "    return M"
   ]
  },
  {
   "cell_type": "markdown",
   "metadata": {
    "id": "967_MebZjL8y"
   },
   "source": [
    "> Questão 1: Calcule o coeficiente aglomeração e segundo momento do grau para uma rede BA com grau médio igual a 10 e N=1000."
   ]
  },
  {
   "cell_type": "code",
   "execution_count": 4,
   "metadata": {
    "id": "-4ybfurKjAoI"
   },
   "outputs": [],
   "source": [
    "N = 1000\n",
    "av_degree = 10\n",
    "m = int(av_degree/2)"
   ]
  },
  {
   "cell_type": "code",
   "execution_count": 15,
   "metadata": {
    "colab": {
     "base_uri": "https://localhost:8080/"
    },
    "id": "BIcwhnw4jeUu",
    "outputId": "64fefa29-e27a-45ae-f6f3-dd2f738498dd"
   },
   "outputs": [
    {
     "name": "stdout",
     "output_type": "stream",
     "text": [
      "Segundo Momento do Grau: 203.6459\n",
      "Average clustering: 0.0395\n"
     ]
    }
   ],
   "source": [
    "k2mean = []\n",
    "avClusterin = []\n",
    "\n",
    "for i in range(20):\n",
    "  GBA = nx.barabasi_albert_graph(N, m)\n",
    "  k2 = momment_of_degree_distribution(GBA, 2)\n",
    "  k2mean.append(k2)\n",
    "  avClusterin.append(nx.average_clustering(GBA))\n",
    "\n",
    "print(\"Segundo Momento do Grau:\", sum(k2mean)/len(k2mean))\n",
    "print(\"Average clustering:\", \"%3.4f\"%(sum(avClusterin)/len(avClusterin)))\n",
    "\n"
   ]
  },
  {
   "cell_type": "markdown",
   "metadata": {
    "id": "czgQQOY3o4Hp"
   },
   "source": [
    "> Questão 2: Considere uma rede aleatória (Erdos-Renyi) e uma rede BA com N=1000 vértices e grau médio 10. Qual o valor da entropia de Shannon da distribuição do grau para essas redes?"
   ]
  },
  {
   "cell_type": "code",
   "execution_count": 16,
   "metadata": {
    "id": "jWPjaIiTsy0J"
   },
   "outputs": [],
   "source": [
    "def shannon_entropy(G):\n",
    "    k,Pk = degree_distribution(G)\n",
    "    H = 0\n",
    "    for p in Pk:\n",
    "        if(p > 0):\n",
    "            H = H - p*math.log(p, 2)\n",
    "    return H"
   ]
  },
  {
   "cell_type": "code",
   "execution_count": 17,
   "metadata": {
    "colab": {
     "base_uri": "https://localhost:8080/"
    },
    "id": "UUBTDlAEpHGT",
    "outputId": "560277dd-42c0-4b68-bd43-0298478dd824"
   },
   "outputs": [
    {
     "name": "stdout",
     "output_type": "stream",
     "text": [
      "3.6644506867837343\n",
      "3.6926675791264083\n"
     ]
    }
   ],
   "source": [
    "N = 1000\n",
    "av_degree = 10\n",
    "probER = av_degree/(N-1)\n",
    "mBA = int(av_degree/2)\n",
    "\n",
    "ShannonEntropy = []\n",
    "\n",
    "for i in range(20):\n",
    "  GER = nx.gnp_random_graph(N, probER, seed=None, directed=False)\n",
    "  ShannonEntropy.append(shannon_entropy(GER))\n",
    "\n",
    "print(np.mean(ShannonEntropy))\n",
    "\n",
    "ShannonEntropy.clear()\n",
    "for i in range(20):\n",
    "  GBA = nx.barabasi_albert_graph(N, m)\n",
    "  ShannonEntropy.append(shannon_entropy(GER))\n",
    "\n",
    "print(np.mean(ShannonEntropy))\n"
   ]
  },
  {
   "cell_type": "markdown",
   "metadata": {
    "id": "sX5OTRNhtiOz"
   },
   "source": [
    "> Questão 3: Considere o modelo de Barabási-Albert com N=1000 e grau médio igual a 10. Calcule o coeficiente de correlação entre o grau e a medida eigenvector centrality. "
   ]
  },
  {
   "cell_type": "code",
   "execution_count": 18,
   "metadata": {
    "id": "zcmzW6vlvyVk"
   },
   "outputs": [],
   "source": [
    "N = 1000\n",
    "av_degree = 10\n",
    "mBA = int(av_degree/2)"
   ]
  },
  {
   "cell_type": "code",
   "execution_count": 19,
   "metadata": {
    "colab": {
     "base_uri": "https://localhost:8080/"
    },
    "id": "_xznGUS7vpVb",
    "outputId": "43f38e35-a1e0-40a8-eba7-3bdf53975442"
   },
   "outputs": [
    {
     "name": "stdout",
     "output_type": "stream",
     "text": [
      "1000\n",
      "0.931813391735752\n"
     ]
    }
   ],
   "source": [
    "mean = []\n",
    "for i in range(1):\n",
    "  GBA = nx.barabasi_albert_graph(N, m)\n",
    "\n",
    "  vk = dict(GBA.degree())\n",
    "  vk = list(vk.values())\n",
    "\n",
    "  EC = dict(nx.eigenvector_centrality(GBA))\n",
    "  EC = list(EC.values())\n",
    "  print(len(EC))\n",
    "\n",
    "  correlatePearson = corrcoef(vk, EC)[0, 1]\n",
    "  mean.append(correlatePearson)\n",
    "\n",
    "print(np.mean(mean))\n",
    "\n",
    "\n"
   ]
  },
  {
   "cell_type": "markdown",
   "metadata": {
    "id": "D6Wx7HkbmpW6"
   },
   "source": [
    "> Questão 4: Calcule a correlação entra a medida betweeness centrality e o grau para uma rede BA. Considere N = 500 e grau médio 10."
   ]
  },
  {
   "cell_type": "code",
   "execution_count": 20,
   "metadata": {
    "id": "c0_lITuem_Cd"
   },
   "outputs": [],
   "source": [
    "N = 500\n",
    "av_degree = 10\n",
    "mBA = int(av_degree/2)"
   ]
  },
  {
   "cell_type": "code",
   "execution_count": 23,
   "metadata": {
    "colab": {
     "base_uri": "https://localhost:8080/"
    },
    "id": "S7QO4J2Snb7Z",
    "outputId": "345af756-b038-4aa4-df3a-c01f9dc22845"
   },
   "outputs": [
    {
     "name": "stdout",
     "output_type": "stream",
     "text": [
      "0.953001826799793\n"
     ]
    }
   ],
   "source": [
    "mean = []\n",
    "for i in range(20):\n",
    "  GBA = nx.barabasi_albert_graph(N, m)\n",
    "\n",
    "  vk = dict(GBA.degree())\n",
    "  vk = list(vk.values())\n",
    "\n",
    "  BC = dict(nx.betweenness_centrality(GBA))\n",
    "  BC = list(BC.values())\n",
    "\n",
    "  correlatePearson = corrcoef(vk, BC)[0, 1]\n",
    "  mean.append(correlatePearson)\n",
    "\n",
    "print(np.mean(mean))"
   ]
  },
  {
   "cell_type": "markdown",
   "metadata": {
    "id": "4tpEUxpuqqUH"
   },
   "source": [
    "> Questão 5: Calcule o segundo momento do grau para o modelo de configuração com a = 3. Considere N = 500.\n"
   ]
  },
  {
   "cell_type": "code",
   "execution_count": 24,
   "metadata": {
    "id": "778ouNyqq0_j"
   },
   "outputs": [],
   "source": [
    "from random import *"
   ]
  },
  {
   "cell_type": "code",
   "execution_count": 25,
   "metadata": {
    "id": "T__S9eWRq2sx"
   },
   "outputs": [],
   "source": [
    "a = 3\n",
    "N = 500"
   ]
  },
  {
   "cell_type": "code",
   "execution_count": 29,
   "metadata": {
    "colab": {
     "base_uri": "https://localhost:8080/"
    },
    "id": "iUSc4zkDrSDO",
    "outputId": "abe02967-398e-4dc2-f02e-2b21409daf43"
   },
   "outputs": [
    {
     "name": "stdout",
     "output_type": "stream",
     "text": [
      "segundo momento do grau:  17.408946100584302\n"
     ]
    }
   ],
   "source": [
    "k2mean = []\n",
    "for _ in range(500):\n",
    "  seq = np.random.zipf(a, N) #Zipf distribution\n",
    "  # seq = np.random.poisson(10, N) #Poisson distribution\n",
    "  if(sum(seq)%2 != 0): # the sum of stubs have to be even\n",
    "      pos = randint(0, len(seq) - 1)\n",
    "      seq[pos] = seq[pos]+ 1\n",
    "\n",
    "  G = nx.configuration_model(seq)\n",
    "  Gcc = sorted(nx.connected_components(G), key=len, reverse=True)\n",
    "  G = G.subgraph(Gcc[0])\n",
    "  k2 = momment_of_degree_distribution(G, 2)\n",
    "  k2mean.append(k2)\n",
    "\n",
    "# print(k2mean)\n",
    "print(\"segundo momento do grau: \", np.mean(k2mean))\n",
    "\n"
   ]
  },
  {
   "cell_type": "code",
   "execution_count": null,
   "metadata": {
    "id": "RKlx93gytmzL"
   },
   "outputs": [],
   "source": []
  },
  {
   "cell_type": "code",
   "execution_count": null,
   "metadata": {},
   "outputs": [],
   "source": []
  }
 ],
 "metadata": {
  "colab": {
   "provenance": []
  },
  "kernelspec": {
   "display_name": "Python 3 (ipykernel)",
   "language": "python",
   "name": "python3"
  },
  "language_info": {
   "codemirror_mode": {
    "name": "ipython",
    "version": 3
   },
   "file_extension": ".py",
   "mimetype": "text/x-python",
   "name": "python",
   "nbconvert_exporter": "python",
   "pygments_lexer": "ipython3",
   "version": "3.10.10"
  }
 },
 "nbformat": 4,
 "nbformat_minor": 1
}
